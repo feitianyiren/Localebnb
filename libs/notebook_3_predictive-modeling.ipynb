{
 "cells": [
  {
   "cell_type": "markdown",
   "metadata": {},
   "source": [
    "#Predictive Modeling"
   ]
  },
  {
   "cell_type": "code",
   "execution_count": 226,
   "metadata": {
    "collapsed": false
   },
   "outputs": [
    {
     "name": "stdout",
     "output_type": "stream",
     "text": [
      "Populating the interactive namespace from numpy and matplotlib\n"
     ]
    }
   ],
   "source": [
    "import re\n",
    "import string\n",
    "import nltk\n",
    "import numpy as np\n",
    "import pandas as pd\n",
    "from airbnb.airbnbneighborhood import AirBnBNeighborhood\n",
    "from airbnb.airbnblisting import AirBnBListing\n",
    "\n",
    "pd.options.display.mpl_style = 'default'    # This makes things pretty!\n",
    "%pylab inline"
   ]
  },
  {
   "cell_type": "code",
   "execution_count": 257,
   "metadata": {
    "collapsed": true
   },
   "outputs": [],
   "source": [
    "air_hood = AirBnBNeighborhood(db_name='airbnb', coll_name='neighborhoods')\n",
    "air_listing = AirBnBListing(db_name='airbnb', coll_name='listings')"
   ]
  },
  {
   "cell_type": "code",
   "execution_count": 11,
   "metadata": {
    "collapsed": false
   },
   "outputs": [
    {
     "data": {
      "text/html": [
       "<div style=\"max-height:1000px;max-width:1500px;overflow:auto;\">\n",
       "<table border=\"1\" class=\"dataframe\">\n",
       "  <thead>\n",
       "    <tr style=\"text-align: right;\">\n",
       "      <th></th>\n",
       "      <th>_id</th>\n",
       "      <th>city</th>\n",
       "      <th>city_id</th>\n",
       "      <th>content</th>\n",
       "      <th>data_bbox</th>\n",
       "      <th>data_x</th>\n",
       "      <th>data_y</th>\n",
       "      <th>description</th>\n",
       "      <th>dt</th>\n",
       "      <th>having_a_car</th>\n",
       "      <th>...</th>\n",
       "      <th>neighborhood</th>\n",
       "      <th>neighboring_hoods</th>\n",
       "      <th>pickle</th>\n",
       "      <th>public_trans</th>\n",
       "      <th>requests_meta</th>\n",
       "      <th>similar_hoods</th>\n",
       "      <th>tags</th>\n",
       "      <th>time</th>\n",
       "      <th>traits</th>\n",
       "      <th>url</th>\n",
       "    </tr>\n",
       "  </thead>\n",
       "  <tbody>\n",
       "    <tr>\n",
       "      <th>0</th>\n",
       "      <td> 0</td>\n",
       "      <td> san-francisco</td>\n",
       "      <td> 1</td>\n",
       "      <td> \\n\\n\\n&lt;!DOCTYPE html&gt;\\n&lt;html lang=\"en\"  xmlns:...</td>\n",
       "      <td> [[37.77316124717365,-122.43867913456722],[37.7...</td>\n",
       "      <td>-122.433850</td>\n",
       "      <td> 37.776497</td>\n",
       "      <td> Centered on its namesake park, Alamo Square pr...</td>\n",
       "      <td>2015-06-15 18:50:29.851000</td>\n",
       "      <td>  Possible</td>\n",
       "      <td>...</td>\n",
       "      <td>   Alamo Square</td>\n",
       "      <td> [Western Addition/NOPA, Lower Haight, Hayes Va...</td>\n",
       "      <td> ccopy_reg\\n_reconstructor\\np1\\n(crequests.mode...</td>\n",
       "      <td> Possible</td>\n",
       "      <td> {u'is_redirect': False, u'status_code': 200, u...</td>\n",
       "      <td>       [potrero-hill, bernal-heights, noe-valley]</td>\n",
       "      <td> [painted ladies, picturesque, views, colorful ...</td>\n",
       "      <td> 1.434394e+09</td>\n",
       "      <td> [Loved by San Franciscans, Stunning Views, Tou...</td>\n",
       "      <td> https://www.airbnb.com/locations/san-francisco...</td>\n",
       "    </tr>\n",
       "    <tr>\n",
       "      <th>1</th>\n",
       "      <td> 1</td>\n",
       "      <td> san-francisco</td>\n",
       "      <td> 1</td>\n",
       "      <td> \\n\\n\\n&lt;!DOCTYPE html&gt;\\n&lt;html lang=\"en\"  xmlns:...</td>\n",
       "      <td> [[37.707125302005934,-122.40811768178543],[37....</td>\n",
       "      <td>-122.385751</td>\n",
       "      <td> 37.730901</td>\n",
       "      <td> Bayview's determined community continues to sp...</td>\n",
       "      <td>2015-06-15 18:50:32.790000</td>\n",
       "      <td>      Easy</td>\n",
       "      <td>...</td>\n",
       "      <td>        Bayview</td>\n",
       "      <td> [Dogpatch, Portola, Potrero Hill, Visitacion V...</td>\n",
       "      <td> ccopy_reg\\n_reconstructor\\np1\\n(crequests.mode...</td>\n",
       "      <td> Possible</td>\n",
       "      <td> {u'is_redirect': False, u'status_code': 200, u...</td>\n",
       "      <td>       [visitacion-valley, excelsior, tenderloin]</td>\n",
       "      <td> [shipyard, revitalizing, waterfront, sunny, sk...</td>\n",
       "      <td> 1.434394e+09</td>\n",
       "      <td>                            [Artsy, Peace &amp; Quiet]</td>\n",
       "      <td> https://www.airbnb.com/locations/san-francisco...</td>\n",
       "    </tr>\n",
       "    <tr>\n",
       "      <th>2</th>\n",
       "      <td> 2</td>\n",
       "      <td> san-francisco</td>\n",
       "      <td> 1</td>\n",
       "      <td> \\n\\n\\n&lt;!DOCTYPE html&gt;\\n&lt;html lang=\"en\"  xmlns:...</td>\n",
       "      <td> [[37.73161432156119,-122.4336890756706],[37.74...</td>\n",
       "      <td>-122.416407</td>\n",
       "      <td> 37.739872</td>\n",
       "      <td> Outdoor enthusiasts, indoor bookworms, and pet...</td>\n",
       "      <td>2015-06-15 18:50:36.265000</td>\n",
       "      <td>      Easy</td>\n",
       "      <td>...</td>\n",
       "      <td> Bernal Heights</td>\n",
       "      <td> [Glen Park, Mission Terrace, Portola, Potrero ...</td>\n",
       "      <td> ccopy_reg\\n_reconstructor\\np1\\n(crequests.mode...</td>\n",
       "      <td> Possible</td>\n",
       "      <td> {u'is_redirect': False, u'status_code': 200, u...</td>\n",
       "      <td>             [potrero-hill, noe-valley, dogpatch]</td>\n",
       "      <td> [charming, cortland, far from downtown, lesbia...</td>\n",
       "      <td> 1.434394e+09</td>\n",
       "      <td> [Stunning Views, Peace &amp; Quiet, Loved by San F...</td>\n",
       "      <td> https://www.airbnb.com/locations/san-francisco...</td>\n",
       "    </tr>\n",
       "    <tr>\n",
       "      <th>3</th>\n",
       "      <td> 3</td>\n",
       "      <td> san-francisco</td>\n",
       "      <td> 1</td>\n",
       "      <td> \\n\\n\\n&lt;!DOCTYPE html&gt;\\n&lt;html lang=\"en\"  xmlns:...</td>\n",
       "      <td> [[37.790328234954075,-122.41057147360783],[37....</td>\n",
       "      <td>-122.407279</td>\n",
       "      <td> 37.794901</td>\n",
       "      <td> As North America's oldest and largest Chinatow...</td>\n",
       "      <td>2015-06-15 18:50:39.552000</td>\n",
       "      <td> Difficult</td>\n",
       "      <td>...</td>\n",
       "      <td>      Chinatown</td>\n",
       "      <td> [North Beach, Downtown, Financial District, Te...</td>\n",
       "      <td> ccopy_reg\\n_reconstructor\\np1\\n(crequests.mode...</td>\n",
       "      <td>     Easy</td>\n",
       "      <td> {u'is_redirect': False, u'status_code': 200, u...</td>\n",
       "      <td> [mission-district, downtown, financial-district]</td>\n",
       "      <td> [tourists, colors, historic, cuisine, alleys, ...</td>\n",
       "      <td> 1.434394e+09</td>\n",
       "      <td>                      [Touristy, Shopping, Dining]</td>\n",
       "      <td> https://www.airbnb.com/locations/san-francisco...</td>\n",
       "    </tr>\n",
       "    <tr>\n",
       "      <th>4</th>\n",
       "      <td> 4</td>\n",
       "      <td> san-francisco</td>\n",
       "      <td> 1</td>\n",
       "      <td> \\n\\n\\n&lt;!DOCTYPE html&gt;\\n&lt;html lang=\"en\"  xmlns:...</td>\n",
       "      <td> [[37.77418243823566,-122.42221226073246],[37.7...</td>\n",
       "      <td>-122.418076</td>\n",
       "      <td> 37.779467</td>\n",
       "      <td> Home to San Francisco's City Hall and surround...</td>\n",
       "      <td>2015-06-15 18:50:42.693000</td>\n",
       "      <td> Difficult</td>\n",
       "      <td>...</td>\n",
       "      <td>   Civic Center</td>\n",
       "      <td> [Tenderloin, Hayes Valley, Western Addition/NO...</td>\n",
       "      <td> ccopy_reg\\n_reconstructor\\np1\\n(crequests.mode...</td>\n",
       "      <td>     Easy</td>\n",
       "      <td> {u'is_redirect': False, u'status_code': 200, u...</td>\n",
       "      <td>             [glen-park, noe-valley, south-beach]</td>\n",
       "      <td> [symphony, ballet, museum, opera, rallies, pol...</td>\n",
       "      <td> 1.434394e+09</td>\n",
       "      <td>                                   [Great Transit]</td>\n",
       "      <td> https://www.airbnb.com/locations/san-francisco...</td>\n",
       "    </tr>\n",
       "  </tbody>\n",
       "</table>\n",
       "<p>5 rows × 21 columns</p>\n",
       "</div>"
      ],
      "text/plain": [
       "   _id           city  city_id  \\\n",
       "0    0  san-francisco        1   \n",
       "1    1  san-francisco        1   \n",
       "2    2  san-francisco        1   \n",
       "3    3  san-francisco        1   \n",
       "4    4  san-francisco        1   \n",
       "\n",
       "                                             content  \\\n",
       "0  \\n\\n\\n<!DOCTYPE html>\\n<html lang=\"en\"  xmlns:...   \n",
       "1  \\n\\n\\n<!DOCTYPE html>\\n<html lang=\"en\"  xmlns:...   \n",
       "2  \\n\\n\\n<!DOCTYPE html>\\n<html lang=\"en\"  xmlns:...   \n",
       "3  \\n\\n\\n<!DOCTYPE html>\\n<html lang=\"en\"  xmlns:...   \n",
       "4  \\n\\n\\n<!DOCTYPE html>\\n<html lang=\"en\"  xmlns:...   \n",
       "\n",
       "                                           data_bbox      data_x     data_y  \\\n",
       "0  [[37.77316124717365,-122.43867913456722],[37.7... -122.433850  37.776497   \n",
       "1  [[37.707125302005934,-122.40811768178543],[37.... -122.385751  37.730901   \n",
       "2  [[37.73161432156119,-122.4336890756706],[37.74... -122.416407  37.739872   \n",
       "3  [[37.790328234954075,-122.41057147360783],[37.... -122.407279  37.794901   \n",
       "4  [[37.77418243823566,-122.42221226073246],[37.7... -122.418076  37.779467   \n",
       "\n",
       "                                         description  \\\n",
       "0  Centered on its namesake park, Alamo Square pr...   \n",
       "1  Bayview's determined community continues to sp...   \n",
       "2  Outdoor enthusiasts, indoor bookworms, and pet...   \n",
       "3  As North America's oldest and largest Chinatow...   \n",
       "4  Home to San Francisco's City Hall and surround...   \n",
       "\n",
       "                          dt having_a_car  \\\n",
       "0 2015-06-15 18:50:29.851000     Possible   \n",
       "1 2015-06-15 18:50:32.790000         Easy   \n",
       "2 2015-06-15 18:50:36.265000         Easy   \n",
       "3 2015-06-15 18:50:39.552000    Difficult   \n",
       "4 2015-06-15 18:50:42.693000    Difficult   \n",
       "\n",
       "                         ...                            neighborhood  \\\n",
       "0                        ...                            Alamo Square   \n",
       "1                        ...                                 Bayview   \n",
       "2                        ...                          Bernal Heights   \n",
       "3                        ...                               Chinatown   \n",
       "4                        ...                            Civic Center   \n",
       "\n",
       "                                   neighboring_hoods  \\\n",
       "0  [Western Addition/NOPA, Lower Haight, Hayes Va...   \n",
       "1  [Dogpatch, Portola, Potrero Hill, Visitacion V...   \n",
       "2  [Glen Park, Mission Terrace, Portola, Potrero ...   \n",
       "3  [North Beach, Downtown, Financial District, Te...   \n",
       "4  [Tenderloin, Hayes Valley, Western Addition/NO...   \n",
       "\n",
       "                                              pickle public_trans  \\\n",
       "0  ccopy_reg\\n_reconstructor\\np1\\n(crequests.mode...     Possible   \n",
       "1  ccopy_reg\\n_reconstructor\\np1\\n(crequests.mode...     Possible   \n",
       "2  ccopy_reg\\n_reconstructor\\np1\\n(crequests.mode...     Possible   \n",
       "3  ccopy_reg\\n_reconstructor\\np1\\n(crequests.mode...         Easy   \n",
       "4  ccopy_reg\\n_reconstructor\\np1\\n(crequests.mode...         Easy   \n",
       "\n",
       "                                       requests_meta  \\\n",
       "0  {u'is_redirect': False, u'status_code': 200, u...   \n",
       "1  {u'is_redirect': False, u'status_code': 200, u...   \n",
       "2  {u'is_redirect': False, u'status_code': 200, u...   \n",
       "3  {u'is_redirect': False, u'status_code': 200, u...   \n",
       "4  {u'is_redirect': False, u'status_code': 200, u...   \n",
       "\n",
       "                                      similar_hoods  \\\n",
       "0        [potrero-hill, bernal-heights, noe-valley]   \n",
       "1        [visitacion-valley, excelsior, tenderloin]   \n",
       "2              [potrero-hill, noe-valley, dogpatch]   \n",
       "3  [mission-district, downtown, financial-district]   \n",
       "4              [glen-park, noe-valley, south-beach]   \n",
       "\n",
       "                                                tags          time  \\\n",
       "0  [painted ladies, picturesque, views, colorful ...  1.434394e+09   \n",
       "1  [shipyard, revitalizing, waterfront, sunny, sk...  1.434394e+09   \n",
       "2  [charming, cortland, far from downtown, lesbia...  1.434394e+09   \n",
       "3  [tourists, colors, historic, cuisine, alleys, ...  1.434394e+09   \n",
       "4  [symphony, ballet, museum, opera, rallies, pol...  1.434394e+09   \n",
       "\n",
       "                                              traits  \\\n",
       "0  [Loved by San Franciscans, Stunning Views, Tou...   \n",
       "1                             [Artsy, Peace & Quiet]   \n",
       "2  [Stunning Views, Peace & Quiet, Loved by San F...   \n",
       "3                       [Touristy, Shopping, Dining]   \n",
       "4                                    [Great Transit]   \n",
       "\n",
       "                                                 url  \n",
       "0  https://www.airbnb.com/locations/san-francisco...  \n",
       "1  https://www.airbnb.com/locations/san-francisco...  \n",
       "2  https://www.airbnb.com/locations/san-francisco...  \n",
       "3  https://www.airbnb.com/locations/san-francisco...  \n",
       "4  https://www.airbnb.com/locations/san-francisco...  \n",
       "\n",
       "[5 rows x 21 columns]"
      ]
     },
     "execution_count": 11,
     "metadata": {},
     "output_type": "execute_result"
    }
   ],
   "source": [
    "hood_df = pd.DataFrame(list(air_hood.coll.find({})))\n",
    "hood_df.head()"
   ]
  },
  {
   "cell_type": "code",
   "execution_count": 19,
   "metadata": {
    "collapsed": false
   },
   "outputs": [
    {
     "data": {
      "text/html": [
       "<div style=\"max-height:1000px;max-width:1500px;overflow:auto;\">\n",
       "<table border=\"1\" class=\"dataframe\">\n",
       "  <thead>\n",
       "    <tr style=\"text-align: right;\">\n",
       "      <th></th>\n",
       "      <th>_id</th>\n",
       "      <th>address</th>\n",
       "      <th>content</th>\n",
       "      <th>description_clean</th>\n",
       "      <th>description_raw</th>\n",
       "      <th>dt</th>\n",
       "      <th>headline</th>\n",
       "      <th>listing_name</th>\n",
       "      <th>neighborhood</th>\n",
       "      <th>num_saved</th>\n",
       "      <th>pickle</th>\n",
       "      <th>price</th>\n",
       "      <th>price_currency</th>\n",
       "      <th>requests_meta</th>\n",
       "      <th>time</th>\n",
       "      <th>url</th>\n",
       "    </tr>\n",
       "  </thead>\n",
       "  <tbody>\n",
       "    <tr>\n",
       "      <th>0</th>\n",
       "      <td>       0</td>\n",
       "      <td>                                               NaN</td>\n",
       "      <td> &lt;!DOCTYPE html&gt;\\n\\n&lt;!--[if lt IE 8]&gt;\\n\\n&lt;html ...</td>\n",
       "      <td>                                               NaN</td>\n",
       "      <td>                                               NaN</td>\n",
       "      <td>2015-06-16 01:07:18.082000</td>\n",
       "      <td> Rent unique accommodations from local hosts in...</td>\n",
       "      <td>                                 NaN</td>\n",
       "      <td>                   N/A</td>\n",
       "      <td>             NaN</td>\n",
       "      <td> ccopy_reg\\n_reconstructor\\np0\\n(crequests.mode...</td>\n",
       "      <td> NaN</td>\n",
       "      <td> NaN</td>\n",
       "      <td> {u'is_redirect': False, u'status_code': 200, u...</td>\n",
       "      <td> 1.434417e+09</td>\n",
       "      <td>       https://www.airbnb.com/rooms/0</td>\n",
       "    </tr>\n",
       "    <tr>\n",
       "      <th>1</th>\n",
       "      <td> 6751767</td>\n",
       "      <td>                             La Torre de Claramunt</td>\n",
       "      <td> &lt;!DOCTYPE html&gt;\\n\\n&lt;!--[if lt IE 8]&gt;\\n\\n&lt;html ...</td>\n",
       "      <td> can gramunt es una masía de origen medieval en...</td>\n",
       "      <td> \\n\\nCan Gramunt es una masía de origen medieva...</td>\n",
       "      <td>2015-06-16 00:21:43.733000</td>\n",
       "      <td> House in La Torre de Claramunt, Spain. Can Gra...</td>\n",
       "      <td>    Acojedor apartamento con piscina</td>\n",
       "      <td>                   N/A</td>\n",
       "      <td>    Saved 1 time</td>\n",
       "      <td> ccopy_reg\\n_reconstructor\\np0\\n(crequests.mode...</td>\n",
       "      <td> 128</td>\n",
       "      <td> USD</td>\n",
       "      <td> {u'is_redirect': False, u'status_code': 200, u...</td>\n",
       "      <td> 1.434414e+09</td>\n",
       "      <td> https://www.airbnb.com/rooms/6751767</td>\n",
       "    </tr>\n",
       "    <tr>\n",
       "      <th>2</th>\n",
       "      <td> 2066868</td>\n",
       "      <td> Masonic Avenue, San Francisco (Western Additio...</td>\n",
       "      <td> &lt;!DOCTYPE html&gt;\\n\\n&lt;!--[if lt IE 8]&gt;\\n\\n&lt;html ...</td>\n",
       "      <td>                                               NaN</td>\n",
       "      <td>                                               NaN</td>\n",
       "      <td>2015-06-16 00:26:41.821000</td>\n",
       "      <td> Apartment in San Francisco, United States. Bea...</td>\n",
       "      <td> Peaceful Apartment in the Panhandle</td>\n",
       "      <td> Western Addition/NOPA</td>\n",
       "      <td>   Saved 2 times</td>\n",
       "      <td> ccopy_reg\\n_reconstructor\\np0\\n(crequests.mode...</td>\n",
       "      <td> 175</td>\n",
       "      <td> USD</td>\n",
       "      <td> {u'is_redirect': False, u'status_code': 200, u...</td>\n",
       "      <td> 1.434414e+09</td>\n",
       "      <td> https://www.airbnb.com/rooms/2066868</td>\n",
       "    </tr>\n",
       "    <tr>\n",
       "      <th>3</th>\n",
       "      <td>       6</td>\n",
       "      <td>                   Ohio St, San Diego (North Park)</td>\n",
       "      <td> &lt;!DOCTYPE html&gt;\\n\\n&lt;!--[if lt IE 8]&gt;\\n\\n&lt;html ...</td>\n",
       "      <td> the space we are located in the heart of north...</td>\n",
       "      <td> \\nThe Space\\nWe are located in the heart of No...</td>\n",
       "      <td>2015-06-16 01:07:28.142000</td>\n",
       "      <td> House in San Diego, United States. Our Beautif...</td>\n",
       "      <td>  North Park Craftsmen House &amp; Patio</td>\n",
       "      <td>            North Park</td>\n",
       "      <td> Saved 172 times</td>\n",
       "      <td> ccopy_reg\\n_reconstructor\\np0\\n(crequests.mode...</td>\n",
       "      <td> 375</td>\n",
       "      <td> USD</td>\n",
       "      <td> {u'is_redirect': False, u'status_code': 200, u...</td>\n",
       "      <td> 1.434417e+09</td>\n",
       "      <td>       https://www.airbnb.com/rooms/6</td>\n",
       "    </tr>\n",
       "    <tr>\n",
       "      <th>4</th>\n",
       "      <td>       4</td>\n",
       "      <td>                                               NaN</td>\n",
       "      <td> &lt;!DOCTYPE html&gt;\\n\\n&lt;!--[if lt IE 8]&gt;\\n\\n&lt;html ...</td>\n",
       "      <td>                                               NaN</td>\n",
       "      <td>                                               NaN</td>\n",
       "      <td>2015-06-16 01:07:25.203000</td>\n",
       "      <td>                                               NaN</td>\n",
       "      <td>                                 NaN</td>\n",
       "      <td>                   N/A</td>\n",
       "      <td>             NaN</td>\n",
       "      <td> ccopy_reg\\n_reconstructor\\np0\\n(crequests.mode...</td>\n",
       "      <td> NaN</td>\n",
       "      <td> NaN</td>\n",
       "      <td> {u'is_redirect': False, u'status_code': 200, u...</td>\n",
       "      <td> 1.434417e+09</td>\n",
       "      <td>       https://www.airbnb.com/rooms/4</td>\n",
       "    </tr>\n",
       "  </tbody>\n",
       "</table>\n",
       "</div>"
      ],
      "text/plain": [
       "       _id                                            address  \\\n",
       "0        0                                                NaN   \n",
       "1  6751767                              La Torre de Claramunt   \n",
       "2  2066868  Masonic Avenue, San Francisco (Western Additio...   \n",
       "3        6                    Ohio St, San Diego (North Park)   \n",
       "4        4                                                NaN   \n",
       "\n",
       "                                             content  \\\n",
       "0  <!DOCTYPE html>\\n\\n<!--[if lt IE 8]>\\n\\n<html ...   \n",
       "1  <!DOCTYPE html>\\n\\n<!--[if lt IE 8]>\\n\\n<html ...   \n",
       "2  <!DOCTYPE html>\\n\\n<!--[if lt IE 8]>\\n\\n<html ...   \n",
       "3  <!DOCTYPE html>\\n\\n<!--[if lt IE 8]>\\n\\n<html ...   \n",
       "4  <!DOCTYPE html>\\n\\n<!--[if lt IE 8]>\\n\\n<html ...   \n",
       "\n",
       "                                   description_clean  \\\n",
       "0                                                NaN   \n",
       "1  can gramunt es una masía de origen medieval en...   \n",
       "2                                                NaN   \n",
       "3  the space we are located in the heart of north...   \n",
       "4                                                NaN   \n",
       "\n",
       "                                     description_raw  \\\n",
       "0                                                NaN   \n",
       "1  \\n\\nCan Gramunt es una masía de origen medieva...   \n",
       "2                                                NaN   \n",
       "3  \\nThe Space\\nWe are located in the heart of No...   \n",
       "4                                                NaN   \n",
       "\n",
       "                          dt  \\\n",
       "0 2015-06-16 01:07:18.082000   \n",
       "1 2015-06-16 00:21:43.733000   \n",
       "2 2015-06-16 00:26:41.821000   \n",
       "3 2015-06-16 01:07:28.142000   \n",
       "4 2015-06-16 01:07:25.203000   \n",
       "\n",
       "                                            headline  \\\n",
       "0  Rent unique accommodations from local hosts in...   \n",
       "1  House in La Torre de Claramunt, Spain. Can Gra...   \n",
       "2  Apartment in San Francisco, United States. Bea...   \n",
       "3  House in San Diego, United States. Our Beautif...   \n",
       "4                                                NaN   \n",
       "\n",
       "                          listing_name           neighborhood  \\\n",
       "0                                  NaN                    N/A   \n",
       "1     Acojedor apartamento con piscina                    N/A   \n",
       "2  Peaceful Apartment in the Panhandle  Western Addition/NOPA   \n",
       "3   North Park Craftsmen House & Patio             North Park   \n",
       "4                                  NaN                    N/A   \n",
       "\n",
       "         num_saved                                             pickle price  \\\n",
       "0              NaN  ccopy_reg\\n_reconstructor\\np0\\n(crequests.mode...   NaN   \n",
       "1     Saved 1 time  ccopy_reg\\n_reconstructor\\np0\\n(crequests.mode...   128   \n",
       "2    Saved 2 times  ccopy_reg\\n_reconstructor\\np0\\n(crequests.mode...   175   \n",
       "3  Saved 172 times  ccopy_reg\\n_reconstructor\\np0\\n(crequests.mode...   375   \n",
       "4              NaN  ccopy_reg\\n_reconstructor\\np0\\n(crequests.mode...   NaN   \n",
       "\n",
       "  price_currency                                      requests_meta  \\\n",
       "0            NaN  {u'is_redirect': False, u'status_code': 200, u...   \n",
       "1            USD  {u'is_redirect': False, u'status_code': 200, u...   \n",
       "2            USD  {u'is_redirect': False, u'status_code': 200, u...   \n",
       "3            USD  {u'is_redirect': False, u'status_code': 200, u...   \n",
       "4            NaN  {u'is_redirect': False, u'status_code': 200, u...   \n",
       "\n",
       "           time                                   url  \n",
       "0  1.434417e+09        https://www.airbnb.com/rooms/0  \n",
       "1  1.434414e+09  https://www.airbnb.com/rooms/6751767  \n",
       "2  1.434414e+09  https://www.airbnb.com/rooms/2066868  \n",
       "3  1.434417e+09        https://www.airbnb.com/rooms/6  \n",
       "4  1.434417e+09        https://www.airbnb.com/rooms/4  "
      ]
     },
     "execution_count": 19,
     "metadata": {},
     "output_type": "execute_result"
    }
   ],
   "source": [
    "listing_df = pd.DataFrame(list(air_listing.coll.find({})))\n",
    "listing_df.head()"
   ]
  },
  {
   "cell_type": "markdown",
   "metadata": {},
   "source": [
    "###Prepping Features"
   ]
  },
  {
   "cell_type": "code",
   "execution_count": 20,
   "metadata": {
    "collapsed": true
   },
   "outputs": [],
   "source": [
    "listing_df = listing_df[listing_df['description_raw'].isnull() == False]"
   ]
  },
  {
   "cell_type": "code",
   "execution_count": 21,
   "metadata": {
    "collapsed": false
   },
   "outputs": [
    {
     "data": {
      "text/html": [
       "<div style=\"max-height:1000px;max-width:1500px;overflow:auto;\">\n",
       "<table border=\"1\" class=\"dataframe\">\n",
       "  <thead>\n",
       "    <tr style=\"text-align: right;\">\n",
       "      <th></th>\n",
       "      <th>_id</th>\n",
       "      <th>address</th>\n",
       "      <th>content</th>\n",
       "      <th>description_clean</th>\n",
       "      <th>description_raw</th>\n",
       "      <th>dt</th>\n",
       "      <th>headline</th>\n",
       "      <th>listing_name</th>\n",
       "      <th>neighborhood</th>\n",
       "      <th>num_saved</th>\n",
       "      <th>pickle</th>\n",
       "      <th>price</th>\n",
       "      <th>price_currency</th>\n",
       "      <th>requests_meta</th>\n",
       "      <th>time</th>\n",
       "      <th>url</th>\n",
       "      <th>city</th>\n",
       "      <th>traits</th>\n",
       "    </tr>\n",
       "  </thead>\n",
       "  <tbody>\n",
       "    <tr>\n",
       "      <th>0</th>\n",
       "      <td> 6751766</td>\n",
       "      <td>                    Bush St, San Francisco</td>\n",
       "      <td> &lt;!DOCTYPE html&gt;\\n\\n&lt;!--[if lt IE 8]&gt;\\n\\n&lt;html ...</td>\n",
       "      <td> interaction with guests i m gone m f 6am to 7p...</td>\n",
       "      <td> \\nInteraction with Guests\\nI'm gone M-F 6AM to...</td>\n",
       "      <td>2015-06-16 01:18:44.226000</td>\n",
       "      <td> Apartment in San Francisco, United States. Pri...</td>\n",
       "      <td>         Lower Nob Hill Private Room</td>\n",
       "      <td> Downtown</td>\n",
       "      <td>  Saved 72 times</td>\n",
       "      <td> ccopy_reg\\n_reconstructor\\np0\\n(crequests.mode...</td>\n",
       "      <td> 115</td>\n",
       "      <td> USD</td>\n",
       "      <td> {u'is_redirect': False, u'status_code': 200, u...</td>\n",
       "      <td> 1.434418e+09</td>\n",
       "      <td> https://www.airbnb.com/rooms/6751766</td>\n",
       "      <td> san-francisco</td>\n",
       "      <td> [Shopping, Great Transit, Touristy, Nightlife,...</td>\n",
       "    </tr>\n",
       "    <tr>\n",
       "      <th>1</th>\n",
       "      <td> 1281167</td>\n",
       "      <td> Post Street, San Francisco (Union Square)</td>\n",
       "      <td> &lt;!DOCTYPE html&gt;\\n\\n&lt;!--[if lt IE 8]&gt;\\n\\n&lt;html ...</td>\n",
       "      <td> the space availability can be very volatile i ...</td>\n",
       "      <td> \\nThe Space\\nAvailability can be very volatile...</td>\n",
       "      <td>2015-06-16 01:19:01.767000</td>\n",
       "      <td> Apartment in San Francisco, United States. The...</td>\n",
       "      <td>    Cool Timeshare/Hotel (Union Sq.)</td>\n",
       "      <td> Downtown</td>\n",
       "      <td> Saved 248 times</td>\n",
       "      <td> ccopy_reg\\n_reconstructor\\np0\\n(crequests.mode...</td>\n",
       "      <td> 175</td>\n",
       "      <td> USD</td>\n",
       "      <td> {u'is_redirect': False, u'status_code': 200, u...</td>\n",
       "      <td> 1.434418e+09</td>\n",
       "      <td> https://www.airbnb.com/rooms/1281167</td>\n",
       "      <td> san-francisco</td>\n",
       "      <td> [Shopping, Great Transit, Touristy, Nightlife,...</td>\n",
       "    </tr>\n",
       "    <tr>\n",
       "      <th>2</th>\n",
       "      <td> 2478558</td>\n",
       "      <td> Post Street, San Francisco (Union Square)</td>\n",
       "      <td> &lt;!DOCTYPE html&gt;\\n\\n&lt;!--[if lt IE 8]&gt;\\n\\n&lt;html ...</td>\n",
       "      <td> the space as an owner i will transfer my reser...</td>\n",
       "      <td> \\nThe Space\\nAs an Owner, I will transfer my r...</td>\n",
       "      <td>2015-06-16 01:19:02.252000</td>\n",
       "      <td> Apartment in San Francisco, United States. The...</td>\n",
       "      <td>  Donatello hotel room, Union Square</td>\n",
       "      <td> Downtown</td>\n",
       "      <td>   Saved 8 times</td>\n",
       "      <td> ccopy_reg\\n_reconstructor\\np0\\n(crequests.mode...</td>\n",
       "      <td> 155</td>\n",
       "      <td> USD</td>\n",
       "      <td> {u'is_redirect': False, u'status_code': 200, u...</td>\n",
       "      <td> 1.434418e+09</td>\n",
       "      <td> https://www.airbnb.com/rooms/2478558</td>\n",
       "      <td> san-francisco</td>\n",
       "      <td> [Shopping, Great Transit, Touristy, Nightlife,...</td>\n",
       "    </tr>\n",
       "    <tr>\n",
       "      <th>3</th>\n",
       "      <td> 2227475</td>\n",
       "      <td>     Hyde Street, San Francisco (Downtown)</td>\n",
       "      <td> &lt;!DOCTYPE html&gt;\\n\\n&lt;!--[if lt IE 8]&gt;\\n\\n&lt;html ...</td>\n",
       "      <td> the space this building is a a registered hist...</td>\n",
       "      <td> \\nThe Space\\nThis building is a a registered h...</td>\n",
       "      <td>2015-06-16 01:19:04.166000</td>\n",
       "      <td> Apartment in San Francisco, United States. Cla...</td>\n",
       "      <td>               Classic San Francisco</td>\n",
       "      <td> Downtown</td>\n",
       "      <td> Saved 470 times</td>\n",
       "      <td> ccopy_reg\\n_reconstructor\\np0\\n(crequests.mode...</td>\n",
       "      <td> 199</td>\n",
       "      <td> USD</td>\n",
       "      <td> {u'is_redirect': False, u'status_code': 200, u...</td>\n",
       "      <td> 1.434418e+09</td>\n",
       "      <td> https://www.airbnb.com/rooms/2227475</td>\n",
       "      <td> san-francisco</td>\n",
       "      <td> [Shopping, Great Transit, Touristy, Nightlife,...</td>\n",
       "    </tr>\n",
       "    <tr>\n",
       "      <th>4</th>\n",
       "      <td>  546633</td>\n",
       "      <td>         Hyde St, San Francisco (Downtown)</td>\n",
       "      <td> &lt;!DOCTYPE html&gt;\\n\\n&lt;!--[if lt IE 8]&gt;\\n\\n&lt;html ...</td>\n",
       "      <td> the space cheerful and bright studio in edward...</td>\n",
       "      <td> \\nThe Space\\nCheerful and bright studio in Edw...</td>\n",
       "      <td>2015-06-16 01:19:10.021000</td>\n",
       "      <td> Apartment in San Francisco, United States. Che...</td>\n",
       "      <td>  Sunny Cheery Lower Nob Hill Studio</td>\n",
       "      <td> Downtown</td>\n",
       "      <td> Saved 465 times</td>\n",
       "      <td> ccopy_reg\\n_reconstructor\\np0\\n(crequests.mode...</td>\n",
       "      <td> 115</td>\n",
       "      <td> USD</td>\n",
       "      <td> {u'is_redirect': False, u'status_code': 200, u...</td>\n",
       "      <td> 1.434418e+09</td>\n",
       "      <td>  https://www.airbnb.com/rooms/546633</td>\n",
       "      <td> san-francisco</td>\n",
       "      <td> [Shopping, Great Transit, Touristy, Nightlife,...</td>\n",
       "    </tr>\n",
       "  </tbody>\n",
       "</table>\n",
       "</div>"
      ],
      "text/plain": [
       "       _id                                    address  \\\n",
       "0  6751766                     Bush St, San Francisco   \n",
       "1  1281167  Post Street, San Francisco (Union Square)   \n",
       "2  2478558  Post Street, San Francisco (Union Square)   \n",
       "3  2227475      Hyde Street, San Francisco (Downtown)   \n",
       "4   546633          Hyde St, San Francisco (Downtown)   \n",
       "\n",
       "                                             content  \\\n",
       "0  <!DOCTYPE html>\\n\\n<!--[if lt IE 8]>\\n\\n<html ...   \n",
       "1  <!DOCTYPE html>\\n\\n<!--[if lt IE 8]>\\n\\n<html ...   \n",
       "2  <!DOCTYPE html>\\n\\n<!--[if lt IE 8]>\\n\\n<html ...   \n",
       "3  <!DOCTYPE html>\\n\\n<!--[if lt IE 8]>\\n\\n<html ...   \n",
       "4  <!DOCTYPE html>\\n\\n<!--[if lt IE 8]>\\n\\n<html ...   \n",
       "\n",
       "                                   description_clean  \\\n",
       "0  interaction with guests i m gone m f 6am to 7p...   \n",
       "1  the space availability can be very volatile i ...   \n",
       "2  the space as an owner i will transfer my reser...   \n",
       "3  the space this building is a a registered hist...   \n",
       "4  the space cheerful and bright studio in edward...   \n",
       "\n",
       "                                     description_raw  \\\n",
       "0  \\nInteraction with Guests\\nI'm gone M-F 6AM to...   \n",
       "1  \\nThe Space\\nAvailability can be very volatile...   \n",
       "2  \\nThe Space\\nAs an Owner, I will transfer my r...   \n",
       "3  \\nThe Space\\nThis building is a a registered h...   \n",
       "4  \\nThe Space\\nCheerful and bright studio in Edw...   \n",
       "\n",
       "                          dt  \\\n",
       "0 2015-06-16 01:18:44.226000   \n",
       "1 2015-06-16 01:19:01.767000   \n",
       "2 2015-06-16 01:19:02.252000   \n",
       "3 2015-06-16 01:19:04.166000   \n",
       "4 2015-06-16 01:19:10.021000   \n",
       "\n",
       "                                            headline  \\\n",
       "0  Apartment in San Francisco, United States. Pri...   \n",
       "1  Apartment in San Francisco, United States. The...   \n",
       "2  Apartment in San Francisco, United States. The...   \n",
       "3  Apartment in San Francisco, United States. Cla...   \n",
       "4  Apartment in San Francisco, United States. Che...   \n",
       "\n",
       "                          listing_name neighborhood        num_saved  \\\n",
       "0          Lower Nob Hill Private Room     Downtown   Saved 72 times   \n",
       "1     Cool Timeshare/Hotel (Union Sq.)     Downtown  Saved 248 times   \n",
       "2   Donatello hotel room, Union Square     Downtown    Saved 8 times   \n",
       "3                Classic San Francisco     Downtown  Saved 470 times   \n",
       "4   Sunny Cheery Lower Nob Hill Studio     Downtown  Saved 465 times   \n",
       "\n",
       "                                              pickle price price_currency  \\\n",
       "0  ccopy_reg\\n_reconstructor\\np0\\n(crequests.mode...   115            USD   \n",
       "1  ccopy_reg\\n_reconstructor\\np0\\n(crequests.mode...   175            USD   \n",
       "2  ccopy_reg\\n_reconstructor\\np0\\n(crequests.mode...   155            USD   \n",
       "3  ccopy_reg\\n_reconstructor\\np0\\n(crequests.mode...   199            USD   \n",
       "4  ccopy_reg\\n_reconstructor\\np0\\n(crequests.mode...   115            USD   \n",
       "\n",
       "                                       requests_meta          time  \\\n",
       "0  {u'is_redirect': False, u'status_code': 200, u...  1.434418e+09   \n",
       "1  {u'is_redirect': False, u'status_code': 200, u...  1.434418e+09   \n",
       "2  {u'is_redirect': False, u'status_code': 200, u...  1.434418e+09   \n",
       "3  {u'is_redirect': False, u'status_code': 200, u...  1.434418e+09   \n",
       "4  {u'is_redirect': False, u'status_code': 200, u...  1.434418e+09   \n",
       "\n",
       "                                    url           city  \\\n",
       "0  https://www.airbnb.com/rooms/6751766  san-francisco   \n",
       "1  https://www.airbnb.com/rooms/1281167  san-francisco   \n",
       "2  https://www.airbnb.com/rooms/2478558  san-francisco   \n",
       "3  https://www.airbnb.com/rooms/2227475  san-francisco   \n",
       "4   https://www.airbnb.com/rooms/546633  san-francisco   \n",
       "\n",
       "                                              traits  \n",
       "0  [Shopping, Great Transit, Touristy, Nightlife,...  \n",
       "1  [Shopping, Great Transit, Touristy, Nightlife,...  \n",
       "2  [Shopping, Great Transit, Touristy, Nightlife,...  \n",
       "3  [Shopping, Great Transit, Touristy, Nightlife,...  \n",
       "4  [Shopping, Great Transit, Touristy, Nightlife,...  "
      ]
     },
     "execution_count": 21,
     "metadata": {},
     "output_type": "execute_result"
    }
   ],
   "source": [
    "merged_df = listing_df.merge(right=hood_df[['neighborhood', 'city', 'traits']], on='neighborhood', suffixes=('','_copy'))\n",
    "merged_df.head()"
   ]
  },
  {
   "cell_type": "code",
   "execution_count": 22,
   "metadata": {
    "collapsed": false
   },
   "outputs": [
    {
     "data": {
      "text/plain": [
       "3174"
      ]
     },
     "execution_count": 22,
     "metadata": {},
     "output_type": "execute_result"
    }
   ],
   "source": [
    "len(merged_df)"
   ]
  },
  {
   "cell_type": "code",
   "execution_count": 23,
   "metadata": {
    "collapsed": false
   },
   "outputs": [
    {
     "name": "stdout",
     "output_type": "stream",
     "text": [
      "OUT OF 3174:\n",
      "   1209 (38.1 percent) of listings are known for being Artsy\n",
      "   1249 (39.4 percent) of listings are good for Shopping\n",
      "   1922 (60.6 percent) of listings are good for Dining\n",
      "   1422 (44.8 percent) of listings are good for Nightlife\n"
     ]
    }
   ],
   "source": [
    "merged_df['is_artsy'] = ['Artsy' in x for x in merged_df['traits']]\n",
    "merged_df['is_shopping'] = ['Shopping' in x for x in merged_df['traits']]\n",
    "merged_df['is_dining'] = ['Dining' in x for x in merged_df['traits']]\n",
    "merged_df['is_nightlife'] = ['Nightlife' in x for x in merged_df['traits']]\n",
    "\n",
    "print \"OUT OF %s:\" % len(merged_df)\n",
    "print \"   %s (%.1f percent) of listings are known for being Artsy\" % (sum(merged_df['is_artsy']), (sum(merged_df['is_artsy'])*1.0/len(merged_df))*100)\n",
    "print \"   %s (%.1f percent) of listings are good for Shopping\" % (sum(merged_df['is_shopping']), (sum(merged_df['is_shopping'])*1.0/len(merged_df))*100)\n",
    "print \"   %s (%.1f percent) of listings are good for Dining\" % (sum(merged_df['is_dining']), (sum(merged_df['is_dining'])*1.0/len(merged_df))*100)\n",
    "print \"   %s (%.1f percent) of listings are good for Nightlife\" % (sum(merged_df['is_nightlife']), (sum(merged_df['is_nightlife'])*1.0/len(merged_df))*100)"
   ]
  },
  {
   "cell_type": "code",
   "execution_count": 33,
   "metadata": {
    "collapsed": false
   },
   "outputs": [
    {
     "data": {
      "image/png": "[encoded data removed]",
      "text/plain": [
       "<matplotlib.figure.Figure at 0x10712f1d0>"
      ]
     },
     "metadata": {},
     "output_type": "display_data"
    }
   ],
   "source": [
    "#How many have no description that we can use?\n",
    "desc_len = [len(x) for x in merged_df['description_raw']]\n",
    "\n",
    "plt.figure(1, figsize=(8,5))\n",
    "plt.hist(desc_len, bins=50)\n",
    "plt.title(\"distribution of description length\")\n",
    "plt.show()"
   ]
  },
  {
   "cell_type": "markdown",
   "metadata": {},
   "source": [
    "###Cleaning up the description"
   ]
  },
  {
   "cell_type": "code",
   "execution_count": 258,
   "metadata": {
    "collapsed": false
   },
   "outputs": [],
   "source": [
    "# http://stackoverflow.com/questions/19790188/expanding-english-language-contractions-in-python\n",
    "contractions_dict = { \n",
    "    \"ain't\": \"am not; are not; is not; has not; have not\",\n",
    "    \"aren't\": \"are not; am not\",\n",
    "    \"can't\": \"cannot\",\n",
    "    \"can't've\": \"cannot have\",\n",
    "    \"'cause\": \"because\",\n",
    "    \"could've\": \"could have\",\n",
    "    \"couldn't\": \"could not\",\n",
    "    \"couldn't've\": \"could not have\",\n",
    "    \"didn't\": \"did not\",\n",
    "    \"doesn't\": \"does not\",\n",
    "    \"don't\": \"do not\",\n",
    "    \"hadn't\": \"had not\",\n",
    "    \"hadn't've\": \"had not have\",\n",
    "    \"hasn't\": \"has not\",\n",
    "    \"haven't\": \"have not\",\n",
    "    \"he'd\": \"he had / he would\",\n",
    "    \"he'd've\": \"he would have\",\n",
    "    \"he'll\": \"he shall / he will\",\n",
    "    \"he'll've\": \"he shall have / he will have\",\n",
    "    \"he's\": \"he has / he is\",\n",
    "    \"how'd\": \"how did\",\n",
    "    \"how'd'y\": \"how do you\",\n",
    "    \"how'll\": \"how will\",\n",
    "    \"how's\": \"how has / how is / how does\",\n",
    "    \"I'd\": \"I had / I would\",\n",
    "    \"I'd've\": \"I would have\",\n",
    "    \"I'll\": \"I shall / I will\",\n",
    "    \"I'll've\": \"I shall have / I will have\",\n",
    "    \"I'm\": \"I am\",\n",
    "    \"I've\": \"I have\",\n",
    "    \"isn't\": \"is not\",\n",
    "    \"it'd\": \"it had / it would\",\n",
    "    \"it'd've\": \"it would have\",\n",
    "    \"it'll\": \"it shall / it will\",\n",
    "    \"it'll've\": \"it shall have / it will have\",\n",
    "    \"it's\": \"it has / it is\",\n",
    "    \"let's\": \"let us\",\n",
    "    \"ma'am\": \"madam\",\n",
    "    \"mayn't\": \"may not\",\n",
    "    \"might've\": \"might have\",\n",
    "    \"mightn't\": \"might not\",\n",
    "    \"mightn't've\": \"might not have\",\n",
    "    \"must've\": \"must have\",\n",
    "    \"mustn't\": \"must not\",\n",
    "    \"mustn't've\": \"must not have\",\n",
    "    \"needn't\": \"need not\",\n",
    "    \"needn't've\": \"need not have\",\n",
    "    \"o'clock\": \"of the clock\",\n",
    "    \"oughtn't\": \"ought not\",\n",
    "    \"oughtn't've\": \"ought not have\",\n",
    "    \"shan't\": \"shall not\",\n",
    "    \"sha'n't\": \"shall not\",\n",
    "    \"shan't've\": \"shall not have\",\n",
    "    \"she'd\": \"she had / she would\",\n",
    "    \"she'd've\": \"she would have\",\n",
    "    \"she'll\": \"she shall / she will\",\n",
    "    \"she'll've\": \"she shall have / she will have\",\n",
    "    \"she's\": \"she has / she is\",\n",
    "    \"should've\": \"should have\",\n",
    "    \"shouldn't\": \"should not\",\n",
    "    \"shouldn't've\": \"should not have\",\n",
    "    \"so've\": \"so have\",\n",
    "    \"so's\": \"so as / so is\",\n",
    "    \"that'd\": \"that would / that had\",\n",
    "    \"that'd've\": \"that would have\",\n",
    "    \"that's\": \"that has / that is\",\n",
    "    \"there'd\": \"there had / there would\",\n",
    "    \"there'd've\": \"there would have\",\n",
    "    \"there's\": \"there has / there is\",\n",
    "    \"they'd\": \"they had / they would\",\n",
    "    \"they'd've\": \"they would have\",\n",
    "    \"they'll\": \"they shall / they will\",\n",
    "    \"they'll've\": \"they shall have / they will have\",\n",
    "    \"they're\": \"they are\",\n",
    "    \"they've\": \"they have\",\n",
    "    \"to've\": \"to have\",\n",
    "    \"wasn't\": \"was not\",\n",
    "    \"we'd\": \"we had / we would\",\n",
    "    \"we'd've\": \"we would have\",\n",
    "    \"we'll\": \"we will\",\n",
    "    \"we'll've\": \"we will have\",\n",
    "    \"we're\": \"we are\",\n",
    "    \"we've\": \"we have\",\n",
    "    \"weren't\": \"were not\",\n",
    "    \"what'll\": \"what shall / what will\",\n",
    "    \"what'll've\": \"what shall have / what will have\",\n",
    "    \"what're\": \"what are\",\n",
    "    \"what's\": \"what has / what is\",\n",
    "    \"what've\": \"what have\",\n",
    "    \"when's\": \"when has / when is\",\n",
    "    \"when've\": \"when have\",\n",
    "    \"where'd\": \"where did\",\n",
    "    \"where's\": \"where has / where is\",\n",
    "    \"where've\": \"where have\",\n",
    "    \"who'll\": \"who shall / who will\",\n",
    "    \"who'll've\": \"who shall have / who will have\",\n",
    "    \"who's\": \"who has / who is\",\n",
    "    \"who've\": \"who have\",\n",
    "    \"why's\": \"why has / why is\",\n",
    "    \"why've\": \"why have\",\n",
    "    \"will've\": \"will have\",\n",
    "    \"won't\": \"will not\",\n",
    "    \"won't've\": \"will not have\",\n",
    "    \"would've\": \"would have\",\n",
    "    \"wouldn't\": \"would not\",\n",
    "    \"wouldn't've\": \"would not have\",\n",
    "    \"y'all\": \"you all\",\n",
    "    \"y'all'd\": \"you all would\",\n",
    "    \"y'all'd've\": \"you all would have\",\n",
    "    \"y'all're\": \"you all are\",\n",
    "    \"y'all've\": \"you all have\",\n",
    "    \"you'd\": \"you had / you would\",\n",
    "    \"you'd've\": \"you would have\",\n",
    "    \"you'll\": \"you shall / you will\",\n",
    "    \"you'll've\": \"you shall have / you will have\",\n",
    "    \"you're\": \"you are\",\n",
    "    \"you've\": \"you have\"\n",
    "    }\n",
    "\n",
    "contractions_re = re.compile('(%s)' % '|'.join(contractions_dict.keys()))\n",
    "\n",
    "def expand_contractions(s, contractions_dict=contractions_dict):\n",
    "    def replace(match):\n",
    "        return contractions_dict[match.group(0)]\n",
    "    return contractions_re.sub(replace, s)\n",
    "\n",
    "def clean_description(s):\n",
    "    # remove section Names/headers of the AirBnB description\n",
    "    s = s.replace('\\nThe Space\\n', \"\", 1)\n",
    "    s = s.replace('\\nGuest Access\\n', \"\", 1)\n",
    "    s = s.replace('\\nInteraction with Guests\\n', \"\", 1)\n",
    "    s = s.replace('\\nThe Neighbourhood\\n', \"\", 1)    # CA specific\n",
    "    s = s.replace('\\nThe Neighborhood\\n', \"\", 1)    # US specific\n",
    "    s = s.replace('\\nGetting Around\\n', \"\", 1)   \n",
    "    s = s.replace('\\nOther Things to Note\\n', \"\", 1)\n",
    "    \n",
    "    # convert the string to lowercase\n",
    "    s = s.lower()\n",
    "    # remove all non words\n",
    "    s = re.sub(\"[^a-zA-Z]\",\" \", s) \n",
    "    # remove puctuation\n",
    "    # s = re.compile('[%s]' % re.escape(string.punctuation)).sub(\"\", s)\n",
    "\n",
    "    # remove line breaks\n",
    "    s = s.replace('\\n', \" \") \n",
    "    # remove multiple spaces   \n",
    "    s = ' '.join(s.split()) \n",
    "\n",
    "\n",
    "    return s"
   ]
  },
  {
   "cell_type": "code",
   "execution_count": 259,
   "metadata": {
    "collapsed": false
   },
   "outputs": [
    {
     "name": "stdout",
     "output_type": "stream",
     "text": [
      "0\n",
      "\n",
      "\n",
      "Interaction with Guests\n",
      "I'm gone M-F 6AM to 7PM and potentially for the evening depending on events for the day. Happy to give advice or hang out in the evening.\n",
      "Getting Around\n",
      "2 blocks from a cable car pickup. Bus stops are near and the Bart is 0.7 miles. \n",
      "Most places are walkable. \n",
      "Have never waited more than two minutes for uber or lyft.\n",
      "\n",
      "\n",
      "\n",
      "**************\n",
      "\n",
      "1\n",
      "\n",
      "\n",
      "The Space\n",
      "Availability can be very volatile. I try to keep the calendar updated as best as I can, ONLY two weeks or less in advance. If you see availability, please submit a reservation request quickly.\n",
      "Just show up and check in like any other hotel, no arranging to get keys necessary.\n",
      "DESCRIPTION\n",
      "Discover this modern hotel, The Donatello, inspired by the renowned Renaissance painter who shares its name. Located in the heart of San Francisco's fashionable shopping and theater district near numerous attractions, the Union Square SF hotel boasts a charming Italian atmosphere, superior amenities and attentive staff.\n",
      "With 400 square feet of space and 10 foot ceilings, these rooms are some of the largest in the San Francisco area. Rooms are stunningly elegant and give you many of the luxuries of home including wet-bar and sink, compact refrigerator and microwave, sofa sleeper, cd player and in-room safe. All rooms have one KING BED and one QUEEN SLEEPER SOFA and sleep maximum of 4 people. No rollaways are available.\n",
      "Services & Amenities:\n",
      "Spacious studio accommodations\n",
      "24-hour front desk\n",
      "Concierge services\n",
      "Intimate Italian dining at Zingari Ristorante\n",
      "Indoor valet parking ($32 per day)\n",
      "Meeting facilities\n",
      "Dry cleaning services (fee)\n",
      "Rooftop deck\n",
      "Fireplace\n",
      "Exercise facility\n",
      "Hot tub\n",
      "Sauna\n",
      "Spa services (fee)\n",
      "ATM machine\n",
      "Internet kiosk in lobby (free)\n",
      "Complimentary wireless Internet access\n",
      "Resort Facts:\n",
      "Check-in time: 3:00 pm\n",
      "Check-out time: 12:00 pm\n",
      "Front desk hours: 24 hours per day\n",
      "Deposit: $50 per day (authorized hold upon Check-in, fully refundable)\n",
      "Minimum age to\n",
      "occupy room:18\n",
      "Smoking:No\n",
      "Pets:No\n",
      "Parking:Indoor valet $32 + tax per day\n",
      "Features & Amenities:\n",
      "KING SIZE BED\n",
      "Air conditioning\n",
      "Alarm clock w/ radio\n",
      "Wake up service\n",
      "LCD Flat Screen Television (32\")\n",
      "11\" mirror television in bathroom\n",
      "iPod/iPhone dock\n",
      "DVD player\n",
      "Moveable Work Station\n",
      "Wet-Bar and sink\n",
      "QUEEN SOFA SLEEPER\n",
      "CD Player\n",
      "Iron & Ironing board\n",
      "Hair dryer\n",
      "Voicemail\n",
      "Long-distance access\n",
      "Microwave\n",
      "Coffee maker with complimentary coffee\n",
      "Small Fridge\n",
      "In room safe\n",
      "Designated ADA-rooms\n",
      "Express Checkout\n",
      "Turndown service\n",
      "Internet access (free)\n",
      "Guest Access\n",
      "Guests will have full access to onsite amenities\n",
      "Interaction with Guests\n",
      "I am not onsite, and the front desk can attend to all your needs, so no need to worry about the awkwardness of interacting with the host\n",
      "The Neighborhood\n",
      "Lunch at the Rotunda Restaurant in Nieman Marcus.  Great food and great view of Union Square!\n",
      "Getting Around\n",
      "About five blocks from BART\n",
      "Other Things to Note\n",
      "Note that parking is mandatory valet and is $32 per day.\n",
      "If you would like early check-in, the front desk will do its best to accommodate, but it is not guaranteed. If they are unable to accommodate, they will happily hold your belongings until you are able to check-in.\n",
      "\n",
      "\n",
      "\n",
      "**************\n",
      "\n",
      "2\n",
      "\n",
      "\n",
      "The Space\n",
      "As an Owner, I will transfer my reservation into your name, so you will have a smooth check in and hassle free access to your richly designed room and experience.\n",
      "Room features 2 double size beds, living room area with sofa bed and an executive work desk with great lighting and easy internet or wifi access. The entertainment center includes a flat screen TV with multi-media hub and DVD player. Sleeps 2 adults + 2 kids comfortably, contact the front desk to add a single roll-away bed (supply limited). Soft robes and other delighters await your discovery.\n",
      "Guest Access\n",
      "Take the elevator to the top floor where you'll have access to the Club Lounge area with views of the city. Relax in the indoor/outdoor area with complimentary fresh coffee, tea, cocoa, magazines/newspaper, and a helpful concierge to share activity options and make dinner or show reservations for you!\n",
      "In the Club Lounge you’ll also find a fitness room, locker rooms, sauna and co-ed whirlpool.\n",
      "There is an excellent Italian restaurant (Zingari Ristorante) in the Hotel on the 2nd floor or if you prefer to dine in the same restaurant provides room service breakfast, lunch or dinner. There are great restaurants, theaters, clubs, shopping, activities and sights only a short walk away. You will have easy access to nearby car/bike rentals and plenty of public transportation including the famous Powell Street Cable Car.\n",
      "Interaction with Guests\n",
      "The front desk and concierge are very helpful if you need assistance with anything.\n",
      "Daily Parking is $28/day and will be added to your bill at check out and is NOT included in this price. You are responsible for parking, food, mini-bar and other room services charged to the room once you check in.\n",
      "The Neighborhood\n",
      "For conference attendees you are only a 5 minute cab ride or NICE 15 minute city walk to the Moscone Center.\n",
      "We’ve been enjoying the Donatello for over 20 years and are thrilled to be able to share the experience with you during your visit to San Francisco.\n",
      "\n",
      "\n",
      "\n",
      "**************\n",
      "\n",
      "3\n",
      "\n",
      "\n",
      "The Space\n",
      "This building is a a registered historic landmark.  Outside the building, Hitchcock filmed the famous \"Vertigo\".  My apartment is very minimally decorated; I enjoy the simplicity, and for this reason I have no couch.  There is a kitchen with table and queen size bed.\n",
      "Complimentary rides offered from SFO, please request in your first message.\n",
      "My apartment features:\n",
      "-Eat-in kitchen with basic utensils\n",
      "-Private modern bathroom\n",
      "-Classic cage elevator!\n",
      "-Queen sized pillow-top mattress\n",
      "-Large walk-in closet\n",
      "Kitchen Includes:\n",
      "-Stove, oven, microwave, full-size refrigerator and freezer.\n",
      "-French press and coffee\n",
      "-Tea and teacups\n",
      "-Plates, bowls, and glasses\n",
      "-Frying pan, small saucepan, and mixing bowl\n",
      "-Whisk, spatula, wooden spoons\n",
      "-Silverware, paring knife, bottle opener\n",
      "Please keep in mind the apartment is in a pre war building;  it has many quaint features, but there are some downsides; the pipes are occasionally loud when the heat is on, but I have a secondary electric heater which solves the problem; in addition, the original bathtub is chipping.  The apartment is the perfect size for a couple, but might be a little small for a family, that is why I try to limit the number of guests to two.  The kitchen is small, but very useful for a short-term guest.\n",
      "Guest Access\n",
      "You are welcome to help yourself to everything in the apartment.  I keep very few personal belongings in my apartment.  There are basic cooking utensils in the kitchen.  If you need a specific utensil for cooking, just let me know; and, I will bring it from my other home.  Extra towels are in the linen closet.  Towels, shampoo, conditioner and soap is provided.  I always have some basic breakfast items in the kitchen which you are welcome to enjoy.   There is a coin-operated washer and dryer in the basement of the building, and you are welcome to use my laundry detergent.  \n",
      "Complimentary rides offered from SFO, please request in your first message.\n",
      "Interaction with Guests\n",
      "I welcome my guests personally whenever possible.  Complimentary rides offered from SFO, please request in your first message.  If you prefer, I can leave the keys in a lock box for a flexible arrival time, please let me know in your reservation request and I would be happy to set it up.  I can also meet you at the apartment anytime after 3pm.  Late check-in is available; and, early check-in is sometimes available.  If you need early check in or late check out please let me know in your reservation request, and I will do my best to accommodate your needs.  Just let me know what works best for you.   Thank You!\n",
      "The Neighborhood\n",
      "The apartment is close to so many popular San Francisco attractions.  It is located in an historic neighborhood in a classic building.  It's in Lower Nob Hill area (Don't worry, it is NOT in the Tenderloin), one block away from St. Francis hospital.  I love this neighborhood because it is authentic San Francisco.\n",
      "The Location:\n",
      "-Walking distance to Union Square, Cable Cars, China Town, Polk Street bars, Orpheum Theatre.\n",
      "-Ride the cable car to the Ferry Building for shopping on the water front or take the Powell street cable car to Fishermans Warf/Pier 39 or Lombard steet (you know, the twisty street)\n",
      "-Walk to the Polk street bars, only 2 blocks away. \n",
      "-24 Hour Fitness gym within 4 blocks.\n",
      "-Trader Joe's grocery store is only 3 blocks away.\n",
      "-Many parking garages in the neighborhood.  Overnight parking is available at 1101 Sutter street.\n",
      "-\n",
      "Getting Around\n",
      "-Many attractions within walking distance\n",
      "-The Walk Score is 98/100 and my Transit Score is 100/100!  Great public transportation, ride sharing, and taxis. If you are new to ridesharing, such as Lyft and Uber, I can tell you how to try it out for free.  I'm also close to Zipcar locations.\n",
      "-Easy access to both SF airport and Oakland airport via BART, so no rental car needed.\n",
      "Other Things to Note\n",
      "I'm a third generation San Francisco native. I know so much about San Francisco, and I love to share what I knows.  I'm really into San Francisco history also.  In fact, my favorite movie, Vertigo, was filmed just outside the building in 1960.  When you walk into the apartment, I want you to feel like you are walking into the San Francisco of yesterday. \n",
      "Have a question? Send me a message! I am glad to help.\n",
      "\n",
      "\n",
      "\n",
      "**************\n",
      "\n",
      "4\n",
      "\n",
      "\n",
      "The Space\n",
      "Cheerful and bright studio in Edwardian building in Lower Nob Hill. Conveniently located near several major bus routes, including San Francisco's famous Cable Cars, this sunny apartment comfortably sleeps two. Minutes from Union Square and Maiden Lane shopping areas; the vibrant neighborhoods of Chinatown and North Beach; several Michelin-rated restaurants; and a brisk uphill walk to beautiful Grace Cathedral.\n",
      "Facing west onto Hyde Street, my apartment gets tons of late-afternoon sunlight. It's a cozy place to rest up in the afternoon between sight-seeing and nighttime exploration. The fully-equipped kitchen is ready for those guests who prefer to cook at home.\n",
      "If you're eager to try some of San Francisco's many fantastic restaurants, Lower Nob Hill has plenty of dining options along Sutter Street toward Union Square, up Hyde Street toward Russian Hill, and all along Polk Street, which is a short two-block walk.\n",
      "Come visit!\n",
      "Internet / WiFi\n",
      "Fully-equipped kitchen\n",
      "Coin-operated laundry / trash facilities in basement\n",
      "Close to MUNI and other public transit\n",
      "Please see AirBnB's coverage of Nob Hill to get an idea of things to do around the neighborhood:\n",
      "https://www.airbnb.com/locations/san-francisco/nob-hill\n",
      "*** Also, I do not accept reservations with less than 48-hours' notice. Please keep this in mind when sending inquiries and reservation requests. ***\n",
      "Interaction with Guests\n",
      "I will not be in the apartment during your stay, but I will give you a quick walk-thru and answer any questions about the apartment and the neighborhood when you arrive. I am usually in town; and always available to answer any additional questions that may come up.\n",
      "The Neighborhood\n",
      "My neighborhood is the most urban section of San Francisco; and being a city boy at heart (my parents are from Brooklyn and The Bronx and I'm originally from Baltimore), I love that aspect of Lower Nob Hill. Also, being contiguous to Nob Hill, Chinatown, Union Square, The Tenderloin and the Financial District, I think my neighborhood is the most eclectic section of San Francisco. It's full of art students, hipsters, retirees, foreign tourists, and young professionals.\n",
      "Getting Around\n",
      "There are several bus lines that run within a couple of blocks of my apartment to access other parts of the city in all four directions. In addition, the California Street cable car runs three blocks north.\n",
      "Unfortunately, street parking in the neighborhood can be difficult, though there are several public parking garages in and around the neighborhood. Metered street parking is in effect 7 days a week, in addition to street cleaning restrictions.\n",
      "\n",
      "\n",
      "\n",
      "**************\n",
      "\n"
     ]
    }
   ],
   "source": [
    "for i, desc_raw in enumerate(merged_df['description_raw'][0:5]):\n",
    "    print i\n",
    "    print \n",
    "    print desc_raw\n",
    "    print\n",
    "    print \"**************\"\n",
    "    print"
   ]
  },
  {
   "cell_type": "code",
   "execution_count": 358,
   "metadata": {
    "collapsed": false
   },
   "outputs": [],
   "source": [
    "desc_clean = [clean_description(expand_contractions(x)) for x in merged_df['description_raw']]"
   ]
  },
  {
   "cell_type": "code",
   "execution_count": 476,
   "metadata": {
    "collapsed": false
   },
   "outputs": [],
   "source": [
    "#I'm finding some issues with tenses & plurals, lets see how Lemmatizers & Stemmers do\n",
    "from nltk.stem.wordnet import WordNetLemmatizer\n",
    "lemma = WordNetLemmatizer()\n",
    "from nltk.stem.snowball import SnowballStemmer\n",
    "sb = SnowballStemmer(language='english')"
   ]
  },
  {
   "cell_type": "code",
   "execution_count": 473,
   "metadata": {
    "collapsed": false
   },
   "outputs": [
    {
     "data": {
      "text/plain": [
       "'jumping'"
      ]
     },
     "execution_count": 473,
     "metadata": {},
     "output_type": "execute_result"
    }
   ],
   "source": [
    "lemma.lemmatize(\"jumping\")"
   ]
  },
  {
   "cell_type": "code",
   "execution_count": 479,
   "metadata": {
    "collapsed": false
   },
   "outputs": [
    {
     "name": "stdout",
     "output_type": "stream",
     "text": [
      "0\n",
      "\n",
      "i am gone m f am to pm and potentially for the evening depending on events for the day happy to give advice or hang out in the evening blocks from a cable car pickup bus stops are near and the bart is miles most places are walkable have never waited more than two minutes for uber or lyft\n",
      "i am gone m f am to pm and potentially for the evening depending on event for the day happy to give advice or hang out in the evening block from a cable car pickup bus stop are near and the bart is mile most place are walkable have never waited more than two minute for uber or lyft\n",
      "i am gone m f am to pm and potenti for the even depend on event for the day happi to give advic or hang out in the even block from a cabl car pickup bus stop are near and the bart is mile most place are walkabl have never wait more than two minut for uber or lyft\n",
      "\n",
      "1\n",
      "\n",
      "availability can be very volatile i try to keep the calendar updated as best as i can only two weeks or less in advance if you see availability please submit a reservation request quickly just show up and check in like any other hotel no arranging to get keys necessary description discover this modern hotel the donatello inspired by the renowned renaissance painter who shares its name located in the heart of san francisco s fashionable shopping and theater district near numerous attractions the union square sf hotel boasts a charming italian atmosphere superior amenities and attentive staff with square feet of space and foot ceilings these rooms are some of the largest in the san francisco area rooms are stunningly elegant and give you many of the luxuries of home including wet bar and sink compact refrigerator and microwave sofa sleeper cd player and in room safe all rooms have one king bed and one queen sleeper sofa and sleep maximum of people no rollaways are available services amenities spacious studio accommodations hour front desk concierge services intimate italian dining at zingari ristorante indoor valet parking per day meeting facilities dry cleaning services fee rooftop deck fireplace exercise facility hot tub sauna spa services fee atm machine internet kiosk in lobby free complimentary wireless internet access resort facts check in time pm check out time pm front desk hours hours per day deposit per day authorized hold upon check in fully refundable minimum age to occupy room smoking no pets no parking indoor valet tax per day features amenities king size bed air conditioning alarm clock w radio wake up service lcd flat screen television mirror television in bathroom ipod iphone dock dvd player moveable work station wet bar and sink queen sofa sleeper cd player iron ironing board hair dryer voicemail long distance access microwave coffee maker with complimentary coffee small fridge in room safe designated ada rooms express checkout turndown service internet access free guests will have full access to onsite amenitiesi am not onsite and the front desk can attend to all your needs so no need to worry about the awkwardness of interacting with the hostlunch at the rotunda restaurant in nieman marcus great food and great view of union square about five blocks from bartnote that parking is mandatory valet and is per day if you would like early check in the front desk will do its best to accommodate but it is not guaranteed if they are unable to accommodate they will happily hold your belongings until you are able to check in\n",
      "availability can be very volatile i try to keep the calendar updated a best a i can only two week or le in advance if you see availability please submit a reservation request quickly just show up and check in like any other hotel no arranging to get key necessary description discover this modern hotel the donatello inspired by the renowned renaissance painter who share it name located in the heart of san francisco s fashionable shopping and theater district near numerous attraction the union square sf hotel boast a charming italian atmosphere superior amenity and attentive staff with square foot of space and foot ceiling these room are some of the largest in the san francisco area room are stunningly elegant and give you many of the luxury of home including wet bar and sink compact refrigerator and microwave sofa sleeper cd player and in room safe all room have one king bed and one queen sleeper sofa and sleep maximum of people no rollaways are available service amenity spacious studio accommodation hour front desk concierge service intimate italian dining at zingari ristorante indoor valet parking per day meeting facility dry cleaning service fee rooftop deck fireplace exercise facility hot tub sauna spa service fee atm machine internet kiosk in lobby free complimentary wireless internet access resort fact check in time pm check out time pm front desk hour hour per day deposit per day authorized hold upon check in fully refundable minimum age to occupy room smoking no pet no parking indoor valet tax per day feature amenity king size bed air conditioning alarm clock w radio wake up service lcd flat screen television mirror television in bathroom ipod iphone dock dvd player moveable work station wet bar and sink queen sofa sleeper cd player iron ironing board hair dryer voicemail long distance access microwave coffee maker with complimentary coffee small fridge in room safe designated ada room express checkout turndown service internet access free guest will have full access to onsite amenitiesi am not onsite and the front desk can attend to all your need so no need to worry about the awkwardness of interacting with the hostlunch at the rotunda restaurant in nieman marcus great food and great view of union square about five block from bartnote that parking is mandatory valet and is per day if you would like early check in the front desk will do it best to accommodate but it is not guaranteed if they are unable to accommodate they will happily hold your belonging until you are able to check in\n",
      "avail can be veri volatil i tri to keep the calendar updat as best as i can onli two week or less in advanc if you see avail pleas submit a reserv request quick just show up and check in like ani other hotel no arrang to get key necessari descript discov this modern hotel the donatello inspir by the renown renaiss painter who share it name locat in the heart of san francisco s fashion shop and theater district near numer attract the union squar sf hotel boast a charm italian atmospher superior amen and attent staff with squar feet of space and foot ceil these room are some of the largest in the san francisco area room are stun eleg and give you mani of the luxuri of home includ wet bar and sink compact refriger and microwav sofa sleeper cd player and in room safe all room have one king bed and one queen sleeper sofa and sleep maximum of peopl no rollaway are avail servic amen spacious studio accommod hour front desk concierg servic intim italian dine at zingari ristorant indoor valet park per day meet facil dri clean servic fee rooftop deck fireplac exercis facil hot tub sauna spa servic fee atm machin internet kiosk in lobbi free complimentari wireless internet access resort fact check in time pm check out time pm front desk hour hour per day deposit per day author hold upon check in fulli refund minimum age to occupi room smoke no pet no park indoor valet tax per day featur amen king size bed air condit alarm clock w radio wake up servic lcd flat screen televis mirror televis in bathroom ipod iphon dock dvd player moveabl work station wet bar and sink queen sofa sleeper cd player iron iron board hair dryer voicemail long distanc access microwav coffe maker with complimentari coffe small fridg in room safe design ada room express checkout turndown servic internet access free guest will have full access to onsit amenitiesi am not onsit and the front desk can attend to all your need so no need to worri about the awkward of interact with the hostlunch at the rotunda restaur in nieman marcus great food and great view of union squar about five block from bartnot that park is mandatori valet and is per day if you would like earli check in the front desk will do it best to accommod but it is not guarante if they are unabl to accommod they will happili hold your belong until you are abl to check in\n",
      "\n",
      "2\n",
      "\n",
      "as an owner i will transfer my reservation into your name so you will have a smooth check in and hassle free access to your richly designed room and experience room features double size beds living room area with sofa bed and an executive work desk with great lighting and easy internet or wifi access the entertainment center includes a flat screen tv with multi media hub and dvd player sleeps adults kids comfortably contact the front desk to add a single roll away bed supply limited soft robes and other delighters await your discovery take the elevator to the top floor where you shall you will have access to the club lounge area with views of the city relax in the indoor outdoor area with complimentary fresh coffee tea cocoa magazines newspaper and a helpful concierge to share activity options and make dinner or show reservations for you in the club lounge you ll also find a fitness room locker rooms sauna and co ed whirlpool there is an excellent italian restaurant zingari ristorante in the hotel on the nd floor or if you prefer to dine in the same restaurant provides room service breakfast lunch or dinner there are great restaurants theaters clubs shopping activities and sights only a short walk away you will have easy access to nearby car bike rentals and plenty of public transportation including the famous powell street cable car the front desk and concierge are very helpful if you need assistance with anything daily parking is day and will be added to your bill at check out and is not included in this price you are responsible for parking food mini bar and other room services charged to the room once you check in for conference attendees you are only a minute cab ride or nice minute city walk to the moscone center we ve been enjoying the donatello for over years and are thrilled to be able to share the experience with you during your visit to san francisco\n",
      "a an owner i will transfer my reservation into your name so you will have a smooth check in and hassle free access to your richly designed room and experience room feature double size bed living room area with sofa bed and an executive work desk with great lighting and easy internet or wifi access the entertainment center includes a flat screen tv with multi medium hub and dvd player sleep adult kid comfortably contact the front desk to add a single roll away bed supply limited soft robe and other delighters await your discovery take the elevator to the top floor where you shall you will have access to the club lounge area with view of the city relax in the indoor outdoor area with complimentary fresh coffee tea cocoa magazine newspaper and a helpful concierge to share activity option and make dinner or show reservation for you in the club lounge you ll also find a fitness room locker room sauna and co ed whirlpool there is an excellent italian restaurant zingari ristorante in the hotel on the nd floor or if you prefer to dine in the same restaurant provides room service breakfast lunch or dinner there are great restaurant theater club shopping activity and sight only a short walk away you will have easy access to nearby car bike rental and plenty of public transportation including the famous powell street cable car the front desk and concierge are very helpful if you need assistance with anything daily parking is day and will be added to your bill at check out and is not included in this price you are responsible for parking food mini bar and other room service charged to the room once you check in for conference attendee you are only a minute cab ride or nice minute city walk to the moscone center we ve been enjoying the donatello for over year and are thrilled to be able to share the experience with you during your visit to san francisco\n",
      "as an owner i will transfer my reserv into your name so you will have a smooth check in and hassl free access to your rich design room and experi room featur doubl size bed live room area with sofa bed and an execut work desk with great light and easi internet or wifi access the entertain center includ a flat screen tv with multi media hub and dvd player sleep adult kid comfort contact the front desk to add a singl roll away bed suppli limit soft robe and other delight await your discoveri take the elev to the top floor where you shall you will have access to the club loung area with view of the citi relax in the indoor outdoor area with complimentari fresh coffe tea cocoa magazin newspap and a help concierg to share activ option and make dinner or show reserv for you in the club loung you ll also find a fit room locker room sauna and co ed whirlpool there is an excel italian restaur zingari ristorant in the hotel on the nd floor or if you prefer to dine in the same restaur provid room servic breakfast lunch or dinner there are great restaur theater club shop activ and sight onli a short walk away you will have easi access to nearbi car bike rental and plenti of public transport includ the famous powel street cabl car the front desk and concierg are veri help if you need assist with anyth daili park is day and will be ad to your bill at check out and is not includ in this price you are respons for park food mini bar and other room servic charg to the room onc you check in for confer attende you are onli a minut cab ride or nice minut citi walk to the moscon center we ve been enjoy the donatello for over year and are thrill to be abl to share the experi with you dure your visit to san francisco\n",
      "\n",
      "3\n",
      "\n",
      "this building is a a registered historic landmark outside the building hitchcock filmed the famous vertigo my apartment is very minimally decorated i enjoy the simplicity and for this reason i have no couch there is a kitchen with table and queen size bed complimentary rides offered from sfo please request in your first message my apartment features eat in kitchen with basic utensils private modern bathroom classic cage elevator queen sized pillow top mattress large walk in closet kitchen includes stove oven microwave full size refrigerator and freezer french press and coffee tea and teacups plates bowls and glasses frying pan small saucepan and mixing bowl whisk spatula wooden spoons silverware paring knife bottle opener please keep in mind the apartment is in a pre war building it has many quaint features but there are some downsides the pipes are occasionally loud when the heat is on but i have a secondary electric heater which solves the problem in addition the original bathtub is chipping the apartment is the perfect size for a couple but might be a little small for a family that is why i try to limit the number of guests to two the kitchen is small but very useful for a short term guest you are welcome to help yourself to everything in the apartment i keep very few personal belongings in my apartment there are basic cooking utensils in the kitchen if you need a specific utensil for cooking just let me know and i will bring it from my other home extra towels are in the linen closet towels shampoo conditioner and soap is provided i always have some basic breakfast items in the kitchen which you are welcome to enjoy there is a coin operated washer and dryer in the basement of the building and you are welcome to use my laundry detergent complimentary rides offered from sfo please request in your first message i welcome my guests personally whenever possible complimentary rides offered from sfo please request in your first message if you prefer i can leave the keys in a lock box for a flexible arrival time please let me know in your reservation request and i would be happy to set it up i can also meet you at the apartment anytime after pm late check in is available and early check in is sometimes available if you need early check in or late check out please let me know in your reservation request and i will do my best to accommodate your needs just let me know what works best for you thank you the apartment is close to so many popular san francisco attractions it is located in an historic neighborhood in a classic building it s in lower nob hill area don t worry it is not in the tenderloin one block away from st francis hospital i love this neighborhood because it is authentic san francisco the location walking distance to union square cable cars china town polk street bars orpheum theatre ride the cable car to the ferry building for shopping on the water front or take the powell street cable car to fishermans warf pier or lombard steet you know the twisty street walk to the polk street bars only blocks away hour fitness gym within blocks trader joe s grocery store is only blocks away many parking garages in the neighborhood overnight parking is available at sutter street many attractions within walking distance the walk score is and my transit score is great public transportation ride sharing and taxis if you are new to ridesharing such as lyft and uber i can tell you how to try it out for free i am also close to zipcar locations easy access to both sf airport and oakland airport via bart so no rental car needed i am a third generation san francisco native i know so much about san francisco and i love to share what i knows i am really into san francisco history also in fact my favorite movie vertigo was filmed just outside the building in when you walk into the apartment i want you to feel like you are walking into the san francisco of yesterday have a question send me a message i am glad to help\n",
      "this building is a a registered historic landmark outside the building hitchcock filmed the famous vertigo my apartment is very minimally decorated i enjoy the simplicity and for this reason i have no couch there is a kitchen with table and queen size bed complimentary ride offered from sfo please request in your first message my apartment feature eat in kitchen with basic utensil private modern bathroom classic cage elevator queen sized pillow top mattress large walk in closet kitchen includes stove oven microwave full size refrigerator and freezer french press and coffee tea and teacup plate bowl and glass frying pan small saucepan and mixing bowl whisk spatula wooden spoon silverware paring knife bottle opener please keep in mind the apartment is in a pre war building it ha many quaint feature but there are some downside the pipe are occasionally loud when the heat is on but i have a secondary electric heater which solves the problem in addition the original bathtub is chipping the apartment is the perfect size for a couple but might be a little small for a family that is why i try to limit the number of guest to two the kitchen is small but very useful for a short term guest you are welcome to help yourself to everything in the apartment i keep very few personal belonging in my apartment there are basic cooking utensil in the kitchen if you need a specific utensil for cooking just let me know and i will bring it from my other home extra towel are in the linen closet towel shampoo conditioner and soap is provided i always have some basic breakfast item in the kitchen which you are welcome to enjoy there is a coin operated washer and dryer in the basement of the building and you are welcome to use my laundry detergent complimentary ride offered from sfo please request in your first message i welcome my guest personally whenever possible complimentary ride offered from sfo please request in your first message if you prefer i can leave the key in a lock box for a flexible arrival time please let me know in your reservation request and i would be happy to set it up i can also meet you at the apartment anytime after pm late check in is available and early check in is sometimes available if you need early check in or late check out please let me know in your reservation request and i will do my best to accommodate your need just let me know what work best for you thank you the apartment is close to so many popular san francisco attraction it is located in an historic neighborhood in a classic building it s in lower nob hill area don t worry it is not in the tenderloin one block away from st francis hospital i love this neighborhood because it is authentic san francisco the location walking distance to union square cable car china town polk street bar orpheum theatre ride the cable car to the ferry building for shopping on the water front or take the powell street cable car to fisherman warf pier or lombard steet you know the twisty street walk to the polk street bar only block away hour fitness gym within block trader joe s grocery store is only block away many parking garage in the neighborhood overnight parking is available at sutter street many attraction within walking distance the walk score is and my transit score is great public transportation ride sharing and taxi if you are new to ridesharing such a lyft and uber i can tell you how to try it out for free i am also close to zipcar location easy access to both sf airport and oakland airport via bart so no rental car needed i am a third generation san francisco native i know so much about san francisco and i love to share what i know i am really into san francisco history also in fact my favorite movie vertigo wa filmed just outside the building in when you walk into the apartment i want you to feel like you are walking into the san francisco of yesterday have a question send me a message i am glad to help\n",
      "this build is a a regist histor landmark outsid the build hitchcock film the famous vertigo my apart is veri minim decor i enjoy the simplic and for this reason i have no couch there is a kitchen with tabl and queen size bed complimentari ride offer from sfo pleas request in your first messag my apart featur eat in kitchen with basic utensil privat modern bathroom classic cage elev queen size pillow top mattress larg walk in closet kitchen includ stove oven microwav full size refriger and freezer french press and coffe tea and teacup plate bowl and glass fri pan small saucepan and mix bowl whisk spatula wooden spoon silverwar pare knife bottl open pleas keep in mind the apart is in a pre war build it has mani quaint featur but there are some downsid the pipe are occasion loud when the heat is on but i have a secondari electr heater which solv the problem in addit the origin bathtub is chip the apart is the perfect size for a coupl but might be a littl small for a famili that is whi i tri to limit the number of guest to two the kitchen is small but veri use for a short term guest you are welcom to help yourself to everyth in the apart i keep veri few person belong in my apart there are basic cook utensil in the kitchen if you need a specif utensil for cook just let me know and i will bring it from my other home extra towel are in the linen closet towel shampoo condition and soap is provid i alway have some basic breakfast item in the kitchen which you are welcom to enjoy there is a coin oper washer and dryer in the basement of the build and you are welcom to use my laundri deterg complimentari ride offer from sfo pleas request in your first messag i welcom my guest person whenev possibl complimentari ride offer from sfo pleas request in your first messag if you prefer i can leav the key in a lock box for a flexibl arriv time pleas let me know in your reserv request and i would be happi to set it up i can also meet you at the apart anytim after pm late check in is avail and earli check in is sometim avail if you need earli check in or late check out pleas let me know in your reserv request and i will do my best to accommod your need just let me know what work best for you thank you the apart is close to so mani popular san francisco attract it is locat in an histor neighborhood in a classic build it s in lower nob hill area don t worri it is not in the tenderloin one block away from st franci hospit i love this neighborhood becaus it is authent san francisco the locat walk distanc to union squar cabl car china town polk street bar orpheum theatr ride the cabl car to the ferri build for shop on the water front or take the powel street cabl car to fisherman warf pier or lombard steet you know the twisti street walk to the polk street bar onli block away hour fit gym within block trader joe s groceri store is onli block away mani park garag in the neighborhood overnight park is avail at sutter street mani attract within walk distanc the walk score is and my transit score is great public transport ride share and taxi if you are new to rideshar such as lyft and uber i can tell you how to tri it out for free i am also close to zipcar locat easi access to both sf airport and oakland airport via bart so no rental car need i am a third generat san francisco nativ i know so much about san francisco and i love to share what i know i am realli into san francisco histori also in fact my favorit movi vertigo was film just outsid the build in when you walk into the apart i want you to feel like you are walk into the san francisco of yesterday have a question send me a messag i am glad to help\n",
      "\n",
      "4\n",
      "\n",
      "cheerful and bright studio in edwardian building in lower nob hill conveniently located near several major bus routes including san francisco s famous cable cars this sunny apartment comfortably sleeps two minutes from union square and maiden lane shopping areas the vibrant neighborhoods of chinatown and north beach several michelin rated restaurants and a brisk uphill walk to beautiful grace cathedral facing west onto hyde street my apartment gets tons of late afternoon sunlight it s a cozy place to rest up in the afternoon between sight seeing and nighttime exploration the fully equipped kitchen is ready for those guests who prefer to cook at home if you are eager to try some of san francisco s many fantastic restaurants lower nob hill has plenty of dining options along sutter street toward union square up hyde street toward russian hill and all along polk street which is a short two block walk come visit internet wifi fully equipped kitchen coin operated laundry trash facilities in basement close to muni and other public transit please see airbnb s coverage of nob hill to get an idea of things to do around the neighborhood https www airbnb com locations san francisco nob hill also i do not accept reservations with less than hours notice please keep this in mind when sending inquiries and reservation requests i will not be in the apartment during your stay but i will give you a quick walk thru and answer any questions about the apartment and the neighborhood when you arrive i am usually in town and always available to answer any additional questions that may come up my neighborhood is the most urban section of san francisco and being a city boy at heart my parents are from brooklyn and the bronx and i am originally from baltimore i love that aspect of lower nob hill also being contiguous to nob hill chinatown union square the tenderloin and the financial district i think my neighborhood is the most eclectic section of san francisco it s full of art students hipsters retirees foreign tourists and young professionals there are several bus lines that run within a couple of blocks of my apartment to access other parts of the city in all four directions in addition the california street cable car runs three blocks north unfortunately street parking in the neighborhood can be difficult though there are several public parking garages in and around the neighborhood metered street parking is in effect days a week in addition to street cleaning restrictions\n",
      "cheerful and bright studio in edwardian building in lower nob hill conveniently located near several major bus route including san francisco s famous cable car this sunny apartment comfortably sleep two minute from union square and maiden lane shopping area the vibrant neighborhood of chinatown and north beach several michelin rated restaurant and a brisk uphill walk to beautiful grace cathedral facing west onto hyde street my apartment get ton of late afternoon sunlight it s a cozy place to rest up in the afternoon between sight seeing and nighttime exploration the fully equipped kitchen is ready for those guest who prefer to cook at home if you are eager to try some of san francisco s many fantastic restaurant lower nob hill ha plenty of dining option along sutter street toward union square up hyde street toward russian hill and all along polk street which is a short two block walk come visit internet wifi fully equipped kitchen coin operated laundry trash facility in basement close to muni and other public transit please see airbnb s coverage of nob hill to get an idea of thing to do around the neighborhood http www airbnb com location san francisco nob hill also i do not accept reservation with le than hour notice please keep this in mind when sending inquiry and reservation request i will not be in the apartment during your stay but i will give you a quick walk thru and answer any question about the apartment and the neighborhood when you arrive i am usually in town and always available to answer any additional question that may come up my neighborhood is the most urban section of san francisco and being a city boy at heart my parent are from brooklyn and the bronx and i am originally from baltimore i love that aspect of lower nob hill also being contiguous to nob hill chinatown union square the tenderloin and the financial district i think my neighborhood is the most eclectic section of san francisco it s full of art student hipster retiree foreign tourist and young professional there are several bus line that run within a couple of block of my apartment to access other part of the city in all four direction in addition the california street cable car run three block north unfortunately street parking in the neighborhood can be difficult though there are several public parking garage in and around the neighborhood metered street parking is in effect day a week in addition to street cleaning restriction\n",
      "cheer and bright studio in edwardian build in lower nob hill conveni locat near sever major bus rout includ san francisco s famous cabl car this sunni apart comfort sleep two minut from union squar and maiden lane shop area the vibrant neighborhood of chinatown and north beach sever michelin rate restaur and a brisk uphil walk to beauti grace cathedr face west onto hyde street my apart get ton of late afternoon sunlight it s a cozi place to rest up in the afternoon between sight see and nighttim explor the fulli equip kitchen is readi for those guest who prefer to cook at home if you are eager to tri some of san francisco s mani fantast restaur lower nob hill has plenti of dine option along sutter street toward union squar up hyde street toward russian hill and all along polk street which is a short two block walk come visit internet wifi fulli equip kitchen coin oper laundri trash facil in basement close to muni and other public transit pleas see airbnb s coverag of nob hill to get an idea of thing to do around the neighborhood https www airbnb com locat san francisco nob hill also i do not accept reserv with less than hour notic pleas keep this in mind when send inquiri and reserv request i will not be in the apart dure your stay but i will give you a quick walk thru and answer ani question about the apart and the neighborhood when you arriv i am usual in town and alway avail to answer ani addit question that may come up my neighborhood is the most urban section of san francisco and be a citi boy at heart my parent are from brooklyn and the bronx and i am origin from baltimor i love that aspect of lower nob hill also be contigu to nob hill chinatown union squar the tenderloin and the financi district i think my neighborhood is the most eclect section of san francisco it s full of art student hipster retire foreign tourist and young profession there are sever bus line that run within a coupl of block of my apart to access other part of the citi in all four direct in addit the california street cabl car run three block north unfortun street park in the neighborhood can be difficult though there are sever public park garag in and around the neighborhood meter street park is in effect day a week in addit to street clean restrict\n",
      "\n"
     ]
    }
   ],
   "source": [
    "for i, x in enumerate(desc_clean[:5]):\n",
    "    print i\n",
    "    print \n",
    "    print x\n",
    "    print ' '.join([lemma.lemmatize(word) for word in x.split()])\n",
    "    print ' '.join([sb.stem(word) for word in x.split()])\n",
    "    print"
   ]
  },
  {
   "cell_type": "markdown",
   "metadata": {},
   "source": [
    "I'm a big fan of the lemmatizer, as it just appears to give beter results. While I didn't robustly test this, I think it's safe to move forward and further explore the situation'"
   ]
  },
  {
   "cell_type": "markdown",
   "metadata": {},
   "source": [
    "###Naive Bayes"
   ]
  },
  {
   "cell_type": "code",
   "execution_count": 96,
   "metadata": {
    "collapsed": true
   },
   "outputs": [],
   "source": [
    "from sklearn.feature_extraction.text import TfidfVectorizer\n",
    "from sklearn.naive_bayes import MultinomialNB\n",
    "from sklearn.cross_validation import train_test_split\n",
    "from sklearn.grid_search import GridSearchCV"
   ]
  },
  {
   "cell_type": "code",
   "execution_count": 102,
   "metadata": {
    "collapsed": false
   },
   "outputs": [],
   "source": [
    "#set up data\n",
    "X_doc = copy(desc_clean)"
   ]
  },
  {
   "cell_type": "code",
   "execution_count": null,
   "metadata": {
    "collapsed": false
   },
   "outputs": [],
   "source": [
    "#What are the top most used words\n",
    "tfidf = TfidfVectorizer()\n",
    "vectorized_corpus = tfidf.fit_transform(X_doc)\n",
    "X_train = vectorized_corpus.toarray()\n",
    "sorted(zip(tfidf.get_feature_names(), tfidf.idf_), key=lambda x: x[1])[:20]"
   ]
  },
  {
   "cell_type": "code",
   "execution_count": 146,
   "metadata": {
    "collapsed": false
   },
   "outputs": [
    {
     "data": {
      "text/plain": [
       "16655"
      ]
     },
     "execution_count": 146,
     "metadata": {},
     "output_type": "execute_result"
    }
   ],
   "source": [
    "#how many words do I have in my corpus?\n",
    "len(tfidf.get_feature_names())"
   ]
  },
  {
   "cell_type": "code",
   "execution_count": 112,
   "metadata": {
    "collapsed": true
   },
   "outputs": [],
   "source": [
    "mnb = MultinomialNB()"
   ]
  },
  {
   "cell_type": "code",
   "execution_count": 175,
   "metadata": {
    "collapsed": false
   },
   "outputs": [],
   "source": [
    "def run_mnb(max_df, max_features, min_df, random_state, y):\n",
    "    \n",
    "    X_train_doc, X_test_doc, y_train, y_test = train_test_split(X_doc, y, random_state=random_state)\n",
    "    \n",
    "    tfidf=TfidfVectorizer(max_df=max_df, max_features=max_features, min_df=min_df)\n",
    "    vectorized_corpus = tfidf.fit_transform(X_train_doc)\n",
    "    X_train = vectorized_corpus.toarray()\n",
    "    \n",
    "    mnb.fit(X_train, y_train)\n",
    "    train_score = mnb.score(X_train, y_train)\n",
    "\n",
    "    X_test = tfidf.transform(X_test_doc).toarray()\n",
    "    test_score = mnb.score(X_test, y_test)\n",
    "\n",
    "    return (train_score, test_score)"
   ]
  },
  {
   "cell_type": "code",
   "execution_count": 176,
   "metadata": {
    "collapsed": false
   },
   "outputs": [],
   "source": [
    "#Running a nice grid search to see what features matter\n",
    "def run_mnb_grid_search(y):\n",
    "    max_df_list = [.5, .66, .75, .83, .90, 1.0]\n",
    "    max_feature_list = [500, 1000, 2000, 3000, 4000, 5000, 8000]\n",
    "    min_df_list = [1,2]\n",
    "    random_state_list = [1, 42, 1337]\n",
    "\n",
    "    results = []\n",
    "    for max_df in max_df_list:\n",
    "        for max_features in max_feature_list:\n",
    "            for min_df in min_df_list:\n",
    "                for random_state in random_state_list:\n",
    "                    train_score, test_score = run_mnb(max_df, max_features, min_df, random_state, y)\n",
    "                    cur_result = [max_df, max_features, min_df, random_state, train_score, test_score]\n",
    "                    print cur_result\n",
    "                    results.append(cur_result)\n",
    "    return results"
   ]
  },
  {
   "cell_type": "code",
   "execution_count": 177,
   "metadata": {
    "collapsed": false
   },
   "outputs": [
    {
     "name": "stdout",
     "output_type": "stream",
     "text": [
      "[0.5, 500, 1, 1, 0.73865546218487399, 0.72544080604534]\n",
      "[0.5, 500, 1, 42, 0.73571428571428577, 0.72544080604534]\n",
      "[0.5, 500, 1, 1337, 0.73655462184873954, 0.66120906801007562]\n",
      "[0.5, 500, 2, 1, 0.73991596638655466, 0.72670025188916876]\n",
      "[0.5, 500, 2, 42, 0.73571428571428577, 0.72544080604534]\n",
      "[0.5, 500, 2, 1337, 0.73655462184873954, 0.66120906801007562]\n",
      "[0.5, 1000, 1, 1, 0.79621848739495793, 0.76448362720403018]\n",
      "[0.5, 1000, 1, 42, 0.79915966386554627, 0.75818639798488663]\n",
      "[0.5, 1000, 1, 1337, 0.79831932773109249, 0.70528967254408059]\n",
      "[0.5, 1000, 2, 1, 0.79621848739495793, 0.76574307304785894]\n",
      "[0.5, 1000, 2, 42, 0.79915966386554627, 0.75818639798488663]\n",
      "[0.5, 1000, 2, 1337, 0.79705882352941182, 0.70654911838790935]\n",
      "[0.5, 2000, 1, 1, 0.82310924369747895, 0.76448362720403018]\n",
      "[0.5, 2000, 1, 42, 0.82058823529411762, 0.77959697732997479]\n",
      "[0.5, 2000, 1, 1337, 0.82563025210084029, 0.71662468513853905]\n",
      "[0.5, 2000, 2, 1, 0.82436974789915962, 0.76700251889168769]\n",
      "[0.5, 2000, 2, 42, 0.82184873949579829, 0.77959697732997479]\n",
      "[0.5, 2000, 2, 1337, 0.82605042016806718, 0.71662468513853905]\n",
      "[0.5, 3000, 1, 1, 0.82731092436974785, 0.75566750629722923]\n",
      "[0.5, 3000, 1, 42, 0.82226890756302518, 0.77329974811083124]\n",
      "[0.5, 3000, 1, 1337, 0.8214285714285714, 0.71158690176322414]\n",
      "[0.5, 3000, 2, 1, 0.82605042016806718, 0.75692695214105798]\n",
      "[0.5, 3000, 2, 42, 0.82100840336134451, 0.77455919395466]\n",
      "[0.5, 3000, 2, 1337, 0.82184873949579829, 0.7128463476070529]\n",
      "[0.5, 4000, 1, 1, 0.81974789915966384, 0.74433249370277077]\n",
      "[0.5, 4000, 1, 42, 0.8134453781512605, 0.75314861460957183]\n",
      "[0.5, 4000, 1, 1337, 0.81134453781512605, 0.68513853904282118]\n",
      "[0.5, 4000, 2, 1, 0.81932773109243695, 0.74433249370277077]\n",
      "[0.5, 4000, 2, 42, 0.8134453781512605, 0.75188916876574308]\n",
      "[0.5, 4000, 2, 1337, 0.81134453781512605, 0.68513853904282118]\n",
      "[0.5, 5000, 1, 1, 0.80756302521008405, 0.73929471032745597]\n",
      "[0.5, 5000, 1, 42, 0.7978991596638656, 0.73425692695214106]\n",
      "[0.5, 5000, 1, 1337, 0.79327731092436971, 0.67380352644836272]\n",
      "[0.5, 5000, 2, 1, 0.80756302521008405, 0.73929471032745597]\n",
      "[0.5, 5000, 2, 42, 0.79831932773109249, 0.73803526448362722]\n",
      "[0.5, 5000, 2, 1337, 0.79327731092436971, 0.67380352644836272]\n",
      "[0.5, 8000, 1, 1, 0.75252100840336134, 0.7002518891687658]\n",
      "[0.5, 8000, 1, 42, 0.74789915966386555, 0.69647355163727964]\n",
      "[0.5, 8000, 1, 1337, 0.74159663865546221, 0.63979848866498745]\n",
      "[0.5, 8000, 2, 1, 0.75420168067226889, 0.7002518891687658]\n",
      "[0.5, 8000, 2, 42, 0.74789915966386555, 0.69647355163727964]\n",
      "[0.5, 8000, 2, 1337, 0.74159663865546221, 0.63727959697732994]\n",
      "[0.66, 500, 1, 1, 0.7298319327731092, 0.71788413098236781]\n",
      "[0.66, 500, 1, 42, 0.72815126050420165, 0.71410579345088165]\n",
      "[0.66, 500, 1, 1337, 0.73277310924369743, 0.65869017632241811]\n",
      "[0.66, 500, 2, 1, 0.72941176470588232, 0.71788413098236781]\n",
      "[0.66, 500, 2, 42, 0.72815126050420165, 0.71410579345088165]\n",
      "[0.66, 500, 2, 1337, 0.73277310924369743, 0.65869017632241811]\n",
      "[0.66, 1000, 1, 1, 0.79201680672268904, 0.76070528967254403]\n",
      "[0.66, 1000, 1, 42, 0.7894957983193277, 0.75188916876574308]\n",
      "[0.66, 1000, 1, 1337, 0.7894957983193277, 0.7002518891687658]\n",
      "[0.66, 1000, 2, 1, 0.79201680672268904, 0.75818639798488663]\n",
      "[0.66, 1000, 2, 42, 0.7894957983193277, 0.75188916876574308]\n",
      "[0.66, 1000, 2, 1337, 0.7894957983193277, 0.7002518891687658]\n",
      "[0.66, 2000, 1, 1, 0.81932773109243695, 0.76196473551637278]\n",
      "[0.66, 2000, 1, 42, 0.81260504201680672, 0.77455919395466]\n",
      "[0.66, 2000, 1, 1337, 0.81974789915966384, 0.70906801007556675]\n",
      "[0.66, 2000, 2, 1, 0.81932773109243695, 0.76196473551637278]\n",
      "[0.66, 2000, 2, 42, 0.81302521008403361, 0.77581863979848864]\n",
      "[0.66, 2000, 2, 1337, 0.81932773109243695, 0.70780856423173799]\n",
      "[0.66, 3000, 1, 1, 0.82310924369747895, 0.74937027707808568]\n",
      "[0.66, 3000, 1, 42, 0.81134453781512605, 0.76448362720403018]\n",
      "[0.66, 3000, 1, 1337, 0.81764705882352939, 0.70277078085642319]\n",
      "[0.66, 3000, 2, 1, 0.82226890756302518, 0.75314861460957183]\n",
      "[0.66, 3000, 2, 42, 0.81050420168067228, 0.76574307304785894]\n",
      "[0.66, 3000, 2, 1337, 0.81512605042016806, 0.70403022670025184]\n",
      "[0.66, 4000, 1, 1, 0.81134453781512605, 0.73551637279596982]\n",
      "[0.66, 4000, 1, 42, 0.80252100840336138, 0.74055415617128462]\n",
      "[0.66, 4000, 1, 1337, 0.80210084033613449, 0.68136020151133503]\n",
      "[0.66, 4000, 2, 1, 0.81050420168067228, 0.73551637279596982]\n",
      "[0.66, 4000, 2, 42, 0.80294117647058827, 0.74055415617128462]\n",
      "[0.66, 4000, 2, 1337, 0.80294117647058827, 0.68010075566750627]\n",
      "[0.66, 5000, 1, 1, 0.79621848739495793, 0.73047858942065491]\n",
      "[0.66, 5000, 1, 42, 0.78487394957983192, 0.72418136020151136]\n",
      "[0.66, 5000, 1, 1337, 0.77899159663865547, 0.66624685138539042]\n",
      "[0.66, 5000, 2, 1, 0.79663865546218482, 0.73047858942065491]\n",
      "[0.66, 5000, 2, 42, 0.7857142857142857, 0.72418136020151136]\n",
      "[0.66, 5000, 2, 1337, 0.77857142857142858, 0.66624685138539042]\n",
      "[0.66, 8000, 1, 1, 0.74075630252100844, 0.69143576826196473]\n",
      "[0.66, 8000, 1, 42, 0.73781512605042021, 0.68387909319899243]\n",
      "[0.66, 8000, 1, 1337, 0.73025210084033609, 0.63350125944584379]\n",
      "[0.66, 8000, 2, 1, 0.74033613445378155, 0.69143576826196473]\n",
      "[0.66, 8000, 2, 42, 0.7382352941176471, 0.68513853904282118]\n",
      "[0.66, 8000, 2, 1337, 0.73025210084033609, 0.63350125944584379]\n",
      "[0.75, 500, 1, 1, 0.72689075630252098, 0.71410579345088165]\n",
      "[0.75, 500, 1, 42, 0.72773109243697476, 0.71158690176322414]\n",
      "[0.75, 500, 1, 1337, 0.73151260504201676, 0.65994962216624686]\n",
      "[0.75, 500, 2, 1, 0.72689075630252098, 0.71410579345088165]\n",
      "[0.75, 500, 2, 42, 0.72773109243697476, 0.71158690176322414]\n",
      "[0.75, 500, 2, 1337, 0.73067226890756298, 0.65994962216624686]\n",
      "[0.75, 1000, 1, 1, 0.79033613445378148, 0.75944584382871538]\n",
      "[0.75, 1000, 1, 42, 0.78907563025210081, 0.75062972292191432]\n",
      "[0.75, 1000, 1, 1337, 0.78865546218487392, 0.70151133501259444]\n",
      "[0.75, 1000, 2, 1, 0.79033613445378148, 0.75818639798488663]\n",
      "[0.75, 1000, 2, 42, 0.78907563025210081, 0.75188916876574308]\n",
      "[0.75, 1000, 2, 1337, 0.78907563025210081, 0.70151133501259444]\n",
      "[0.75, 2000, 1, 1, 0.81806722689075628, 0.76070528967254403]\n",
      "[0.75, 2000, 1, 42, 0.81260504201680672, 0.77581863979848864]\n",
      "[0.75, 2000, 1, 1337, 0.81848739495798317, 0.70780856423173799]\n",
      "[0.75, 2000, 2, 1, 0.81848739495798317, 0.76196473551637278]\n",
      "[0.75, 2000, 2, 42, 0.81302521008403361, 0.77581863979848864]\n",
      "[0.75, 2000, 2, 1337, 0.81974789915966384, 0.70780856423173799]\n",
      "[0.75, 3000, 1, 1, 0.82016806722689073, 0.74937027707808568]\n",
      "[0.75, 3000, 1, 42, 0.81092436974789917, 0.76448362720403018]\n",
      "[0.75, 3000, 1, 1337, 0.81260504201680672, 0.70277078085642319]\n",
      "[0.75, 3000, 2, 1, 0.81974789915966384, 0.75188916876574308]\n",
      "[0.75, 3000, 2, 42, 0.81008403361344539, 0.76322418136020154]\n",
      "[0.75, 3000, 2, 1337, 0.81176470588235294, 0.70528967254408059]\n",
      "[0.75, 4000, 1, 1, 0.81008403361344539, 0.73551637279596982]\n",
      "[0.75, 4000, 1, 42, 0.80252100840336138, 0.73929471032745597]\n",
      "[0.75, 4000, 1, 1337, 0.80000000000000004, 0.68261964735516378]\n",
      "[0.75, 4000, 2, 1, 0.81008403361344539, 0.73425692695214106]\n",
      "[0.75, 4000, 2, 42, 0.80084033613445382, 0.74181360201511337]\n",
      "[0.75, 4000, 2, 1337, 0.80000000000000004, 0.68136020151133503]\n",
      "[0.75, 5000, 1, 1, 0.79453781512605037, 0.72921914357682616]\n",
      "[0.75, 5000, 1, 42, 0.78361344537815125, 0.72040302267002521]\n",
      "[0.75, 5000, 1, 1337, 0.77647058823529413, 0.66372795969773302]\n",
      "[0.75, 5000, 2, 1, 0.79453781512605037, 0.72795969773299751]\n",
      "[0.75, 5000, 2, 42, 0.78445378151260503, 0.72418136020151136]\n",
      "[0.75, 5000, 2, 1337, 0.7777310924369748, 0.66498740554156166]\n",
      "[0.75, 8000, 1, 1, 0.73739495798319332, 0.69143576826196473]\n",
      "[0.75, 8000, 1, 42, 0.7344537815126051, 0.68387909319899243]\n",
      "[0.75, 8000, 1, 1337, 0.72941176470588232, 0.63098236775818639]\n",
      "[0.75, 8000, 2, 1, 0.73739495798319332, 0.69143576826196473]\n",
      "[0.75, 8000, 2, 42, 0.73613445378151265, 0.68387909319899243]\n",
      "[0.75, 8000, 2, 1337, 0.72941176470588232, 0.62972292191435764]\n",
      "[0.83, 500, 1, 1, 0.72689075630252098, 0.71158690176322414]\n",
      "[0.83, 500, 1, 42, 0.72731092436974787, 0.70654911838790935]\n",
      "[0.83, 500, 1, 1337, 0.72815126050420165, 0.65365239294710331]\n",
      "[0.83, 500, 2, 1, 0.72689075630252098, 0.71158690176322414]\n",
      "[0.83, 500, 2, 42, 0.72731092436974787, 0.70654911838790935]\n",
      "[0.83, 500, 2, 1337, 0.72773109243697476, 0.65365239294710331]\n",
      "[0.83, 1000, 1, 1, 0.7894957983193277, 0.75566750629722923]\n",
      "[0.83, 1000, 1, 42, 0.78151260504201681, 0.74937027707808568]\n",
      "[0.83, 1000, 1, 1337, 0.78739495798319326, 0.7002518891687658]\n",
      "[0.83, 1000, 2, 1, 0.79075630252100837, 0.75566750629722923]\n",
      "[0.83, 1000, 2, 42, 0.78235294117647058, 0.74937027707808568]\n",
      "[0.83, 1000, 2, 1337, 0.78823529411764703, 0.7002518891687658]\n",
      "[0.83, 2000, 1, 1, 0.81638655462184873, 0.75818639798488663]\n",
      "[0.83, 2000, 1, 42, 0.81092436974789917, 0.77204030226700249]\n",
      "[0.83, 2000, 1, 1337, 0.81638655462184873, 0.70528967254408059]\n",
      "[0.83, 2000, 2, 1, 0.81680672268907561, 0.76196473551637278]\n",
      "[0.83, 2000, 2, 42, 0.81092436974789917, 0.77329974811083124]\n",
      "[0.83, 2000, 2, 1337, 0.81680672268907561, 0.70528967254408059]\n",
      "[0.83, 3000, 1, 1, 0.81890756302521006, 0.74811083123425692]\n",
      "[0.83, 3000, 1, 42, 0.80798319327731094, 0.75944584382871538]\n",
      "[0.83, 3000, 1, 1337, 0.80882352941176472, 0.69899244332493704]\n",
      "[0.83, 3000, 2, 1, 0.82058823529411762, 0.75062972292191432]\n",
      "[0.83, 3000, 2, 42, 0.80798319327731094, 0.75944584382871538]\n",
      "[0.83, 3000, 2, 1337, 0.80882352941176472, 0.69647355163727964]\n",
      "[0.83, 4000, 1, 1, 0.80798319327731094, 0.73803526448362722]\n",
      "[0.83, 4000, 1, 42, 0.80000000000000004, 0.73929471032745597]\n",
      "[0.83, 4000, 1, 1337, 0.79705882352941182, 0.67884130982367763]\n",
      "[0.83, 4000, 2, 1, 0.80714285714285716, 0.73803526448362722]\n",
      "[0.83, 4000, 2, 42, 0.79873949579831938, 0.74055415617128462]\n",
      "[0.83, 4000, 2, 1337, 0.79621848739495793, 0.67884130982367763]\n",
      "[0.83, 5000, 1, 1, 0.78907563025210081, 0.72544080604534]\n",
      "[0.83, 5000, 1, 42, 0.77983193277310925, 0.72166246851385385]\n",
      "[0.83, 5000, 1, 1337, 0.77352941176470591, 0.65994962216624686]\n",
      "[0.83, 5000, 2, 1, 0.78823529411764703, 0.72418136020151136]\n",
      "[0.83, 5000, 2, 42, 0.78277310924369747, 0.72040302267002521]\n",
      "[0.83, 5000, 2, 1337, 0.77436974789915969, 0.65994962216624686]\n",
      "[0.83, 8000, 1, 1, 0.7340336134453781, 0.69017632241813598]\n",
      "[0.83, 8000, 1, 42, 0.73277310924369743, 0.68136020151133503]\n",
      "[0.83, 8000, 1, 1337, 0.72521008403361342, 0.62972292191435764]\n",
      "[0.83, 8000, 2, 1, 0.7344537815126051, 0.68891687657430734]\n",
      "[0.83, 8000, 2, 42, 0.73193277310924365, 0.68136020151133503]\n",
      "[0.83, 8000, 2, 1337, 0.72647058823529409, 0.63098236775818639]\n",
      "[0.9, 500, 1, 1, 0.72563025210084031, 0.71158690176322414]\n",
      "[0.9, 500, 1, 42, 0.72731092436974787, 0.7002518891687658]\n",
      "[0.9, 500, 1, 1337, 0.72899159663865543, 0.65239294710327456]\n",
      "[0.9, 500, 2, 1, 0.72563025210084031, 0.71158690176322414]\n",
      "[0.9, 500, 2, 42, 0.72731092436974787, 0.7002518891687658]\n",
      "[0.9, 500, 2, 1337, 0.72899159663865543, 0.65239294710327456]\n",
      "[0.9, 1000, 1, 1, 0.78865546218487392, 0.75566750629722923]\n",
      "[0.9, 1000, 1, 42, 0.78025210084033614, 0.74937027707808568]\n",
      "[0.9, 1000, 1, 1337, 0.78739495798319326, 0.7002518891687658]\n",
      "[0.9, 1000, 2, 1, 0.79075630252100837, 0.75566750629722923]\n",
      "[0.9, 1000, 2, 42, 0.77941176470588236, 0.74811083123425692]\n",
      "[0.9, 1000, 2, 1337, 0.78697478991596637, 0.7002518891687658]\n",
      "[0.9, 2000, 1, 1, 0.81638655462184873, 0.75944584382871538]\n",
      "[0.9, 2000, 1, 42, 0.81008403361344539, 0.77078085642317384]\n",
      "[0.9, 2000, 1, 1337, 0.81680672268907561, 0.70528967254408059]\n",
      "[0.9, 2000, 2, 1, 0.81680672268907561, 0.75692695214105798]\n",
      "[0.9, 2000, 2, 42, 0.81050420168067228, 0.77078085642317384]\n",
      "[0.9, 2000, 2, 1337, 0.81680672268907561, 0.70528967254408059]\n",
      "[0.9, 3000, 1, 1, 0.81848739495798317, 0.74937027707808568]\n",
      "[0.9, 3000, 1, 42, 0.80798319327731094, 0.75818639798488663]\n",
      "[0.9, 3000, 1, 1337, 0.80882352941176472, 0.69899244332493704]\n",
      "[0.9, 3000, 2, 1, 0.8172268907563025, 0.75188916876574308]\n",
      "[0.9, 3000, 2, 42, 0.80798319327731094, 0.75818639798488663]\n",
      "[0.9, 3000, 2, 1337, 0.81050420168067228, 0.69395465994962213]\n",
      "[0.9, 4000, 1, 1, 0.80798319327731094, 0.73803526448362722]\n",
      "[0.9, 4000, 1, 42, 0.79831932773109249, 0.74055415617128462]\n",
      "[0.9, 4000, 1, 1337, 0.79327731092436971, 0.68136020151133503]\n",
      "[0.9, 4000, 2, 1, 0.80798319327731094, 0.73425692695214106]\n",
      "[0.9, 4000, 2, 42, 0.79831932773109249, 0.73929471032745597]\n",
      "[0.9, 4000, 2, 1337, 0.79327731092436971, 0.68010075566750627]\n",
      "[0.9, 5000, 1, 1, 0.78865546218487392, 0.72670025188916876]\n",
      "[0.9, 5000, 1, 42, 0.78025210084033614, 0.72040302267002521]\n",
      "[0.9, 5000, 1, 1337, 0.77226890756302524, 0.65869017632241811]\n",
      "[0.9, 5000, 2, 1, 0.78655462184873948, 0.72544080604534]\n",
      "[0.9, 5000, 2, 42, 0.77941176470588236, 0.72166246851385385]\n",
      "[0.9, 5000, 2, 1337, 0.77058823529411768, 0.65994962216624686]\n",
      "[0.9, 8000, 1, 1, 0.73487394957983199, 0.69017632241813598]\n",
      "[0.9, 8000, 1, 42, 0.73025210084033609, 0.68136020151133503]\n",
      "[0.9, 8000, 1, 1337, 0.7222689075630252, 0.63098236775818639]\n",
      "[0.9, 8000, 2, 1, 0.7344537815126051, 0.68891687657430734]\n",
      "[0.9, 8000, 2, 42, 0.73025210084033609, 0.68136020151133503]\n",
      "[0.9, 8000, 2, 1337, 0.72478991596638653, 0.63098236775818639]\n",
      "[1.0, 500, 1, 1, 0.71638655462184875, 0.69521410579345089]\n",
      "[1.0, 500, 1, 42, 0.70840336134453785, 0.69269521410579349]\n",
      "[1.0, 500, 1, 1337, 0.71008403361344541, 0.63098236775818639]\n",
      "[1.0, 500, 2, 1, 0.71512605042016808, 0.69269521410579349]\n",
      "[1.0, 500, 2, 42, 0.70756302521008407, 0.69269521410579349]\n",
      "[1.0, 500, 2, 1337, 0.7105042016806723, 0.63098236775818639]\n",
      "[1.0, 1000, 1, 1, 0.77436974789915969, 0.74181360201511337]\n",
      "[1.0, 1000, 1, 42, 0.76512605042016801, 0.73677581863979846]\n",
      "[1.0, 1000, 1, 1337, 0.76764705882352946, 0.67758186397984888]\n",
      "[1.0, 1000, 2, 1, 0.77352941176470591, 0.74181360201511337]\n",
      "[1.0, 1000, 2, 42, 0.76512605042016801, 0.73677581863979846]\n",
      "[1.0, 1000, 2, 1337, 0.76764705882352946, 0.67758186397984888]\n",
      "[1.0, 2000, 1, 1, 0.8054621848739496, 0.74937027707808568]\n",
      "[1.0, 2000, 1, 42, 0.79159663865546215, 0.75818639798488663]\n",
      "[1.0, 2000, 1, 1337, 0.79411764705882348, 0.69017632241813598]\n",
      "[1.0, 2000, 2, 1, 0.80588235294117649, 0.74685138539042817]\n",
      "[1.0, 2000, 2, 42, 0.79117647058823526, 0.75566750629722923]\n",
      "[1.0, 2000, 2, 1337, 0.79411764705882348, 0.69143576826196473]\n",
      "[1.0, 3000, 1, 1, 0.80378151260504205, 0.73929471032745597]\n",
      "[1.0, 3000, 1, 42, 0.79243697478991593, 0.74055415617128462]\n",
      "[1.0, 3000, 1, 1337, 0.78529411764705881, 0.68010075566750627]\n",
      "[1.0, 3000, 2, 1, 0.80336134453781516, 0.73929471032745597]\n",
      "[1.0, 3000, 2, 42, 0.79285714285714282, 0.74055415617128462]\n",
      "[1.0, 3000, 2, 1337, 0.78655462184873948, 0.67506297229219148]\n",
      "[1.0, 4000, 1, 1, 0.78907563025210081, 0.72670025188916876]\n",
      "[1.0, 4000, 1, 42, 0.77857142857142858, 0.72544080604534]\n",
      "[1.0, 4000, 1, 1337, 0.76806722689075635, 0.65994962216624686]\n",
      "[1.0, 4000, 2, 1, 0.78865546218487392, 0.72795969773299751]\n",
      "[1.0, 4000, 2, 42, 0.77899159663865547, 0.72544080604534]\n",
      "[1.0, 4000, 2, 1337, 0.76764705882352946, 0.66120906801007562]\n",
      "[1.0, 5000, 1, 1, 0.76218487394957979, 0.71158690176322414]\n",
      "[1.0, 5000, 1, 42, 0.75462184873949578, 0.69899244332493704]\n",
      "[1.0, 5000, 1, 1337, 0.74705882352941178, 0.64735516372795965]\n",
      "[1.0, 5000, 2, 1, 0.76092436974789912, 0.7103274559193955]\n",
      "[1.0, 5000, 2, 42, 0.75504201680672267, 0.7002518891687658]\n",
      "[1.0, 5000, 2, 1337, 0.74705882352941178, 0.6486146095717884]\n",
      "[1.0, 8000, 1, 1, 0.7142857142857143, 0.67758186397984888]\n",
      "[1.0, 8000, 1, 42, 0.7105042016806723, 0.67128463476070532]\n",
      "[1.0, 8000, 1, 1337, 0.70840336134453785, 0.62216624685138544]\n",
      "[1.0, 8000, 2, 1, 0.71470588235294119, 0.67506297229219148]\n",
      "[1.0, 8000, 2, 42, 0.70882352941176474, 0.67128463476070532]\n",
      "[1.0, 8000, 2, 1337, 0.70714285714285718, 0.62090680100755669]\n"
     ]
    }
   ],
   "source": [
    "y = merged_df['is_artsy']\n",
    "results = run_mnb_grid_search(y)"
   ]
  },
  {
   "cell_type": "code",
   "execution_count": 271,
   "metadata": {
    "collapsed": false
   },
   "outputs": [
    {
     "data": {
      "text/html": [
       "<div style=\"max-height:1000px;max-width:1500px;overflow:auto;\">\n",
       "<table border=\"1\" class=\"dataframe\">\n",
       "  <thead>\n",
       "    <tr style=\"text-align: right;\">\n",
       "      <th></th>\n",
       "      <th>max_df</th>\n",
       "      <th>max_features</th>\n",
       "      <th>min_df</th>\n",
       "      <th>random_state</th>\n",
       "      <th>train_score</th>\n",
       "      <th>test_score</th>\n",
       "    </tr>\n",
       "  </thead>\n",
       "  <tbody>\n",
       "    <tr>\n",
       "      <th>13 </th>\n",
       "      <td> 0.50</td>\n",
       "      <td> 2000</td>\n",
       "      <td> 1</td>\n",
       "      <td>   42</td>\n",
       "      <td> 0.820588</td>\n",
       "      <td> 0.779597</td>\n",
       "    </tr>\n",
       "    <tr>\n",
       "      <th>16 </th>\n",
       "      <td> 0.50</td>\n",
       "      <td> 2000</td>\n",
       "      <td> 2</td>\n",
       "      <td>   42</td>\n",
       "      <td> 0.821849</td>\n",
       "      <td> 0.779597</td>\n",
       "    </tr>\n",
       "    <tr>\n",
       "      <th>58 </th>\n",
       "      <td> 0.66</td>\n",
       "      <td> 2000</td>\n",
       "      <td> 2</td>\n",
       "      <td>   42</td>\n",
       "      <td> 0.813025</td>\n",
       "      <td> 0.775819</td>\n",
       "    </tr>\n",
       "    <tr>\n",
       "      <th>97 </th>\n",
       "      <td> 0.75</td>\n",
       "      <td> 2000</td>\n",
       "      <td> 1</td>\n",
       "      <td>   42</td>\n",
       "      <td> 0.812605</td>\n",
       "      <td> 0.775819</td>\n",
       "    </tr>\n",
       "    <tr>\n",
       "      <th>100</th>\n",
       "      <td> 0.75</td>\n",
       "      <td> 2000</td>\n",
       "      <td> 2</td>\n",
       "      <td>   42</td>\n",
       "      <td> 0.813025</td>\n",
       "      <td> 0.775819</td>\n",
       "    </tr>\n",
       "    <tr>\n",
       "      <th>22 </th>\n",
       "      <td> 0.50</td>\n",
       "      <td> 3000</td>\n",
       "      <td> 2</td>\n",
       "      <td>   42</td>\n",
       "      <td> 0.821008</td>\n",
       "      <td> 0.774559</td>\n",
       "    </tr>\n",
       "    <tr>\n",
       "      <th>55 </th>\n",
       "      <td> 0.66</td>\n",
       "      <td> 2000</td>\n",
       "      <td> 1</td>\n",
       "      <td>   42</td>\n",
       "      <td> 0.812605</td>\n",
       "      <td> 0.774559</td>\n",
       "    </tr>\n",
       "    <tr>\n",
       "      <th>142</th>\n",
       "      <td> 0.83</td>\n",
       "      <td> 2000</td>\n",
       "      <td> 2</td>\n",
       "      <td>   42</td>\n",
       "      <td> 0.810924</td>\n",
       "      <td> 0.773300</td>\n",
       "    </tr>\n",
       "    <tr>\n",
       "      <th>19 </th>\n",
       "      <td> 0.50</td>\n",
       "      <td> 3000</td>\n",
       "      <td> 1</td>\n",
       "      <td>   42</td>\n",
       "      <td> 0.822269</td>\n",
       "      <td> 0.773300</td>\n",
       "    </tr>\n",
       "    <tr>\n",
       "      <th>139</th>\n",
       "      <td> 0.83</td>\n",
       "      <td> 2000</td>\n",
       "      <td> 1</td>\n",
       "      <td>   42</td>\n",
       "      <td> 0.810924</td>\n",
       "      <td> 0.772040</td>\n",
       "    </tr>\n",
       "    <tr>\n",
       "      <th>181</th>\n",
       "      <td> 0.90</td>\n",
       "      <td> 2000</td>\n",
       "      <td> 1</td>\n",
       "      <td>   42</td>\n",
       "      <td> 0.810084</td>\n",
       "      <td> 0.770781</td>\n",
       "    </tr>\n",
       "    <tr>\n",
       "      <th>184</th>\n",
       "      <td> 0.90</td>\n",
       "      <td> 2000</td>\n",
       "      <td> 2</td>\n",
       "      <td>   42</td>\n",
       "      <td> 0.810504</td>\n",
       "      <td> 0.770781</td>\n",
       "    </tr>\n",
       "    <tr>\n",
       "      <th>15 </th>\n",
       "      <td> 0.50</td>\n",
       "      <td> 2000</td>\n",
       "      <td> 2</td>\n",
       "      <td>    1</td>\n",
       "      <td> 0.824370</td>\n",
       "      <td> 0.767003</td>\n",
       "    </tr>\n",
       "    <tr>\n",
       "      <th>9  </th>\n",
       "      <td> 0.50</td>\n",
       "      <td> 1000</td>\n",
       "      <td> 2</td>\n",
       "      <td>    1</td>\n",
       "      <td> 0.796218</td>\n",
       "      <td> 0.765743</td>\n",
       "    </tr>\n",
       "    <tr>\n",
       "      <th>64 </th>\n",
       "      <td> 0.66</td>\n",
       "      <td> 3000</td>\n",
       "      <td> 2</td>\n",
       "      <td>   42</td>\n",
       "      <td> 0.810504</td>\n",
       "      <td> 0.765743</td>\n",
       "    </tr>\n",
       "    <tr>\n",
       "      <th>12 </th>\n",
       "      <td> 0.50</td>\n",
       "      <td> 2000</td>\n",
       "      <td> 1</td>\n",
       "      <td>    1</td>\n",
       "      <td> 0.823109</td>\n",
       "      <td> 0.764484</td>\n",
       "    </tr>\n",
       "    <tr>\n",
       "      <th>61 </th>\n",
       "      <td> 0.66</td>\n",
       "      <td> 3000</td>\n",
       "      <td> 1</td>\n",
       "      <td>   42</td>\n",
       "      <td> 0.811345</td>\n",
       "      <td> 0.764484</td>\n",
       "    </tr>\n",
       "    <tr>\n",
       "      <th>103</th>\n",
       "      <td> 0.75</td>\n",
       "      <td> 3000</td>\n",
       "      <td> 1</td>\n",
       "      <td>   42</td>\n",
       "      <td> 0.810924</td>\n",
       "      <td> 0.764484</td>\n",
       "    </tr>\n",
       "    <tr>\n",
       "      <th>6  </th>\n",
       "      <td> 0.50</td>\n",
       "      <td> 1000</td>\n",
       "      <td> 1</td>\n",
       "      <td>    1</td>\n",
       "      <td> 0.796218</td>\n",
       "      <td> 0.764484</td>\n",
       "    </tr>\n",
       "    <tr>\n",
       "      <th>106</th>\n",
       "      <td> 0.75</td>\n",
       "      <td> 3000</td>\n",
       "      <td> 2</td>\n",
       "      <td>   42</td>\n",
       "      <td> 0.810084</td>\n",
       "      <td> 0.763224</td>\n",
       "    </tr>\n",
       "    <tr>\n",
       "      <th>54 </th>\n",
       "      <td> 0.66</td>\n",
       "      <td> 2000</td>\n",
       "      <td> 1</td>\n",
       "      <td>    1</td>\n",
       "      <td> 0.819328</td>\n",
       "      <td> 0.761965</td>\n",
       "    </tr>\n",
       "    <tr>\n",
       "      <th>141</th>\n",
       "      <td> 0.83</td>\n",
       "      <td> 2000</td>\n",
       "      <td> 2</td>\n",
       "      <td>    1</td>\n",
       "      <td> 0.816807</td>\n",
       "      <td> 0.761965</td>\n",
       "    </tr>\n",
       "    <tr>\n",
       "      <th>99 </th>\n",
       "      <td> 0.75</td>\n",
       "      <td> 2000</td>\n",
       "      <td> 2</td>\n",
       "      <td>    1</td>\n",
       "      <td> 0.818487</td>\n",
       "      <td> 0.761965</td>\n",
       "    </tr>\n",
       "    <tr>\n",
       "      <th>57 </th>\n",
       "      <td> 0.66</td>\n",
       "      <td> 2000</td>\n",
       "      <td> 2</td>\n",
       "      <td>    1</td>\n",
       "      <td> 0.819328</td>\n",
       "      <td> 0.761965</td>\n",
       "    </tr>\n",
       "    <tr>\n",
       "      <th>48 </th>\n",
       "      <td> 0.66</td>\n",
       "      <td> 1000</td>\n",
       "      <td> 1</td>\n",
       "      <td>    1</td>\n",
       "      <td> 0.792017</td>\n",
       "      <td> 0.760705</td>\n",
       "    </tr>\n",
       "    <tr>\n",
       "      <th>96 </th>\n",
       "      <td> 0.75</td>\n",
       "      <td> 2000</td>\n",
       "      <td> 1</td>\n",
       "      <td>    1</td>\n",
       "      <td> 0.818067</td>\n",
       "      <td> 0.760705</td>\n",
       "    </tr>\n",
       "    <tr>\n",
       "      <th>180</th>\n",
       "      <td> 0.90</td>\n",
       "      <td> 2000</td>\n",
       "      <td> 1</td>\n",
       "      <td>    1</td>\n",
       "      <td> 0.816387</td>\n",
       "      <td> 0.759446</td>\n",
       "    </tr>\n",
       "    <tr>\n",
       "      <th>90 </th>\n",
       "      <td> 0.75</td>\n",
       "      <td> 1000</td>\n",
       "      <td> 1</td>\n",
       "      <td>    1</td>\n",
       "      <td> 0.790336</td>\n",
       "      <td> 0.759446</td>\n",
       "    </tr>\n",
       "    <tr>\n",
       "      <th>145</th>\n",
       "      <td> 0.83</td>\n",
       "      <td> 3000</td>\n",
       "      <td> 1</td>\n",
       "      <td>   42</td>\n",
       "      <td> 0.807983</td>\n",
       "      <td> 0.759446</td>\n",
       "    </tr>\n",
       "    <tr>\n",
       "      <th>148</th>\n",
       "      <td> 0.83</td>\n",
       "      <td> 3000</td>\n",
       "      <td> 2</td>\n",
       "      <td>   42</td>\n",
       "      <td> 0.807983</td>\n",
       "      <td> 0.759446</td>\n",
       "    </tr>\n",
       "    <tr>\n",
       "      <th>...</th>\n",
       "      <td>...</td>\n",
       "      <td>...</td>\n",
       "      <td>...</td>\n",
       "      <td>...</td>\n",
       "      <td>...</td>\n",
       "      <td>...</td>\n",
       "    </tr>\n",
       "    <tr>\n",
       "      <th>239</th>\n",
       "      <td> 1.00</td>\n",
       "      <td> 4000</td>\n",
       "      <td> 2</td>\n",
       "      <td> 1337</td>\n",
       "      <td> 0.767647</td>\n",
       "      <td> 0.661209</td>\n",
       "    </tr>\n",
       "    <tr>\n",
       "      <th>236</th>\n",
       "      <td> 1.00</td>\n",
       "      <td> 4000</td>\n",
       "      <td> 1</td>\n",
       "      <td> 1337</td>\n",
       "      <td> 0.768067</td>\n",
       "      <td> 0.659950</td>\n",
       "    </tr>\n",
       "    <tr>\n",
       "      <th>161</th>\n",
       "      <td> 0.83</td>\n",
       "      <td> 5000</td>\n",
       "      <td> 2</td>\n",
       "      <td> 1337</td>\n",
       "      <td> 0.774370</td>\n",
       "      <td> 0.659950</td>\n",
       "    </tr>\n",
       "    <tr>\n",
       "      <th>203</th>\n",
       "      <td> 0.90</td>\n",
       "      <td> 5000</td>\n",
       "      <td> 2</td>\n",
       "      <td> 1337</td>\n",
       "      <td> 0.770588</td>\n",
       "      <td> 0.659950</td>\n",
       "    </tr>\n",
       "    <tr>\n",
       "      <th>89 </th>\n",
       "      <td> 0.75</td>\n",
       "      <td>  500</td>\n",
       "      <td> 2</td>\n",
       "      <td> 1337</td>\n",
       "      <td> 0.730672</td>\n",
       "      <td> 0.659950</td>\n",
       "    </tr>\n",
       "    <tr>\n",
       "      <th>86 </th>\n",
       "      <td> 0.75</td>\n",
       "      <td>  500</td>\n",
       "      <td> 1</td>\n",
       "      <td> 1337</td>\n",
       "      <td> 0.731513</td>\n",
       "      <td> 0.659950</td>\n",
       "    </tr>\n",
       "    <tr>\n",
       "      <th>158</th>\n",
       "      <td> 0.83</td>\n",
       "      <td> 5000</td>\n",
       "      <td> 1</td>\n",
       "      <td> 1337</td>\n",
       "      <td> 0.773529</td>\n",
       "      <td> 0.659950</td>\n",
       "    </tr>\n",
       "    <tr>\n",
       "      <th>44 </th>\n",
       "      <td> 0.66</td>\n",
       "      <td>  500</td>\n",
       "      <td> 1</td>\n",
       "      <td> 1337</td>\n",
       "      <td> 0.732773</td>\n",
       "      <td> 0.658690</td>\n",
       "    </tr>\n",
       "    <tr>\n",
       "      <th>47 </th>\n",
       "      <td> 0.66</td>\n",
       "      <td>  500</td>\n",
       "      <td> 2</td>\n",
       "      <td> 1337</td>\n",
       "      <td> 0.732773</td>\n",
       "      <td> 0.658690</td>\n",
       "    </tr>\n",
       "    <tr>\n",
       "      <th>200</th>\n",
       "      <td> 0.90</td>\n",
       "      <td> 5000</td>\n",
       "      <td> 1</td>\n",
       "      <td> 1337</td>\n",
       "      <td> 0.772269</td>\n",
       "      <td> 0.658690</td>\n",
       "    </tr>\n",
       "    <tr>\n",
       "      <th>131</th>\n",
       "      <td> 0.83</td>\n",
       "      <td>  500</td>\n",
       "      <td> 2</td>\n",
       "      <td> 1337</td>\n",
       "      <td> 0.727731</td>\n",
       "      <td> 0.653652</td>\n",
       "    </tr>\n",
       "    <tr>\n",
       "      <th>128</th>\n",
       "      <td> 0.83</td>\n",
       "      <td>  500</td>\n",
       "      <td> 1</td>\n",
       "      <td> 1337</td>\n",
       "      <td> 0.728151</td>\n",
       "      <td> 0.653652</td>\n",
       "    </tr>\n",
       "    <tr>\n",
       "      <th>173</th>\n",
       "      <td> 0.90</td>\n",
       "      <td>  500</td>\n",
       "      <td> 2</td>\n",
       "      <td> 1337</td>\n",
       "      <td> 0.728992</td>\n",
       "      <td> 0.652393</td>\n",
       "    </tr>\n",
       "    <tr>\n",
       "      <th>170</th>\n",
       "      <td> 0.90</td>\n",
       "      <td>  500</td>\n",
       "      <td> 1</td>\n",
       "      <td> 1337</td>\n",
       "      <td> 0.728992</td>\n",
       "      <td> 0.652393</td>\n",
       "    </tr>\n",
       "    <tr>\n",
       "      <th>245</th>\n",
       "      <td> 1.00</td>\n",
       "      <td> 5000</td>\n",
       "      <td> 2</td>\n",
       "      <td> 1337</td>\n",
       "      <td> 0.747059</td>\n",
       "      <td> 0.648615</td>\n",
       "    </tr>\n",
       "    <tr>\n",
       "      <th>242</th>\n",
       "      <td> 1.00</td>\n",
       "      <td> 5000</td>\n",
       "      <td> 1</td>\n",
       "      <td> 1337</td>\n",
       "      <td> 0.747059</td>\n",
       "      <td> 0.647355</td>\n",
       "    </tr>\n",
       "    <tr>\n",
       "      <th>38 </th>\n",
       "      <td> 0.50</td>\n",
       "      <td> 8000</td>\n",
       "      <td> 1</td>\n",
       "      <td> 1337</td>\n",
       "      <td> 0.741597</td>\n",
       "      <td> 0.639798</td>\n",
       "    </tr>\n",
       "    <tr>\n",
       "      <th>41 </th>\n",
       "      <td> 0.50</td>\n",
       "      <td> 8000</td>\n",
       "      <td> 2</td>\n",
       "      <td> 1337</td>\n",
       "      <td> 0.741597</td>\n",
       "      <td> 0.637280</td>\n",
       "    </tr>\n",
       "    <tr>\n",
       "      <th>80 </th>\n",
       "      <td> 0.66</td>\n",
       "      <td> 8000</td>\n",
       "      <td> 1</td>\n",
       "      <td> 1337</td>\n",
       "      <td> 0.730252</td>\n",
       "      <td> 0.633501</td>\n",
       "    </tr>\n",
       "    <tr>\n",
       "      <th>83 </th>\n",
       "      <td> 0.66</td>\n",
       "      <td> 8000</td>\n",
       "      <td> 2</td>\n",
       "      <td> 1337</td>\n",
       "      <td> 0.730252</td>\n",
       "      <td> 0.633501</td>\n",
       "    </tr>\n",
       "    <tr>\n",
       "      <th>206</th>\n",
       "      <td> 0.90</td>\n",
       "      <td> 8000</td>\n",
       "      <td> 1</td>\n",
       "      <td> 1337</td>\n",
       "      <td> 0.722269</td>\n",
       "      <td> 0.630982</td>\n",
       "    </tr>\n",
       "    <tr>\n",
       "      <th>209</th>\n",
       "      <td> 0.90</td>\n",
       "      <td> 8000</td>\n",
       "      <td> 2</td>\n",
       "      <td> 1337</td>\n",
       "      <td> 0.724790</td>\n",
       "      <td> 0.630982</td>\n",
       "    </tr>\n",
       "    <tr>\n",
       "      <th>167</th>\n",
       "      <td> 0.83</td>\n",
       "      <td> 8000</td>\n",
       "      <td> 2</td>\n",
       "      <td> 1337</td>\n",
       "      <td> 0.726471</td>\n",
       "      <td> 0.630982</td>\n",
       "    </tr>\n",
       "    <tr>\n",
       "      <th>212</th>\n",
       "      <td> 1.00</td>\n",
       "      <td>  500</td>\n",
       "      <td> 1</td>\n",
       "      <td> 1337</td>\n",
       "      <td> 0.710084</td>\n",
       "      <td> 0.630982</td>\n",
       "    </tr>\n",
       "    <tr>\n",
       "      <th>122</th>\n",
       "      <td> 0.75</td>\n",
       "      <td> 8000</td>\n",
       "      <td> 1</td>\n",
       "      <td> 1337</td>\n",
       "      <td> 0.729412</td>\n",
       "      <td> 0.630982</td>\n",
       "    </tr>\n",
       "    <tr>\n",
       "      <th>215</th>\n",
       "      <td> 1.00</td>\n",
       "      <td>  500</td>\n",
       "      <td> 2</td>\n",
       "      <td> 1337</td>\n",
       "      <td> 0.710504</td>\n",
       "      <td> 0.630982</td>\n",
       "    </tr>\n",
       "    <tr>\n",
       "      <th>164</th>\n",
       "      <td> 0.83</td>\n",
       "      <td> 8000</td>\n",
       "      <td> 1</td>\n",
       "      <td> 1337</td>\n",
       "      <td> 0.725210</td>\n",
       "      <td> 0.629723</td>\n",
       "    </tr>\n",
       "    <tr>\n",
       "      <th>125</th>\n",
       "      <td> 0.75</td>\n",
       "      <td> 8000</td>\n",
       "      <td> 2</td>\n",
       "      <td> 1337</td>\n",
       "      <td> 0.729412</td>\n",
       "      <td> 0.629723</td>\n",
       "    </tr>\n",
       "    <tr>\n",
       "      <th>248</th>\n",
       "      <td> 1.00</td>\n",
       "      <td> 8000</td>\n",
       "      <td> 1</td>\n",
       "      <td> 1337</td>\n",
       "      <td> 0.708403</td>\n",
       "      <td> 0.622166</td>\n",
       "    </tr>\n",
       "    <tr>\n",
       "      <th>251</th>\n",
       "      <td> 1.00</td>\n",
       "      <td> 8000</td>\n",
       "      <td> 2</td>\n",
       "      <td> 1337</td>\n",
       "      <td> 0.707143</td>\n",
       "      <td> 0.620907</td>\n",
       "    </tr>\n",
       "  </tbody>\n",
       "</table>\n",
       "<p>252 rows × 6 columns</p>\n",
       "</div>"
      ],
      "text/plain": [
       "     max_df  max_features  min_df  random_state  train_score  test_score\n",
       "13     0.50          2000       1            42     0.820588    0.779597\n",
       "16     0.50          2000       2            42     0.821849    0.779597\n",
       "58     0.66          2000       2            42     0.813025    0.775819\n",
       "97     0.75          2000       1            42     0.812605    0.775819\n",
       "100    0.75          2000       2            42     0.813025    0.775819\n",
       "22     0.50          3000       2            42     0.821008    0.774559\n",
       "55     0.66          2000       1            42     0.812605    0.774559\n",
       "142    0.83          2000       2            42     0.810924    0.773300\n",
       "19     0.50          3000       1            42     0.822269    0.773300\n",
       "139    0.83          2000       1            42     0.810924    0.772040\n",
       "181    0.90          2000       1            42     0.810084    0.770781\n",
       "184    0.90          2000       2            42     0.810504    0.770781\n",
       "15     0.50          2000       2             1     0.824370    0.767003\n",
       "9      0.50          1000       2             1     0.796218    0.765743\n",
       "64     0.66          3000       2            42     0.810504    0.765743\n",
       "12     0.50          2000       1             1     0.823109    0.764484\n",
       "61     0.66          3000       1            42     0.811345    0.764484\n",
       "103    0.75          3000       1            42     0.810924    0.764484\n",
       "6      0.50          1000       1             1     0.796218    0.764484\n",
       "106    0.75          3000       2            42     0.810084    0.763224\n",
       "54     0.66          2000       1             1     0.819328    0.761965\n",
       "141    0.83          2000       2             1     0.816807    0.761965\n",
       "99     0.75          2000       2             1     0.818487    0.761965\n",
       "57     0.66          2000       2             1     0.819328    0.761965\n",
       "48     0.66          1000       1             1     0.792017    0.760705\n",
       "96     0.75          2000       1             1     0.818067    0.760705\n",
       "180    0.90          2000       1             1     0.816387    0.759446\n",
       "90     0.75          1000       1             1     0.790336    0.759446\n",
       "145    0.83          3000       1            42     0.807983    0.759446\n",
       "148    0.83          3000       2            42     0.807983    0.759446\n",
       "..      ...           ...     ...           ...          ...         ...\n",
       "239    1.00          4000       2          1337     0.767647    0.661209\n",
       "236    1.00          4000       1          1337     0.768067    0.659950\n",
       "161    0.83          5000       2          1337     0.774370    0.659950\n",
       "203    0.90          5000       2          1337     0.770588    0.659950\n",
       "89     0.75           500       2          1337     0.730672    0.659950\n",
       "86     0.75           500       1          1337     0.731513    0.659950\n",
       "158    0.83          5000       1          1337     0.773529    0.659950\n",
       "44     0.66           500       1          1337     0.732773    0.658690\n",
       "47     0.66           500       2          1337     0.732773    0.658690\n",
       "200    0.90          5000       1          1337     0.772269    0.658690\n",
       "131    0.83           500       2          1337     0.727731    0.653652\n",
       "128    0.83           500       1          1337     0.728151    0.653652\n",
       "173    0.90           500       2          1337     0.728992    0.652393\n",
       "170    0.90           500       1          1337     0.728992    0.652393\n",
       "245    1.00          5000       2          1337     0.747059    0.648615\n",
       "242    1.00          5000       1          1337     0.747059    0.647355\n",
       "38     0.50          8000       1          1337     0.741597    0.639798\n",
       "41     0.50          8000       2          1337     0.741597    0.637280\n",
       "80     0.66          8000       1          1337     0.730252    0.633501\n",
       "83     0.66          8000       2          1337     0.730252    0.633501\n",
       "206    0.90          8000       1          1337     0.722269    0.630982\n",
       "209    0.90          8000       2          1337     0.724790    0.630982\n",
       "167    0.83          8000       2          1337     0.726471    0.630982\n",
       "212    1.00           500       1          1337     0.710084    0.630982\n",
       "122    0.75          8000       1          1337     0.729412    0.630982\n",
       "215    1.00           500       2          1337     0.710504    0.630982\n",
       "164    0.83          8000       1          1337     0.725210    0.629723\n",
       "125    0.75          8000       2          1337     0.729412    0.629723\n",
       "248    1.00          8000       1          1337     0.708403    0.622166\n",
       "251    1.00          8000       2          1337     0.707143    0.620907\n",
       "\n",
       "[252 rows x 6 columns]"
      ]
     },
     "execution_count": 271,
     "metadata": {},
     "output_type": "execute_result"
    }
   ],
   "source": [
    "results_df = pd.DataFrame(results, columns=['max_df', 'max_features', 'min_df', 'random_state', 'train_score', 'test_score'])\n",
    "results_df.sort(columns='test_score', ascending=False, inplace=True)\n",
    "results_df"
   ]
  },
  {
   "cell_type": "code",
   "execution_count": 179,
   "metadata": {
    "collapsed": false
   },
   "outputs": [
    {
     "data": {
      "text/plain": [
       "0.77959697732997479"
      ]
     },
     "execution_count": 179,
     "metadata": {},
     "output_type": "execute_result"
    }
   ],
   "source": [
    "max_test_score = max(results_df['test_score'])\n",
    "max_test_score"
   ]
  },
  {
   "cell_type": "code",
   "execution_count": 180,
   "metadata": {
    "collapsed": true
   },
   "outputs": [],
   "source": [
    "max_test_results_df = results_df[results_df['test_score']==max_test_score]"
   ]
  },
  {
   "cell_type": "code",
   "execution_count": 181,
   "metadata": {
    "collapsed": false
   },
   "outputs": [
    {
     "data": {
      "text/html": [
       "<div style=\"max-height:1000px;max-width:1500px;overflow:auto;\">\n",
       "<table border=\"1\" class=\"dataframe\">\n",
       "  <thead>\n",
       "    <tr style=\"text-align: right;\">\n",
       "      <th></th>\n",
       "      <th>max_df</th>\n",
       "      <th>max_features</th>\n",
       "      <th>min_df</th>\n",
       "      <th>random_state</th>\n",
       "      <th>train_score</th>\n",
       "      <th>test_score</th>\n",
       "    </tr>\n",
       "  </thead>\n",
       "  <tbody>\n",
       "    <tr>\n",
       "      <th>13</th>\n",
       "      <td> 0.5</td>\n",
       "      <td> 2000</td>\n",
       "      <td> 1</td>\n",
       "      <td> 42</td>\n",
       "      <td> 0.820588</td>\n",
       "      <td> 0.779597</td>\n",
       "    </tr>\n",
       "    <tr>\n",
       "      <th>16</th>\n",
       "      <td> 0.5</td>\n",
       "      <td> 2000</td>\n",
       "      <td> 2</td>\n",
       "      <td> 42</td>\n",
       "      <td> 0.821849</td>\n",
       "      <td> 0.779597</td>\n",
       "    </tr>\n",
       "  </tbody>\n",
       "</table>\n",
       "</div>"
      ],
      "text/plain": [
       "    max_df  max_features  min_df  random_state  train_score  test_score\n",
       "13     0.5          2000       1            42     0.820588    0.779597\n",
       "16     0.5          2000       2            42     0.821849    0.779597"
      ]
     },
     "execution_count": 181,
     "metadata": {},
     "output_type": "execute_result"
    }
   ],
   "source": [
    "max_test_results_df"
   ]
  },
  {
   "cell_type": "code",
   "execution_count": 194,
   "metadata": {
    "collapsed": false
   },
   "outputs": [
    {
     "data": {
      "text/plain": [
       "(0.5, 2000, 1)"
      ]
     },
     "execution_count": 194,
     "metadata": {},
     "output_type": "execute_result"
    }
   ],
   "source": [
    "def tiebreaker(max_test_results_df):\n",
    "    tiebreaker_df = max_test_results_df.copy()\n",
    "    tiebreaker_df['final_score'] = 0\n",
    "    for i in tiebreaker_df.index:\n",
    "        max_df = tiebreaker_df['max_df'][i]\n",
    "        max_features = tiebreaker_df['max_features'][i]\n",
    "        min_df = tiebreaker_df['min_df'][i]\n",
    "        random_state = tiebreaker_df['random_state'][i]\n",
    "        \n",
    "        tfidf=TfidfVectorizer(max_df=max_df, max_features=max_features, min_df=min_df)\n",
    "        vectorized_corpus = tfidf.fit_transform(X_doc)\n",
    "        X = vectorized_corpus.toarray()\n",
    "        \n",
    "        mnb.fit(X, y)\n",
    "        tiebreaker_df['full_score'] = mnb.score(X, y)\n",
    "    \n",
    "    tiebreaker_df.sort('full_score', inplace=True)\n",
    "    tiebreaker_df.reset_index(inplace=True)\n",
    "    return (tiebreaker_df['max_df'][0], tiebreaker_df['max_features'][0], tiebreaker_df['min_df'][0])\n",
    "tiebreaker(max_test_results_df)"
   ]
  },
  {
   "cell_type": "code",
   "execution_count": 195,
   "metadata": {
    "collapsed": false
   },
   "outputs": [
    {
     "data": {
      "text/plain": [
       "[(u'if', 1.6934621908003828),\n",
       " (u'bedroom', 1.6978827853057794),\n",
       " (u'park', 1.7010523600670586),\n",
       " (u'living', 1.7074218083525383),\n",
       " (u'also', 1.7196366821794247),\n",
       " (u'blocks', 1.7558605965620537),\n",
       " (u'city', 1.7578746959337548),\n",
       " (u'we', 1.7578746959337548),\n",
       " (u'an', 1.7639414486159923),\n",
       " (u'very', 1.7659719061663743),\n",
       " (u'full', 1.7686856120379706),\n",
       " (u'not', 1.7741352168055351),\n",
       " (u'located', 1.786506508608082),\n",
       " (u'bathroom', 1.7962355638062011),\n",
       " (u'by', 1.8456194796302596),\n",
       " (u'available', 1.8500312514919228),\n",
       " (u'great', 1.8589136192908526),\n",
       " (u'out', 1.8852804951315947),\n",
       " (u'but', 1.8914060885582775),\n",
       " (u'new', 1.9006654139710744)]"
      ]
     },
     "execution_count": 195,
     "metadata": {},
     "output_type": "execute_result"
    }
   ],
   "source": [
    "#What are my top words of the final model?\n",
    "tfidf=TfidfVectorizer(max_df=0.5, max_features=2000, min_df=1)\n",
    "tfidf.fit_transform(X_doc)\n",
    "sorted(zip(tfidf.get_feature_names(), tfidf.idf_), key=lambda x: x[1])[:20]"
   ]
  },
  {
   "cell_type": "markdown",
   "metadata": {},
   "source": [
    "###Trees: Random Forrest, Gradient Boosting"
   ]
  },
  {
   "cell_type": "code",
   "execution_count": 419,
   "metadata": {
    "collapsed": false
   },
   "outputs": [],
   "source": [
    "from sklearn.ensemble import RandomForestClassifier, GradientBoostingClassifier"
   ]
  },
  {
   "cell_type": "code",
   "execution_count": 411,
   "metadata": {
    "collapsed": true
   },
   "outputs": [],
   "source": [
    "rfc = RandomForestClassifier(n_estimators=200, oob_score=True)\n",
    "gbc = GradientBoostingClassifier()"
   ]
  },
  {
   "cell_type": "code",
   "execution_count": 415,
   "metadata": {
    "collapsed": false
   },
   "outputs": [
    {
     "name": "stdout",
     "output_type": "stream",
     "text": [
      "0.820415879017\n",
      "0.893194706994\n"
     ]
    }
   ],
   "source": [
    "rfc.fit(tfidf.fit_transform(X_doc).toarray(), y)\n",
    "print rfc.oob_score_\n",
    "\n",
    "gbc.fit(tfidf.fit_transform(X_doc).toarray(), y)\n",
    "print gbc.score(tfidf.fit_transform(X_doc).toarray(), y)"
   ]
  },
  {
   "cell_type": "markdown",
   "metadata": {},
   "source": [
    "WOW! The fit is pretty good..\n",
    "\n",
    "But what happens if we do a proper split?"
   ]
  },
  {
   "cell_type": "code",
   "execution_count": 425,
   "metadata": {
    "collapsed": false
   },
   "outputs": [
    {
     "name": "stdout",
     "output_type": "stream",
     "text": [
      "0.817380352645\n",
      "0.809823677582\n"
     ]
    }
   ],
   "source": [
    "X_train_doc, X_test_doc, y_train, y_test = train_test_split(X_doc, y, random_state=42)\n",
    "rfc.fit(tfidf.fit_transform(X_train_doc).toarray(), y_train)\n",
    "print rfc.score(tfidf.transform(X_test_doc).toarray(), y_test)\n",
    "\n",
    "gbc.fit(tfidf.fit_transform(X_train_doc).toarray(), y_train)\n",
    "print gbc.score(tfidf.transform(X_test_doc).toarray(), y_test)"
   ]
  },
  {
   "cell_type": "code",
   "execution_count": 398,
   "metadata": {
    "collapsed": false
   },
   "outputs": [
    {
     "data": {
      "text/plain": [
       "[(u'williamsburg', 0.029109087419604426),\n",
       " (u'bedford', 0.013369219194450355),\n",
       " (u'park', 0.011830922005827769),\n",
       " (u'dolores', 0.010870473250134252),\n",
       " (u'bushwick', 0.010524286004604177),\n",
       " (u'mission', 0.0097990525382912405),\n",
       " (u'castro', 0.0072686096767459697),\n",
       " (u'valencia', 0.0072375140450894604),\n",
       " (u'bars', 0.0066275112345564723),\n",
       " (u'galleries', 0.006367608837526237),\n",
       " (u'loft', 0.0060448691204129969),\n",
       " (u'brooklyn', 0.0057511462406990496),\n",
       " (u'beach', 0.0057354555479226625),\n",
       " (u'central', 0.0056659219320041839),\n",
       " (u'train', 0.0053384949401328848),\n",
       " (u'village', 0.0050545490684460745),\n",
       " (u'we', 0.0050362775311282755),\n",
       " (u'art', 0.0050140985664765695),\n",
       " (u'space', 0.0046801986292638147),\n",
       " (u'clinton', 0.0044262550459207043),\n",
       " (u'greenpoint', 0.0039285603671103371),\n",
       " (u'safe', 0.0035760397093168861),\n",
       " (u'bus', 0.0033025423132180785),\n",
       " (u'moscone', 0.0032312300530232705),\n",
       " (u'bart', 0.003215924606638324)]"
      ]
     },
     "execution_count": 398,
     "metadata": {},
     "output_type": "execute_result"
    }
   ],
   "source": [
    "sorted(zip(tfidf.get_feature_names(), rfc.feature_importances_), key=lambda x: x[1], reverse=True)[:25]"
   ]
  },
  {
   "cell_type": "markdown",
   "metadata": {},
   "source": [
    "In the top 25 words, a lot of top words are neighborhoods (williamsburg, mission, greenpoint, castro), as well as local streets (bedford, valencia, haight)\n",
    "\n",
    "What happens if we run our best performing model from above and scrub the neighborhoods"
   ]
  },
  {
   "cell_type": "code",
   "execution_count": 206,
   "metadata": {
    "collapsed": false
   },
   "outputs": [],
   "source": [
    "docs_with_hoods = copy(desc_clean)\n",
    "neighborhood_set = set([x.replace(' ','').lower() for x in hood_df['neighborhood']])"
   ]
  },
  {
   "cell_type": "code",
   "execution_count": 222,
   "metadata": {
    "collapsed": false
   },
   "outputs": [
    {
     "data": {
      "text/plain": [
       "0.72085696282293632"
      ]
     },
     "execution_count": 222,
     "metadata": {},
     "output_type": "execute_result"
    }
   ],
   "source": [
    "rfc.fit(tfidf.fit_transform(docs_without_hoods).toarray(), y)\n",
    "rfc.oob_score_"
   ]
  },
  {
   "cell_type": "code",
   "execution_count": 223,
   "metadata": {
    "collapsed": false
   },
   "outputs": [
    {
     "data": {
      "text/plain": [
       "[(u'park', 0.019799216464381764),\n",
       " (u'dolores', 0.016591876960750082),\n",
       " (u'brooklyn', 0.010981191702110107),\n",
       " (u'train', 0.0097157332304333641),\n",
       " (u'bedford', 0.0089377619078026618),\n",
       " (u'central', 0.0087695565373142534),\n",
       " (u'valencia', 0.008476556155353341),\n",
       " (u'galleries', 0.0082301676048031),\n",
       " (u'clinton', 0.0063508447189052171),\n",
       " (u'mission', 0.0061243932127349361),\n",
       " (u'stop', 0.005888395858413868),\n",
       " (u'loft', 0.0055455137788217954),\n",
       " (u'haight', 0.0054119733327493286),\n",
       " (u'bars', 0.0050950909866558551),\n",
       " (u'would', 0.0049459263052396476),\n",
       " (u'art', 0.0046306307865556715),\n",
       " (u'music', 0.0041397194405320302),\n",
       " (u'bus', 0.0039708395128391968),\n",
       " (u'space', 0.0039008908376328712),\n",
       " (u'people', 0.0038706729254413194),\n",
       " (u'village', 0.0038308752730410165),\n",
       " (u'moscone', 0.0035487960909486608),\n",
       " (u'wifi', 0.0035033385307638798),\n",
       " (u'gate', 0.0035002931539635457),\n",
       " (u'guest', 0.0032369965101556515)]"
      ]
     },
     "execution_count": 223,
     "metadata": {},
     "output_type": "execute_result"
    }
   ],
   "source": [
    "sorted(zip(tfidf.get_feature_names(), rfc.feature_importances_), key=lambda x: x[1], reverse=True)[:25]"
   ]
  },
  {
   "cell_type": "code",
   "execution_count": 221,
   "metadata": {
    "collapsed": false
   },
   "outputs": [],
   "source": [
    "docs_without_hoods = []\n",
    "for doc in docs_with_hoods:\n",
    "    cur_doc = \"\"\n",
    "    for word in doc.split():\n",
    "        if not word in neighborhood_set:\n",
    "            cur_doc += \"%s \" % word\n",
    "    docs_without_hoods.append(cur_doc)"
   ]
  },
  {
   "cell_type": "code",
   "execution_count": 224,
   "metadata": {
    "collapsed": false
   },
   "outputs": [
    {
     "data": {
      "text/plain": [
       "0.80655324511657212"
      ]
     },
     "execution_count": 224,
     "metadata": {},
     "output_type": "execute_result"
    }
   ],
   "source": [
    "docs_without_hoods\n",
    "\n",
    "mnb.fit(tfidf.fit_transform(docs_without_hoods).toarray(), y)\n",
    "mnb.score(tfidf.fit_transform(docs_without_hoods).toarray(), y)"
   ]
  },
  {
   "cell_type": "code",
   "execution_count": 255,
   "metadata": {
    "collapsed": false
   },
   "outputs": [
    {
     "name": "stdout",
     "output_type": "stream",
     "text": [
      "0.804621848739 0.773299748111\n"
     ]
    }
   ],
   "source": [
    "X_train_doc, X_test_doc, y_train, y_test = train_test_split(docs_without_hoods, y, random_state=42)\n",
    "\n",
    "tfidf=TfidfVectorizer(max_df=.5, max_features=2000, min_df=1)\n",
    "vectorized_corpus = tfidf.fit_transform(X_train_doc)\n",
    "X_train = vectorized_corpus.toarray()\n",
    "\n",
    "mnb.fit(X_train, y_train)\n",
    "train_score = mnb.score(X_train, y_train)\n",
    "\n",
    "X_test = tfidf.transform(X_test_doc).toarray()\n",
    "test_score = mnb.score(X_test, y_test)\n",
    "\n",
    "print train_score, test_score"
   ]
  },
  {
   "cell_type": "markdown",
   "metadata": {},
   "source": [
    "So based on this, my NB model's accuracy goes down from \n",
    "0.8206 | 0.7796 \n",
    "to\n",
    "0.8046 | 0.7733\n",
    "\n",
    "A loss of <0.5% prediction is not nothing, but doesn't appear to warrent cleansing the dataset."
   ]
  },
  {
   "cell_type": "markdown",
   "metadata": {},
   "source": [
    "So based on the above, I created a generate_mnb_models.py script to run & get the best possible models to use.\n",
    "\n",
    "Below I test NMF & Word2Vec/Doc2Vec\n",
    "\n",
    "\\#awesome"
   ]
  },
  {
   "cell_type": "markdown",
   "metadata": {},
   "source": [
    "#SVM"
   ]
  },
  {
   "cell_type": "code",
   "execution_count": 421,
   "metadata": {
    "collapsed": true
   },
   "outputs": [],
   "source": [
    "from sklearn.svm import LinearSVC\n",
    "svc = LinearSVC()"
   ]
  },
  {
   "cell_type": "code",
   "execution_count": 422,
   "metadata": {
    "collapsed": false
   },
   "outputs": [
    {
     "data": {
      "text/plain": [
       "0.81989924433249373"
      ]
     },
     "execution_count": 422,
     "metadata": {},
     "output_type": "execute_result"
    }
   ],
   "source": [
    "\n",
    "\n",
    "svc.fit(tfidf.fit_transform(X_train_doc).toarray(), y_train)\n",
    "svc.score(tfidf.transform(X_test_doc).toarray(), y_test)"
   ]
  },
  {
   "cell_type": "code",
   "execution_count": 462,
   "metadata": {
    "collapsed": false
   },
   "outputs": [
    {
     "name": "stdout",
     "output_type": "stream",
     "text": [
      "794\n",
      "\n",
      "619\n",
      "569\n",
      "626\n",
      "\n",
      "560\n"
     ]
    }
   ],
   "source": [
    "X_train_doc, X_test_doc, y_train, y_test = train_test_split(X_doc, y, random_state=1337)\n",
    "svc.fit(tfidf.fit_transform(X_train_doc).toarray(), y_train)\n",
    "mnb.fit(tfidf.fit_transform(X_train_doc).toarray(), y_train)\n",
    "gbc.fit(tfidf.fit_transform(X_train_doc).toarray(), y_train)\n",
    "\n",
    "vectorized_test = tfidf.transform(X_test_doc).toarray()\n",
    "gbc_results = gbc.predict(vectorized_test)\n",
    "mnb_results = mnb.predict(vectorized_test)\n",
    "svc_results = svc.predict(vectorized_test)\n",
    "\n",
    "print len(y_test)\n",
    "print\n",
    "print sum(gbc_results==y_test)\n",
    "print sum(mnb_results==y_test)\n",
    "print sum(svc_results==y_test)\n",
    "print\n",
    "print sum([bool(round((int(a)+int(b)+int(c))/3))==y_n for a,b,c,y_n in zip(gbc_results, mnb_results, svc_results, y_test)])"
   ]
  },
  {
   "cell_type": "code",
   "execution_count": 460,
   "metadata": {
    "collapsed": false
   },
   "outputs": [
    {
     "data": {
      "text/plain": [
       "[(u'williamsburg', 3.8219999167190446),\n",
       " (u'castro', 3.3632806136060673),\n",
       " (u'bedford', 2.741469213009585),\n",
       " (u'valencia', 2.4555359045397398),\n",
       " (u'dolores', 2.3516528072091591),\n",
       " (u'village', 2.126212435559701),\n",
       " (u'moscone', 2.0613090502145512),\n",
       " (u'mission', 2.0551671079888156),\n",
       " (u'haight', 2.0278809967574185),\n",
       " (u'bushwick', 1.9800406288462229),\n",
       " (u'clinton', 1.8632416233305953),\n",
       " (u'stuy', 1.7379259976097527),\n",
       " (u'gets', 1.7290149425756844),\n",
       " (u'chelsea', 1.7158281878739545),\n",
       " (u'astor', 1.6665693391372478),\n",
       " (u'stuyvesant', 1.6342793561463216),\n",
       " (u'urban', 1.5052078382296135),\n",
       " (u'brooklyn', 1.4807479037771338),\n",
       " (u'greenpoint', 1.4771809833168779)]"
      ]
     },
     "execution_count": 460,
     "metadata": {},
     "output_type": "execute_result"
    }
   ],
   "source": [
    "#biggest postives\n",
    "sorted(zip(tfidf.get_feature_names(), svc.coef_[0]), key=lambda x: x[1])[:-20:-1]"
   ]
  },
  {
   "cell_type": "code",
   "execution_count": 459,
   "metadata": {
    "collapsed": false
   },
   "outputs": [
    {
     "data": {
      "text/plain": [
       "[(u'beach', -2.0668470421950231),\n",
       " (u'heights', -2.060402959222233),\n",
       " (u'harlem', -1.9462526559723712),\n",
       " (u'park', -1.896805432067586),\n",
       " (u'bernal', -1.7639937532649299),\n",
       " (u'noe', -1.6876827652947293),\n",
       " (u'west', -1.684415610971854),\n",
       " (u'glen', -1.5811774768796507),\n",
       " (u'washington', -1.5163377250421464),\n",
       " (u'bridge', -1.5149945720435336),\n",
       " (u'granite', -1.5115929296436081),\n",
       " (u'alamo', -1.4918610871190212),\n",
       " (u'library', -1.4301067449808458),\n",
       " (u'stations', -1.3838526141932914),\n",
       " (u'prospect', -1.3716548727397748),\n",
       " (u'chinatown', -1.3081748989769582),\n",
       " (u'lexington', -1.3015304188011672),\n",
       " (u'polk', -1.2859323555866013),\n",
       " (u'farmer', -1.2401992779347273),\n",
       " (u'remodeled', -1.2178567730823233)]"
      ]
     },
     "execution_count": 459,
     "metadata": {},
     "output_type": "execute_result"
    }
   ],
   "source": [
    "#biggest negatives\n",
    "sorted(zip(tfidf.get_feature_names(), svc.coef_[0]), key=lambda x: x[1])[:20]"
   ]
  },
  {
   "cell_type": "markdown",
   "metadata": {},
   "source": [
    "#Testing NMF"
   ]
  },
  {
   "cell_type": "code",
   "execution_count": 273,
   "metadata": {
    "collapsed": true
   },
   "outputs": [],
   "source": [
    "from sklearn.decomposition import NMF as NMF_real"
   ]
  },
  {
   "cell_type": "code",
   "execution_count": 276,
   "metadata": {
    "collapsed": false
   },
   "outputs": [],
   "source": [
    "tfidf = TfidfVectorizer(max_df=.5, max_features=2000, min_df=1)\n",
    "vectorized_corpus = tfidf.fit_transform(X_doc)\n",
    "X_train = vectorized_corpus.toarray()"
   ]
  },
  {
   "cell_type": "code",
   "execution_count": 283,
   "metadata": {
    "collapsed": false
   },
   "outputs": [
    {
     "data": {
      "text/plain": [
       "NMF(beta=1, eta=0.1, init=None, max_iter=200, n_components=12,\n",
       "  nls_max_iter=2000, random_state=None, sparseness=None, tol=0.0001)"
      ]
     },
     "execution_count": 283,
     "metadata": {},
     "output_type": "execute_result"
    }
   ],
   "source": [
    "nmf_real = NMF_real(n_components=12)\n",
    "nmf_real.fit(X_train)"
   ]
  },
  {
   "cell_type": "code",
   "execution_count": 284,
   "metadata": {
    "collapsed": false
   },
   "outputs": [
    {
     "name": "stdout",
     "output_type": "stream",
     "text": [
      "Topic #0:\n",
      "my if am not but so me do very out use get like also want place up need here please\n",
      "\n",
      "Topic #1:\n",
      "san francisco parking muni gate park golden bart blocks downtown bus mission beach valley car bay public haight city castro\n",
      "\n",
      "Topic #2:\n",
      "we our us home if so also re guests do not but here out love people own just welcome about\n",
      "\n",
      "Topic #3:\n",
      "bedroom large living full queen size tv flat dining floor two bathroom features fully high equipped cable windows building washer\n",
      "\n",
      "Topic #4:\n",
      "brooklyn prospect park museum gardens manhattan slope garden heights brownstone botanical barclays trains clinton hill greene fort new atlantic avenue\n",
      "\n",
      "Topic #5:\n",
      "train minutes manhattan williamsburg minute subway blocks close very stop station loft bushwick great only bars also bedford by ride\n",
      "\n",
      "Topic #6:\n",
      "community mission fun active enough culture term diverse bike we night house melting restful jump premier dynamic culturally basics space\n",
      "\n",
      "Topic #7:\n",
      "th st central building ave park avenue subway square times west station center blocks nd trains miles museum harlem hidden\n",
      "\n",
      "Topic #8:\n",
      "looky mission home shared stay guests house other main quality kitchens transportation we who bathrooms among clean homes would bedrooms\n",
      "\n",
      "Topic #9:\n",
      "east village side soho lower west new nyc york chinatown city square italy subway best little manhattan bars nolita union\n",
      "\n",
      "Topic #10:\n",
      "check fee please no cleaning fees pm per additional reservation upon rental arrival available not time availability service guest airbnb\n",
      "\n",
      "Topic #11:\n",
      "min square mins train ride by subway free union bus times airport around station central parking mi line floor park\n",
      "\n"
     ]
    }
   ],
   "source": [
    "feature_names = tfidf.get_feature_names()\n",
    "\n",
    "n_top_words = 20\n",
    "for topic_idx, topic in enumerate(nmf_real.components_):\n",
    "    print(\"Topic #%d:\" % topic_idx)\n",
    "    print(\" \".join([feature_names[i] for i in topic.argsort()[:-n_top_words - 1:-1]]))\n",
    "    print"
   ]
  },
  {
   "cell_type": "markdown",
   "metadata": {},
   "source": [
    "#Testing Doc2Vec"
   ]
  },
  {
   "cell_type": "code",
   "execution_count": 286,
   "metadata": {
    "collapsed": true
   },
   "outputs": [],
   "source": [
    "from gensim.models import Word2Vec"
   ]
  },
  {
   "cell_type": "code",
   "execution_count": 360,
   "metadata": {
    "collapsed": false
   },
   "outputs": [],
   "source": [
    "W2V_docs = [x.split() for x in desc_clean]\n",
    "W2V_docs[:5]\n",
    "W2V_model = Word2Vec(W2V_docs)"
   ]
  },
  {
   "cell_type": "code",
   "execution_count": 303,
   "metadata": {
    "collapsed": false
   },
   "outputs": [
    {
     "data": {
      "text/plain": [
       "[(u'bakeries', 0.5597109198570251),\n",
       " (u'satisfy', 0.5508257150650024),\n",
       " (u'latin', 0.5454130172729492),\n",
       " (u'salons', 0.5315362215042114),\n",
       " (u'specialty', 0.5271623134613037),\n",
       " (u'locally', 0.5249436497688293),\n",
       " (u'pubs', 0.5232607126235962),\n",
       " (u'chinese', 0.5213254690170288),\n",
       " (u'delicious', 0.5206075310707092),\n",
       " (u'fruit', 0.5196725130081177)]"
      ]
     },
     "execution_count": 303,
     "metadata": {},
     "output_type": "execute_result"
    }
   ],
   "source": [
    "#playing around with Word2Vec\n",
    "# model.most_similar(positive=['neighborhood'], negative=['local'], topn=10)\n",
    "# model.most_similar(positive=['neighborhood'])\n",
    "# model.most_similar(positive=['italian'])\n",
    "# model.most_similar(positive=['beer'])\n",
    "model.most_similar(positive=['hipster'], negative=['francisco'])"
   ]
  },
  {
   "cell_type": "code",
   "execution_count": 304,
   "metadata": {
    "collapsed": true
   },
   "outputs": [],
   "source": [
    "from gensim.models.doc2vec import LabeledSentence, Doc2Vec"
   ]
  },
  {
   "cell_type": "code",
   "execution_count": 305,
   "metadata": {
    "collapsed": true
   },
   "outputs": [],
   "source": [
    "d2v_df = merged_df.copy()"
   ]
  },
  {
   "cell_type": "code",
   "execution_count": 323,
   "metadata": {
    "collapsed": false
   },
   "outputs": [
    {
     "data": {
      "text/plain": [
       "u'LABEL_NIGHTLIFE LABEL_SHOPPING LABEL_DINING LISTING_6751766 HOOD_DOWNTOWN CITY_SANFRANCISCO '"
      ]
     },
     "execution_count": 323,
     "metadata": {},
     "output_type": "execute_result"
    }
   ],
   "source": [
    "d2v_df['d2v_labels'] = \"\"\n",
    "d2v_df['d2v_labels'] += [\"LABEL_NIGHTLIFE \" if x==True else \"\" for x in d2v_df['is_nightlife']]\n",
    "d2v_df['d2v_labels'] += [\"LABEL_ARTSY \" if x==True else \"\" for x in d2v_df['is_artsy']]\n",
    "d2v_df['d2v_labels'] += [\"LABEL_SHOPPING \" if x==True else \"\" for x in d2v_df['is_shopping']]\n",
    "d2v_df['d2v_labels'] += [\"LABEL_DINING \" if x==True else \"\" for x in d2v_df['is_dining']]\n",
    "d2v_df['d2v_labels'] += [\"LISTING_%s \" % x for x in d2v_df['_id']]\n",
    "d2v_df['d2v_labels'] += [\"HOOD_%s \" % x.upper() for x in d2v_df['neighborhood']]\n",
    "d2v_df['d2v_labels'] += [\"CITY_%s \" % x.upper().replace(\"-\",\"\") for x in d2v_df['city']]\n",
    "\n",
    "# for listing in merged_df.index:\n",
    "#     model_labels += \"LABEL_NIGHTLIFE\" if merged_df['is_nightlife']\n",
    "#     model_labels += [\"LISTING_\" + merged_df['_id'][listing]]\n",
    "#     model_labels += [\"HOOD_\" + listing['neighborhood'].replace(' ','_')]\n",
    "#     model_labels += [\"CITY_\" + listing['city']]\n",
    "#     model_labels = [label.encode('ascii','ignore') for label in model_labels]\n",
    "#     labeled_listing = LabeledSentence(words = listing['words'], labels = model_labels)\n",
    "#     labeled_listings.append(labeled_listing)"
   ]
  },
  {
   "cell_type": "code",
   "execution_count": 362,
   "metadata": {
    "collapsed": false
   },
   "outputs": [],
   "source": [
    "labeled_listings = []\n",
    "for doc, labels in zip(W2V_docs, d2v_df['d2v_labels']):\n",
    "    labeled_listing = LabeledSentence(words = doc, labels = labels.split())\n",
    "    labeled_listings.append(labeled_listing)"
   ]
  },
  {
   "cell_type": "code",
   "execution_count": 363,
   "metadata": {
    "collapsed": true
   },
   "outputs": [],
   "source": [
    "d2v_model = Doc2Vec(labeled_listings)"
   ]
  },
  {
   "cell_type": "code",
   "execution_count": 391,
   "metadata": {
    "collapsed": false
   },
   "outputs": [
    {
     "data": {
      "text/plain": [
       "[(u'epic', 0.40934309363365173),\n",
       " (u'sunroom', 0.3422703742980957),\n",
       " (u'oversized', 0.3244786262512207),\n",
       " (u'nice', 0.3241443634033203),\n",
       " (u'lovely', 0.3191782236099243),\n",
       " (u'mugs', 0.31732261180877686),\n",
       " (u'resting', 0.3170066475868225),\n",
       " (u'panoramic', 0.31582677364349365),\n",
       " (u'prestigious', 0.31463849544525146),\n",
       " (u'LISTING_1769483', 0.31370115280151367),\n",
       " (u'LISTING_5630741', 0.31231874227523804),\n",
       " (u'noble', 0.31004229187965393),\n",
       " (u'developing', 0.3075587749481201),\n",
       " (u'LISTING_619471', 0.302995890378952),\n",
       " (u'LISTING_643490', 0.29789823293685913),\n",
       " (u'homey', 0.29422682523727417),\n",
       " (u'rapidly', 0.2915553152561188),\n",
       " (u'LISTING_6689092', 0.2893918752670288),\n",
       " (u'LISTING_6077601', 0.28772491216659546),\n",
       " (u'magnificent', 0.2872794270515442)]"
      ]
     },
     "execution_count": 391,
     "metadata": {},
     "output_type": "execute_result"
    }
   ],
   "source": [
    "#playing around with Word2Vec\n",
    "d2v_model.most_similar(positive=['CITY_NEWYORK'], negative=[], topn=20)\n",
    "d2v_model.most_similar(positive=['CITY_SANFRANCISCO'], negative=[], topn=20)\n",
    "d2v_model.most_similar(positive=['HOOD_WILLIAMSBURG', 'CITY_SANFRANCISCO'], negative=['CITY_NEWYORK'], topn=20)\n",
    "d2v_model.most_similar(positive=['franciscan'], negative=['CITY_SANFRANCISCO'], topn=20)\n",
    "d2v_model.most_similar(positive=['beautiful'], negative=[], topn=20)"
   ]
  },
  {
   "cell_type": "code",
   "execution_count": 392,
   "metadata": {
    "collapsed": false
   },
   "outputs": [
    {
     "data": {
      "text/plain": [
       "u'our home is a stand alone cottage one block from dolores park the house is set off the street with a lovely front courtyard filled with flowers we re on one of the best blocks in the city right between the mission and the castro but its amazingly quiet here a true urban oasis the house has a large master bed bath on the top floor a dining room living room area adjoining the kitchen on the ground floor and then a nd queen bed in the basement we have a full dishwasher and a washer dryer'"
      ]
     },
     "execution_count": 392,
     "metadata": {},
     "output_type": "execute_result"
    }
   ],
   "source": [
    "x = merged_df[merged_df['_id']=='1769483'].index[0]\n",
    "' '.join(W2V_docs[x])"
   ]
  },
  {
   "cell_type": "code",
   "execution_count": 444,
   "metadata": {
    "collapsed": false
   },
   "outputs": [
    {
     "name": "stdout",
     "output_type": "stream",
     "text": [
      "0.343\n",
      "0.441\n"
     ]
    }
   ],
   "source": [
    "print .7*.7*.7\n",
    "print 3*.7*.7*.3\n",
    "print "
   ]
  },
  {
   "cell_type": "code",
   "execution_count": 447,
   "metadata": {
    "collapsed": false
   },
   "outputs": [
    {
     "name": "stdout",
     "output_type": "stream",
     "text": [
      "0.75314861461\n",
      "0.809823677582\n",
      "0.77959697733\n",
      "0.819899244332\n"
     ]
    }
   ],
   "source": [
    "print 1.0*598/794\n",
    "\n",
    "print 1.0*643/794\n",
    "print 1.0*619/794\n",
    "print 1.0*651/794"
   ]
  },
  {
   "cell_type": "markdown",
   "metadata": {},
   "source": [
    "Load SVC Models & Grab top 50 words"
   ]
  },
  {
   "cell_type": "code",
   "execution_count": 482,
   "metadata": {
    "collapsed": false
   },
   "outputs": [],
   "source": [
    "TFIDF = pickle.load(open('../models/tfidf_svc.pkl'))\n",
    "MODEL_ARTSY = pickle.load(open('../models/svc_artsy_final.pkl'))\n",
    "MODEL_DINING = pickle.load(open('../models/svc_dining_final.pkl'))\n",
    "MODEL_NIGHTLIFE = pickle.load(open('../models/svc_nightlife_final.pkl'))\n",
    "MODEL_SHOPPING = pickle.load(open('../models/svc_shopping_final.pkl'))"
   ]
  },
  {
   "cell_type": "code",
   "execution_count": 507,
   "metadata": {
    "collapsed": false
   },
   "outputs": [
    {
     "data": {
      "text/plain": [
       "RandomForestClassifier(bootstrap=True, class_weight=None, criterion='gini',\n",
       "            max_depth=None, max_features='auto', max_leaf_nodes=None,\n",
       "            min_samples_leaf=1, min_samples_split=2,\n",
       "            min_weight_fraction_leaf=0.0, n_estimators=200, n_jobs=1,\n",
       "            oob_score=True, random_state=None, verbose=0, warm_start=False)"
      ]
     },
     "execution_count": 507,
     "metadata": {},
     "output_type": "execute_result"
    }
   ],
   "source": [
    "# y = merged_df['is_artsy']\n",
    "# y = merged_df['is_shopping']\n",
    "y = merged_df['is_dining']\n",
    "# y = merged_df['is_nightlife']\n",
    "\n",
    "rfc.fit(tfidf.fit_transform(X_doc).toarray(), y)"
   ]
  },
  {
   "cell_type": "code",
   "execution_count": 508,
   "metadata": {
    "collapsed": false
   },
   "outputs": [
    {
     "name": "stdout",
     "output_type": "stream",
     "text": [
      "set([u'prospect', u'upper', u'bart', u'heart', u'house', u'mission', u'village', u'close', u'glen', u'union', u'museum', u'williamsburg', u'dolores', u'zoo', u'other', u'haight', u'utica', u'th', u'nopa', u'valencia', u'full', u'loft', u'very', u'express', u'park', u'train', u'stuyvesant', u'central', u'island', u'lexington', u'alamo', u'subway', u'side'])\n"
     ]
    }
   ],
   "source": [
    "most_important_words = sorted(zip(tfidf.get_feature_names(), rfc.feature_importances_), key=lambda x: x[1], reverse=True)[:33]\n",
    "# most_important_words\n",
    "most_important_words_set = set([x[0] for x in most_important_words])\n",
    "print most_important_words_set\n",
    "# pickle.dump(most_important_words_set, open('../models/top_words_artsy.pkl', 'w'))\n",
    "# pickle.dump(most_important_words_set, open('../models/top_words_shopping.pkl', 'w'))\n",
    "pickle.dump(most_important_words_set, open('../models/top_words_dining.pkl', 'w'))\n",
    "# pickle.dump(most_important_words_set, open('../models/top_words_nightlife.pkl', 'w'))"
   ]
  },
  {
   "cell_type": "code",
   "execution_count": 510,
   "metadata": {
    "collapsed": false
   },
   "outputs": [
    {
     "name": "stdout",
     "output_type": "stream",
     "text": [
      "0.764020163831\n"
     ]
    }
   ],
   "source": [
    "print rfc.oob_score_"
   ]
  },
  {
   "cell_type": "code",
   "execution_count": null,
   "metadata": {
    "collapsed": true
   },
   "outputs": [],
   "source": []
  }
 ],
 "metadata": {
  "kernelspec": {
   "display_name": "Python 2",
   "language": "python",
   "name": "python2"
  },
  "language_info": {
   "codemirror_mode": {
    "name": "ipython",
    "version": 2
   },
   "file_extension": ".py",
   "mimetype": "text/x-python",
   "name": "python",
   "nbconvert_exporter": "python",
   "pygments_lexer": "ipython2",
   "version": "2.7.9"
  }
 },
 "nbformat": 4,
 "nbformat_minor": 0
}
