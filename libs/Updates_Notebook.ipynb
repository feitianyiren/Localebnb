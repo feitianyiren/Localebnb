{
 "cells": [
  {
   "cell_type": "markdown",
   "metadata": {},
   "source": [
    "#Adding in city_id & city for each neighborhood (6.16)\n",
    "###Purpose: \n",
    "Add the city_id & city fields to each record in the MongoDB neighborhoods collection.\n",
    "\n",
    "###Background: \n",
    "On my first loop through AirBnB, I didn't save the city_id or city fields from the AirBnBNeighborhood class to MongoDB. I updated the code in my class, but would rather not rescrape everything."
   ]
  },
  {
   "cell_type": "code",
   "execution_count": 2,
   "metadata": {
    "collapsed": true
   },
   "outputs": [],
   "source": [
    "import pandas as pd\n",
    "from pymongo import MongoClient\n",
    "\n",
    "db_name = 'airbnb'\n",
    "coll_name = 'neighborhoods'\n",
    "\n",
    "client = MongoClient()\n",
    "db = client[db_name]\n",
    "coll = db[coll_name]"
   ]
  },
  {
   "cell_type": "code",
   "execution_count": 34,
   "metadata": {
    "collapsed": false
   },
   "outputs": [
    {
     "data": {
      "text/html": [
       "<div style=\"max-height:1000px;max-width:1500px;overflow:auto;\">\n",
       "<table border=\"1\" class=\"dataframe\">\n",
       "  <thead>\n",
       "    <tr style=\"text-align: right;\">\n",
       "      <th></th>\n",
       "      <th>neighborhood_id</th>\n",
       "      <th>neighborhood</th>\n",
       "      <th>neighborhood_url</th>\n",
       "      <th>city_id</th>\n",
       "      <th>city</th>\n",
       "    </tr>\n",
       "  </thead>\n",
       "  <tbody>\n",
       "    <tr>\n",
       "      <th>0</th>\n",
       "      <td> 0</td>\n",
       "      <td>   Alamo Square</td>\n",
       "      <td>   /locations/san-francisco/alamo-square</td>\n",
       "      <td> 1</td>\n",
       "      <td> san-francisco</td>\n",
       "    </tr>\n",
       "    <tr>\n",
       "      <th>1</th>\n",
       "      <td> 1</td>\n",
       "      <td>        Bayview</td>\n",
       "      <td>        /locations/san-francisco/bayview</td>\n",
       "      <td> 1</td>\n",
       "      <td> san-francisco</td>\n",
       "    </tr>\n",
       "    <tr>\n",
       "      <th>2</th>\n",
       "      <td> 2</td>\n",
       "      <td> Bernal Heights</td>\n",
       "      <td> /locations/san-francisco/bernal-heights</td>\n",
       "      <td> 1</td>\n",
       "      <td> san-francisco</td>\n",
       "    </tr>\n",
       "    <tr>\n",
       "      <th>3</th>\n",
       "      <td> 3</td>\n",
       "      <td>      Chinatown</td>\n",
       "      <td>      /locations/san-francisco/chinatown</td>\n",
       "      <td> 1</td>\n",
       "      <td> san-francisco</td>\n",
       "    </tr>\n",
       "    <tr>\n",
       "      <th>4</th>\n",
       "      <td> 4</td>\n",
       "      <td>   Civic Center</td>\n",
       "      <td>   /locations/san-francisco/civic-center</td>\n",
       "      <td> 1</td>\n",
       "      <td> san-francisco</td>\n",
       "    </tr>\n",
       "  </tbody>\n",
       "</table>\n",
       "</div>"
      ],
      "text/plain": [
       "   neighborhood_id    neighborhood                         neighborhood_url  \\\n",
       "0                0    Alamo Square    /locations/san-francisco/alamo-square   \n",
       "1                1         Bayview         /locations/san-francisco/bayview   \n",
       "2                2  Bernal Heights  /locations/san-francisco/bernal-heights   \n",
       "3                3       Chinatown       /locations/san-francisco/chinatown   \n",
       "4                4    Civic Center    /locations/san-francisco/civic-center   \n",
       "\n",
       "   city_id           city  \n",
       "0        1  san-francisco  \n",
       "1        1  san-francisco  \n",
       "2        1  san-francisco  \n",
       "3        1  san-francisco  \n",
       "4        1  san-francisco  "
      ]
     },
     "execution_count": 34,
     "metadata": {},
     "output_type": "execute_result"
    }
   ],
   "source": [
    "df = pd.read_csv('../data/neighborhood_list.csv')\n",
    "df.head()"
   ]
  },
  {
   "cell_type": "code",
   "execution_count": 57,
   "metadata": {
    "collapsed": false
   },
   "outputs": [
    {
     "data": {
      "text/plain": [
       "<airbnbneighborhood.AirBnBNeighborhood at 0x105d2c890>"
      ]
     },
     "execution_count": 57,
     "metadata": {},
     "output_type": "execute_result"
    }
   ],
   "source": [
    "import airbnbneighborhood as airn\n",
    "reload(airn)\n",
    "air_hood = airn.AirBnBNeighborhood(db_name = db_name, coll_name = coll_name)\n",
    "air_hood"
   ]
  },
  {
   "cell_type": "code",
   "execution_count": 41,
   "metadata": {
    "collapsed": false
   },
   "outputs": [],
   "source": [
    "for hood in df[['neighborhood_id', 'city_id','city']].to_dict(orient='records'):\n",
    "    hood_id = hood.pop('neighborhood_id')\n",
    "    air_hood.pull_from_db(neighborhood_id = hood_id)\n",
    "    air_hood.add_features(new_features=hood)\n",
    "    # print air_hood.neighborhood, hood"
   ]
  },
  {
   "cell_type": "code",
   "execution_count": 56,
   "metadata": {
    "collapsed": true
   },
   "outputs": [
    {
     "name": "stdout",
     "output_type": "stream",
     "text": [
      "san-francisco\n",
      "san-francisco\n",
      "san-francisco\n",
      "san-francisco\n",
      "san-francisco\n",
      "san-francisco\n",
      "san-francisco\n",
      "san-francisco\n",
      "san-francisco\n",
      "san-francisco\n",
      "san-francisco\n",
      "san-francisco\n",
      "san-francisco\n",
      "san-francisco\n",
      "san-francisco\n",
      "san-francisco\n",
      "san-francisco\n",
      "san-francisco\n",
      "san-francisco\n",
      "san-francisco\n",
      "san-francisco\n",
      "san-francisco\n",
      "san-francisco\n",
      "san-francisco\n",
      "san-francisco\n",
      "san-francisco\n",
      "san-francisco\n",
      "san-francisco\n",
      "san-francisco\n",
      "san-francisco\n",
      "san-francisco\n",
      "san-francisco\n",
      "san-francisco\n",
      "san-francisco\n",
      "san-francisco\n",
      "san-francisco\n",
      "san-francisco\n",
      "san-francisco\n",
      "san-francisco\n",
      "san-francisco\n",
      "san-francisco\n",
      "san-francisco\n",
      "new-york\n",
      "new-york\n",
      "new-york\n",
      "new-york\n",
      "new-york\n",
      "new-york\n",
      "new-york\n",
      "new-york\n",
      "new-york\n",
      "new-york\n",
      "new-york\n",
      "new-york\n",
      "new-york\n",
      "new-york\n",
      "new-york\n",
      "new-york\n",
      "new-york\n",
      "new-york\n",
      "new-york\n",
      "new-york\n",
      "new-york\n",
      "new-york\n",
      "new-york\n",
      "new-york\n",
      "new-york\n",
      "new-york\n",
      "new-york\n",
      "new-york\n",
      "new-york\n",
      "new-york\n",
      "new-york\n",
      "new-york\n",
      "new-york\n",
      "new-york\n",
      "new-york\n",
      "new-york\n",
      "new-york\n",
      "new-york\n",
      "new-york\n",
      "new-york\n",
      "new-york\n",
      "new-york\n",
      "new-york\n",
      "new-york\n",
      "new-york\n",
      "new-york\n",
      "new-york\n",
      "new-york\n",
      "new-york\n",
      "new-york\n",
      "new-york\n",
      "new-york\n",
      "new-york\n",
      "new-york\n",
      "new-york\n",
      "new-york\n",
      "new-york\n",
      "new-york\n",
      "new-york\n",
      "new-york\n"
     ]
    }
   ],
   "source": [
    "#confirming\n",
    "for i in df['neighborhood_id']:\n",
    "    air_hood.pull_from_db(i)\n",
    "    print air_hood.d['city']"
   ]
  },
  {
   "cell_type": "markdown",
   "metadata": {},
   "source": [
    "#Creating a mapping table for ammenities (6.16)\n",
    "###Purpose: \n",
    "Create a mapping table from AirBnB's amenity_ids (from the meta data) to the actual amenity.\n",
    "\n",
    "###Background: \n",
    "In the listing, AirBnB provides a list of amenities offered by the listing. However, they don't explicitly state the ammenity. This is meant to create a mapping table from the amenity_id to the amenity."
   ]
  },
  {
   "cell_type": "code",
   "execution_count": 58,
   "metadata": {
    "collapsed": true
   },
   "outputs": [],
   "source": [
    "import airbnblisting as airl\n",
    "from bs4 import BeautifulSoup\n",
    "import json"
   ]
  },
  {
   "cell_type": "code",
   "execution_count": 59,
   "metadata": {
    "collapsed": false
   },
   "outputs": [
    {
     "data": {
      "text/plain": [
       "<airbnblisting.AirBnBListing at 0x105d57190>"
      ]
     },
     "execution_count": 59,
     "metadata": {},
     "output_type": "execute_result"
    }
   ],
   "source": [
    "reload(airl)\n",
    "DB_NAME = 'airbnb'\n",
    "COLL_NAME = 'listings'\n",
    "\n",
    "air_listing = airl.AirBnBListing(db_name=DB_NAME, coll_name=COLL_NAME)\n",
    "air_listing"
   ]
  },
  {
   "cell_type": "code",
   "execution_count": 60,
   "metadata": {
    "collapsed": false
   },
   "outputs": [
    {
     "data": {
      "text/plain": [
       "u'https://www.airbnb.com/rooms/470028'"
      ]
     },
     "execution_count": 60,
     "metadata": {},
     "output_type": "execute_result"
    }
   ],
   "source": [
    "sample_id = '470028'\n",
    "air_listing.pull_from_db(listing_id = sample_id)\n",
    "air_listing.url"
   ]
  },
  {
   "cell_type": "code",
   "execution_count": 61,
   "metadata": {
    "collapsed": true
   },
   "outputs": [],
   "source": [
    "soup = BeautifulSoup(air_listing.r.content)"
   ]
  },
  {
   "cell_type": "code",
   "execution_count": 94,
   "metadata": {
    "collapsed": false
   },
   "outputs": [],
   "source": [
    "list_of_ammenities = []\n",
    "for x in soup.find('div', {'class':\"expandable-content-full\"}).find_all('span'):\n",
    "    list_of_ammenities.append(\\\n",
    "                              {'id':int(x['id'][::-1][:x['id'][::-1].find('-')][::-1]),\n",
    "                               'amenity':x.get_text().strip()})\n",
    "df = pd.DataFrame(list_of_ammenities)\n",
    "df = df.set_index('id').sort()\n",
    "df.head()\n",
    "df.to_csv('../data/amenities.csv', index_label='id')"
   ]
  },
  {
   "cell_type": "code",
   "execution_count": null,
   "metadata": {
    "collapsed": true
   },
   "outputs": [],
   "source": []
  }
 ],
 "metadata": {
  "kernelspec": {
   "display_name": "Python 2",
   "language": "python",
   "name": "python2"
  },
  "language_info": {
   "codemirror_mode": {
    "name": "ipython",
    "version": 2
   },
   "file_extension": ".py",
   "mimetype": "text/x-python",
   "name": "python",
   "nbconvert_exporter": "python",
   "pygments_lexer": "ipython2",
   "version": "2.7.9"
  }
 },
 "nbformat": 4,
 "nbformat_minor": 0
}
