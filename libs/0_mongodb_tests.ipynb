{
 "cells": [
  {
   "cell_type": "code",
   "execution_count": 15,
   "metadata": {
    "collapsed": true
   },
   "outputs": [],
   "source": [
    "import requests\n",
    "from pymongo import MongoClient\n",
    "import datetime"
   ]
  },
  {
   "cell_type": "code",
   "execution_count": 2,
   "metadata": {
    "collapsed": true
   },
   "outputs": [],
   "source": [
    "client = MongoClient()"
   ]
  },
  {
   "cell_type": "code",
   "execution_count": 4,
   "metadata": {
    "collapsed": false
   },
   "outputs": [
    {
     "data": {
      "text/plain": [
       "['HOST',\n",
       " 'PORT',\n",
       " '_BaseObject__get_acceptable_latency',\n",
       " '_BaseObject__get_read_pref',\n",
       " '_BaseObject__get_safe',\n",
       " '_BaseObject__get_slave_okay',\n",
       " '_BaseObject__get_tag_sets',\n",
       " '_BaseObject__get_uuid_subtype',\n",
       " '_BaseObject__get_write_concern',\n",
       " '_BaseObject__read_pref',\n",
       " '_BaseObject__safe',\n",
       " '_BaseObject__secondary_acceptable_latency_ms',\n",
       " '_BaseObject__set_acceptable_latency',\n",
       " '_BaseObject__set_options',\n",
       " '_BaseObject__set_read_pref',\n",
       " '_BaseObject__set_safe',\n",
       " '_BaseObject__set_safe_option',\n",
       " '_BaseObject__set_slave_okay',\n",
       " '_BaseObject__set_tag_sets',\n",
       " '_BaseObject__set_uuid_subtype',\n",
       " '_BaseObject__set_write_concern',\n",
       " '_BaseObject__slave_okay',\n",
       " '_BaseObject__tag_sets',\n",
       " '_BaseObject__uuid_subtype',\n",
       " '_BaseObject__write_concern',\n",
       " '_MongoClient__auth_credentials',\n",
       " '_MongoClient__auto_start_request',\n",
       " '_MongoClient__check_auth',\n",
       " '_MongoClient__check_bson_size',\n",
       " '_MongoClient__check_response_to_last_error',\n",
       " '_MongoClient__conn_timeout',\n",
       " '_MongoClient__connecting',\n",
       " '_MongoClient__connecting_lock',\n",
       " '_MongoClient__create_pool',\n",
       " '_MongoClient__cursor_manager',\n",
       " '_MongoClient__default_database_name',\n",
       " '_MongoClient__direct',\n",
       " '_MongoClient__document_class',\n",
       " '_MongoClient__ensure_member',\n",
       " '_MongoClient__event_class',\n",
       " '_MongoClient__find_node',\n",
       " '_MongoClient__future_member',\n",
       " '_MongoClient__index_cache',\n",
       " '_MongoClient__max_pool_size',\n",
       " '_MongoClient__member',\n",
       " '_MongoClient__member_property',\n",
       " '_MongoClient__net_timeout',\n",
       " '_MongoClient__nodes',\n",
       " '_MongoClient__pick_nearest',\n",
       " '_MongoClient__pool_class',\n",
       " '_MongoClient__receive_data_on_socket',\n",
       " '_MongoClient__receive_message_on_socket',\n",
       " '_MongoClient__repl',\n",
       " '_MongoClient__seeds',\n",
       " '_MongoClient__send_and_receive',\n",
       " '_MongoClient__simple_command',\n",
       " '_MongoClient__socket',\n",
       " '_MongoClient__socket_keepalive',\n",
       " '_MongoClient__ssl_ca_certs',\n",
       " '_MongoClient__ssl_cert_reqs',\n",
       " '_MongoClient__ssl_certfile',\n",
       " '_MongoClient__ssl_keyfile',\n",
       " '_MongoClient__try_node',\n",
       " '_MongoClient__tz_aware',\n",
       " '_MongoClient__use_greenlets',\n",
       " '_MongoClient__use_ssl',\n",
       " '_MongoClient__wait_queue_multiple',\n",
       " '_MongoClient__wait_queue_timeout',\n",
       " '__class__',\n",
       " '__delattr__',\n",
       " '__dict__',\n",
       " '__doc__',\n",
       " '__enter__',\n",
       " '__eq__',\n",
       " '__exit__',\n",
       " '__format__',\n",
       " '__getattr__',\n",
       " '__getattribute__',\n",
       " '__getitem__',\n",
       " '__hash__',\n",
       " '__init__',\n",
       " '__iter__',\n",
       " '__module__',\n",
       " '__ne__',\n",
       " '__new__',\n",
       " '__reduce__',\n",
       " '__reduce_ex__',\n",
       " '__repr__',\n",
       " '__setattr__',\n",
       " '__sizeof__',\n",
       " '__str__',\n",
       " '__subclasshook__',\n",
       " '__weakref__',\n",
       " '_cache_credentials',\n",
       " '_cache_index',\n",
       " '_cached',\n",
       " '_ensure_connected',\n",
       " '_exhaust_next',\n",
       " '_get_wc_override',\n",
       " '_get_write_mode',\n",
       " '_purge_credentials',\n",
       " '_purge_index',\n",
       " '_send_message',\n",
       " '_send_message_with_response',\n",
       " 'alive',\n",
       " 'auto_start_request',\n",
       " 'close',\n",
       " 'close_cursor',\n",
       " 'copy_database',\n",
       " 'database_names',\n",
       " 'disconnect',\n",
       " 'document_class',\n",
       " 'drop_database',\n",
       " 'end_request',\n",
       " 'fsync',\n",
       " 'get_default_database',\n",
       " 'get_document_class',\n",
       " 'get_lasterror_options',\n",
       " 'host',\n",
       " 'in_request',\n",
       " 'is_locked',\n",
       " 'is_mongos',\n",
       " 'is_primary',\n",
       " 'kill_cursors',\n",
       " 'max_bson_size',\n",
       " 'max_message_size',\n",
       " 'max_pool_size',\n",
       " 'max_wire_version',\n",
       " 'max_write_batch_size',\n",
       " 'min_wire_version',\n",
       " 'next',\n",
       " 'nodes',\n",
       " 'port',\n",
       " 'read_preference',\n",
       " 'safe',\n",
       " 'secondary_acceptable_latency_ms',\n",
       " 'server_info',\n",
       " 'set_cursor_manager',\n",
       " 'set_document_class',\n",
       " 'set_lasterror_options',\n",
       " 'slave_okay',\n",
       " 'start_request',\n",
       " 'tag_sets',\n",
       " 'tz_aware',\n",
       " 'unlock',\n",
       " 'unset_lasterror_options',\n",
       " 'use_greenlets',\n",
       " 'uuid_subtype',\n",
       " 'write_concern']"
      ]
     },
     "execution_count": 4,
     "metadata": {},
     "output_type": "execute_result"
    }
   ],
   "source": [
    "dir(client)"
   ]
  },
  {
   "cell_type": "code",
   "execution_count": 7,
   "metadata": {
    "collapsed": false
   },
   "outputs": [],
   "source": [
    "db = client['test']"
   ]
  },
  {
   "cell_type": "code",
   "execution_count": 9,
   "metadata": {
    "collapsed": false
   },
   "outputs": [],
   "source": [
    "tab = db['tab_test']"
   ]
  },
  {
   "cell_type": "code",
   "execution_count": 10,
   "metadata": {
    "collapsed": false
   },
   "outputs": [
    {
     "data": {
      "text/plain": [
       "Collection(Database(MongoClient('localhost', 27017), u'test'), u'tab_test')"
      ]
     },
     "execution_count": 10,
     "metadata": {},
     "output_type": "execute_result"
    }
   ],
   "source": [
    "tab"
   ]
  },
  {
   "cell_type": "code",
   "execution_count": 11,
   "metadata": {
    "collapsed": true
   },
   "outputs": [],
   "source": [
    "d = {'test_key':'test_value', 'dt':datetime.datetime.utcnow(), 'url}"
   ]
  },
  {
   "cell_type": "code",
   "execution_count": 12,
   "metadata": {
    "collapsed": false
   },
   "outputs": [
    {
     "data": {
      "text/plain": [
       "ObjectId('556fc43f0540ac3f23122f38')"
      ]
     },
     "execution_count": 12,
     "metadata": {},
     "output_type": "execute_result"
    }
   ],
   "source": [
    "tab.insert()"
   ]
  },
  {
   "cell_type": "code",
   "execution_count": 14,
   "metadata": {
    "collapsed": false
   },
   "outputs": [
    {
     "data": {
      "text/plain": [
       "{u'_id': ObjectId('556fc43f0540ac3f23122f38'), u'test_key': u'test_value'}"
      ]
     },
     "execution_count": 14,
     "metadata": {},
     "output_type": "execute_result"
    }
   ],
   "source": [
    "tab.find_one()"
   ]
  },
  {
   "cell_type": "code",
   "execution_count": null,
   "metadata": {
    "collapsed": true
   },
   "outputs": [],
   "source": []
  }
 ],
 "metadata": {
  "kernelspec": {
   "display_name": "Python 2",
   "language": "python",
   "name": "python2"
  },
  "language_info": {
   "codemirror_mode": {
    "name": "ipython",
    "version": 2
   },
   "file_extension": ".py",
   "mimetype": "text/x-python",
   "name": "python",
   "nbconvert_exporter": "python",
   "pygments_lexer": "ipython2",
   "version": "2.7.9"
  }
 },
 "nbformat": 4,
 "nbformat_minor": 0
}
